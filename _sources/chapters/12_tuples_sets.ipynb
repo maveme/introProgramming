{
 "cells": [
  {
   "cell_type": "markdown",
   "metadata": {
    "slideshow": {
     "slide_type": "slide"
    }
   },
   "source": [
    "# Tuples and Sets [^intro]\n",
    "\n",
    "[^intro]: This Jupyter Notebook is based on Chapter 10 of {cite}`Severance2016` and on Chapters 12, 13 and 19 of {cite}`thinkPython`."
   ]
  },
  {
   "cell_type": "code",
   "execution_count": 1,
   "metadata": {},
   "outputs": [],
   "source": [
    "from typing import Dict, List, Tuple\n",
    "import random"
   ]
  },
  {
   "cell_type": "markdown",
   "metadata": {},
   "source": [
    "This notebook presents three more built-in types, **tuples**, **sets**, and **relations**, and then shows how these data types and previous ones work together. \n",
    "\n",
    "Additionally, the gather and scatter operators, a useful feature for variable-length argument lists, are presented."
   ]
  },
  {
   "cell_type": "markdown",
   "metadata": {
    "slideshow": {
     "slide_type": "slide"
    }
   },
   "source": [
    "## Tuples are Immutable\n",
    "\n",
    "A **tuple** is a sequence of values. \n",
    "\n",
    "The values in a tuple can be of arbitrary types.\n",
    "\n",
    "The elements of a tuple are indexed via integers, in that they resemble lists.\n",
    "\n",
    "Tuples are *immutable*, whereas lists are *mutable*.\n",
    "\n",
    "The following cells show a tuple with 5 elements, in the second cell *parentheses* are used to denote the tuple."
   ]
  },
  {
   "cell_type": "code",
   "execution_count": 5,
   "metadata": {
    "slideshow": {
     "slide_type": "fragment"
    }
   },
   "outputs": [
    {
     "name": "stdout",
     "output_type": "stream",
     "text": [
      "('data', 'computer', 'science', 'artificial', 'intelligence')\n"
     ]
    },
    {
     "data": {
      "text/plain": [
       "tuple"
      ]
     },
     "execution_count": 5,
     "metadata": {},
     "output_type": "execute_result"
    }
   ],
   "source": [
    "t : tuple = 'data', 'computer', 'science', 'artificial', 'intelligence'\n",
    "print(t)\n",
    "type(t)"
   ]
  },
  {
   "cell_type": "markdown",
   "metadata": {
    "jupyter": {
     "source_hidden": true
    },
    "tags": []
   },
   "source": [
    "```{admonition} Do It Yourself!\n",
    ":class: seealso, dropdown\n",
    "Create a tuple with the name of some countries as elements.\n",
    "```"
   ]
  },
  {
   "cell_type": "code",
   "execution_count": null,
   "metadata": {
    "jupyter": {
     "source_hidden": true
    },
    "tags": []
   },
   "outputs": [],
   "source": [
    "# Remove this line and add your code here"
   ]
  },
  {
   "cell_type": "markdown",
   "metadata": {
    "slideshow": {
     "slide_type": "fragment"
    }
   },
   "source": [
    "If you want to create a tuple with just one element, then you have\n",
    "to add a comma as terminator"
   ]
  },
  {
   "cell_type": "code",
   "execution_count": 3,
   "metadata": {
    "slideshow": {
     "slide_type": "fragment"
    }
   },
   "outputs": [
    {
     "name": "stdout",
     "output_type": "stream",
     "text": [
      "('programming',)\n"
     ]
    },
    {
     "data": {
      "text/plain": [
       "tuple"
      ]
     },
     "execution_count": 3,
     "metadata": {},
     "output_type": "execute_result"
    }
   ],
   "source": [
    "t1 : tuple = 'programming',\n",
    "\n",
    "print(t1)\n",
    "type(t1)"
   ]
  },
  {
   "cell_type": "markdown",
   "metadata": {
    "slideshow": {
     "slide_type": "fragment"
    }
   },
   "source": [
    "A single value between parantheses is *not* a tuple."
   ]
  },
  {
   "cell_type": "code",
   "execution_count": 6,
   "metadata": {
    "slideshow": {
     "slide_type": "fragment"
    }
   },
   "outputs": [
    {
     "name": "stdout",
     "output_type": "stream",
     "text": [
      "statistics\n"
     ]
    },
    {
     "data": {
      "text/plain": [
       "str"
      ]
     },
     "execution_count": 6,
     "metadata": {},
     "output_type": "execute_result"
    }
   ],
   "source": [
    "t2 : tuple = ('statistics')\n",
    "\n",
    "print(t2)\n",
    "type(t2)"
   ]
  },
  {
   "cell_type": "markdown",
   "metadata": {
    "jupyter": {
     "source_hidden": true
    },
    "tags": []
   },
   "source": [
    "```{admonition} Do It Yourself!\n",
    ":class: seealso, dropdown\n",
    "Create a tuple with your name as single element.\n",
    "```"
   ]
  },
  {
   "cell_type": "code",
   "execution_count": null,
   "metadata": {
    "jupyter": {
     "source_hidden": true
    },
    "tags": []
   },
   "outputs": [],
   "source": [
    "# Remove this line and add your code here"
   ]
  },
  {
   "cell_type": "markdown",
   "metadata": {
    "slideshow": {
     "slide_type": "subslide"
    }
   },
   "source": [
    "You can create a tuple via the built-in function `tuple`."
   ]
  },
  {
   "cell_type": "code",
   "execution_count": 7,
   "metadata": {
    "slideshow": {
     "slide_type": "fragment"
    }
   },
   "outputs": [
    {
     "name": "stdout",
     "output_type": "stream",
     "text": [
      "()\n"
     ]
    },
    {
     "data": {
      "text/plain": [
       "tuple"
      ]
     },
     "execution_count": 7,
     "metadata": {},
     "output_type": "execute_result"
    }
   ],
   "source": [
    "t : tuple = tuple()\n",
    "\n",
    "print(t)\n",
    "type(t)"
   ]
  },
  {
   "cell_type": "markdown",
   "metadata": {
    "slideshow": {
     "slide_type": "fragment"
    }
   },
   "source": [
    "If the argument of the `tuple` function is a sequence (string, list, or tuple), the result is a tuple with the elements of the sequence."
   ]
  },
  {
   "cell_type": "code",
   "execution_count": 8,
   "metadata": {
    "slideshow": {
     "slide_type": "fragment"
    }
   },
   "outputs": [
    {
     "name": "stdout",
     "output_type": "stream",
     "text": [
      "('e', 'n', 'g', 'i', 'n', 'e', 'e', 'r', 'i', 'n', 'g')\n"
     ]
    },
    {
     "data": {
      "text/plain": [
       "tuple"
      ]
     },
     "execution_count": 8,
     "metadata": {},
     "output_type": "execute_result"
    }
   ],
   "source": [
    "t : tuple = tuple('engineering')\n",
    "\n",
    "print(t)\n",
    "type(t)"
   ]
  },
  {
   "cell_type": "markdown",
   "metadata": {
    "jupyter": {
     "source_hidden": true
    },
    "tags": []
   },
   "source": [
    "```{admonition} Do It Yourself!\n",
    ":class: seealso, dropdown\n",
    "Create a tuple out of the <i>artists</i> list.\n",
    "```"
   ]
  },
  {
   "cell_type": "code",
   "execution_count": null,
   "metadata": {
    "jupyter": {
     "source_hidden": true
    },
    "tags": []
   },
   "outputs": [],
   "source": [
    "artists = ['John Lennon', 'Amy Winehouse', 'Adele', 'Bon Jovi', 'The Rolling Stones']\n",
    "# Remove this line and add your code here"
   ]
  },
  {
   "cell_type": "markdown",
   "metadata": {
    "slideshow": {
     "slide_type": "fragment"
    }
   },
   "source": [
    "`tuple` is a built-in function, so avoid using `tuple` as variable name.\n",
    "\n",
    "Most list operators also work on tuples. The bracket operator indexes an element."
   ]
  },
  {
   "cell_type": "code",
   "execution_count": 9,
   "metadata": {
    "slideshow": {
     "slide_type": "fragment"
    }
   },
   "outputs": [
    {
     "data": {
      "text/plain": [
       "'intelligence'"
      ]
     },
     "execution_count": 9,
     "metadata": {},
     "output_type": "execute_result"
    }
   ],
   "source": [
    "t : tuple = ('data', 'computer', 'science', 'artificial', 'intelligence')\n",
    "t[len(t) - 1]"
   ]
  },
  {
   "cell_type": "markdown",
   "metadata": {
    "slideshow": {
     "slide_type": "fragment"
    }
   },
   "source": [
    "The slice operator allows you to select a range of elements."
   ]
  },
  {
   "cell_type": "code",
   "execution_count": 10,
   "metadata": {
    "slideshow": {
     "slide_type": "fragment"
    }
   },
   "outputs": [
    {
     "data": {
      "text/plain": [
       "('science', 'artificial')"
      ]
     },
     "execution_count": 10,
     "metadata": {},
     "output_type": "execute_result"
    }
   ],
   "source": [
    "t[2:4]"
   ]
  },
  {
   "cell_type": "markdown",
   "metadata": {
    "jupyter": {
     "source_hidden": true
    },
    "tags": []
   },
   "source": [
    "```{admonition} Do It Yourself!\n",
    ":class: seealso, dropdown\n",
    "Use slicing to only return the values of 'Adele' and 'Bon Jovi' from your artists tuple.\n",
    "```"
   ]
  },
  {
   "cell_type": "code",
   "execution_count": null,
   "metadata": {
    "jupyter": {
     "source_hidden": true
    },
    "tags": []
   },
   "outputs": [],
   "source": [
    "# Remove this line and add your code here"
   ]
  },
  {
   "cell_type": "markdown",
   "metadata": {
    "slideshow": {
     "slide_type": "slide"
    }
   },
   "source": [
    "Tuples are immutable, so if you try to assign a value to a tuple element, you will get an error message."
   ]
  },
  {
   "cell_type": "code",
   "execution_count": 11,
   "metadata": {
    "slideshow": {
     "slide_type": "fragment"
    }
   },
   "outputs": [
    {
     "ename": "TypeError",
     "evalue": "'tuple' object does not support item assignment",
     "output_type": "error",
     "traceback": [
      "\u001b[0;31m---------------------------------------------------------------------------\u001b[0m",
      "\u001b[0;31mTypeError\u001b[0m                                 Traceback (most recent call last)",
      "\u001b[0;32m<ipython-input-11-3ca997f3b722>\u001b[0m in \u001b[0;36m<module>\u001b[0;34m\u001b[0m\n\u001b[0;32m----> 1\u001b[0;31m \u001b[0mt\u001b[0m\u001b[0;34m[\u001b[0m\u001b[0;36m0\u001b[0m\u001b[0;34m]\u001b[0m \u001b[0;34m=\u001b[0m \u001b[0;34m'Data'\u001b[0m\u001b[0;34m\u001b[0m\u001b[0;34m\u001b[0m\u001b[0m\n\u001b[0m",
      "\u001b[0;31mTypeError\u001b[0m: 'tuple' object does not support item assignment"
     ]
    }
   ],
   "source": [
    "t[0] = 'Data'"
   ]
  },
  {
   "cell_type": "markdown",
   "metadata": {
    "slideshow": {
     "slide_type": "fragment"
    }
   },
   "source": [
    "In order to replace elements in a tuple, you have to create a new one.\n",
    "\n",
    "So, *tuples* have a strong resemblance with *strings*."
   ]
  },
  {
   "cell_type": "code",
   "execution_count": 12,
   "metadata": {
    "slideshow": {
     "slide_type": "fragment"
    }
   },
   "outputs": [
    {
     "name": "stdout",
     "output_type": "stream",
     "text": [
      "('data', 'computer', 'science', 'artificial', 'intelligence')\n",
      "('Data', 'computer', 'science', 'artificial', 'intelligence')\n"
     ]
    }
   ],
   "source": [
    "print(t)\n",
    "t : tuple = ('Data',) + t[1:]\n",
    "print(t)"
   ]
  },
  {
   "cell_type": "markdown",
   "metadata": {
    "slideshow": {
     "slide_type": "fragment"
    }
   },
   "source": [
    "This statement makes a new tuple and then makes `t` refer to it."
   ]
  },
  {
   "cell_type": "markdown",
   "metadata": {
    "jupyter": {
     "source_hidden": true
    },
    "tags": []
   },
   "source": [
    "```{admonition} Do It Yourself!\n",
    ":class: seealso, dropdown\n",
    "Add a new artists to your artists tuple.\n",
    "```"
   ]
  },
  {
   "cell_type": "code",
   "execution_count": null,
   "metadata": {
    "jupyter": {
     "source_hidden": true
    },
    "tags": []
   },
   "outputs": [],
   "source": [
    "# Remove this line and add your code here"
   ]
  },
  {
   "cell_type": "markdown",
   "metadata": {},
   "source": [
    "## Comparing Tuples\n",
    "\n",
    "The relational operators work with tuples and other sequences; Python starts by comparing\n",
    "the first element from each sequence. \n",
    "\n",
    "If they are equal, it goes on to the next elements, and\n",
    "so on, until it finds elements that differ. \n",
    "\n",
    "Subsequent elements are not considered (even if\n",
    "they are really big)."
   ]
  },
  {
   "cell_type": "code",
   "execution_count": 13,
   "metadata": {},
   "outputs": [
    {
     "data": {
      "text/plain": [
       "False"
      ]
     },
     "execution_count": 13,
     "metadata": {},
     "output_type": "execute_result"
    }
   ],
   "source": [
    "('abc',) == ('abc','def')"
   ]
  },
  {
   "cell_type": "code",
   "execution_count": 14,
   "metadata": {
    "slideshow": {
     "slide_type": "fragment"
    }
   },
   "outputs": [
    {
     "data": {
      "text/plain": [
       "True"
      ]
     },
     "execution_count": 14,
     "metadata": {},
     "output_type": "execute_result"
    }
   ],
   "source": [
    "(0, 3, 20) < (0, 3, 40000)"
   ]
  },
  {
   "cell_type": "markdown",
   "metadata": {},
   "source": [
    "The `sort()` function works in the same manner. \n",
    "\n",
    "It sorts based on the first element. \n",
    "If there is a tie it considers the second one, and so on.\n",
    "\n",
    "This feature is used within the **DSU pattern**:\n",
    "\n",
    "- **Decorate** a sequence by creating a list of tuples with sort keys preceding the elements of the sequence.\n",
    "- **Sort** the list of tuples with the `sort()` function.\n",
    "- **Undecorate** by extracting the elements of the sequence."
   ]
  },
  {
   "cell_type": "code",
   "execution_count": 15,
   "metadata": {},
   "outputs": [
    {
     "data": {
      "text/plain": [
       "[(2, 'My'),\n",
       " (6, 'tactic'),\n",
       " (2, 'is'),\n",
       " (2, 'to'),\n",
       " (4, 'talk'),\n",
       " (2, 'to'),\n",
       " (3, 'you'),\n",
       " (3, 'and'),\n",
       " (6, 'listen'),\n",
       " (2, 'to'),\n",
       " (3, 'you'),\n",
       " (3, 'and'),\n",
       " (9, 'construct'),\n",
       " (4, 'with'),\n",
       " (5, 'words'),\n",
       " (2, 'an'),\n",
       " (14, 'indestructible'),\n",
       " (6, 'bridge')]"
      ]
     },
     "execution_count": 15,
     "metadata": {},
     "output_type": "execute_result"
    }
   ],
   "source": [
    "poem : str = 'My tactic is to talk to you and listen to you and construct with words an indestructible bridge'\n",
    "\n",
    "words : list = poem.split()\n",
    "length_words : list = list()\n",
    "\n",
    "for word in words:\n",
    "    length_words.append((len(word), word))\n",
    "    \n",
    "length_words"
   ]
  },
  {
   "cell_type": "markdown",
   "metadata": {},
   "source": [
    "In this example, we want to sort words from the longest to the shortest.\n",
    "\n",
    "To do so, we consider our text (i.e. `poem`) and we create a list of words with the `split()` function.\n",
    "\n",
    "Then, we iterate over the list and we append a tuple to the `length_words` list.\n",
    "\n",
    "This tuple has the length of the word as first element, and the word itself as second element.\n",
    "With this we *decorate* the original sequence of words."
   ]
  },
  {
   "cell_type": "code",
   "execution_count": 16,
   "metadata": {},
   "outputs": [
    {
     "data": {
      "text/plain": [
       "[(14, 'indestructible'),\n",
       " (9, 'construct'),\n",
       " (6, 'tactic'),\n",
       " (6, 'listen'),\n",
       " (6, 'bridge'),\n",
       " (5, 'words'),\n",
       " (4, 'with'),\n",
       " (4, 'talk'),\n",
       " (3, 'you'),\n",
       " (3, 'you'),\n",
       " (3, 'and'),\n",
       " (3, 'and'),\n",
       " (2, 'to'),\n",
       " (2, 'to'),\n",
       " (2, 'to'),\n",
       " (2, 'is'),\n",
       " (2, 'an'),\n",
       " (2, 'My')]"
      ]
     },
     "execution_count": 16,
     "metadata": {},
     "output_type": "execute_result"
    }
   ],
   "source": [
    "length_words.sort(reverse=True)\n",
    "\n",
    "length_words"
   ]
  },
  {
   "cell_type": "markdown",
   "metadata": {},
   "source": [
    "Afterwards, we *sort* the list of tuples (i.e. `length_words`)."
   ]
  },
  {
   "cell_type": "code",
   "execution_count": 17,
   "metadata": {},
   "outputs": [
    {
     "name": "stdout",
     "output_type": "stream",
     "text": [
      "['indestructible', 'construct', 'tactic', 'listen', 'bridge', 'words', 'with', 'talk', 'you', 'you', 'and', 'and', 'to', 'to', 'to', 'is', 'an', 'My']\n"
     ]
    }
   ],
   "source": [
    "sort_words : list = list()\n",
    "\n",
    "for length, word in length_words:\n",
    "    sort_words.append(word)\n",
    "    \n",
    "print(sort_words)"
   ]
  },
  {
   "cell_type": "markdown",
   "metadata": {},
   "source": [
    "Finally, we iterate over the list of tuples (i.e. `length_words`) to *undecorate* te sequence, and we append each word to the new list `sort_words`."
   ]
  },
  {
   "cell_type": "markdown",
   "metadata": {
    "jupyter": {
     "source_hidden": true
    },
    "tags": []
   },
   "source": [
    "```{admonition} Do It Yourself!\n",
    ":class: seealso, dropdown\n",
    "Let's consider again the <i>poem</i> variable. We want to sort its words based on the number of times that the letter <i>a</i> appears on it. Use the DSU pattern.\n",
    "```"
   ]
  },
  {
   "cell_type": "code",
   "execution_count": null,
   "metadata": {
    "jupyter": {
     "source_hidden": true
    },
    "tags": []
   },
   "outputs": [],
   "source": [
    "poem = 'My tactic is to talk to you and listen to you and construct with words an indestructible bridge'\n",
    "# Remove this line and add your code here"
   ]
  },
  {
   "cell_type": "markdown",
   "metadata": {
    "slideshow": {
     "slide_type": "slide"
    }
   },
   "source": [
    "## Tuple Assignment\n",
    "\n",
    "Python allows us to have a tuple on the left side of an assignment.\n",
    "\n",
    "In this way, we can assign more than one variable at a time.\n",
    "\n",
    "We usually omit the use of parentheses on the left side of an assignment statement."
   ]
  },
  {
   "cell_type": "code",
   "execution_count": 18,
   "metadata": {},
   "outputs": [
    {
     "name": "stdout",
     "output_type": "stream",
     "text": [
      "Data\n",
      "Science\n"
     ]
    }
   ],
   "source": [
    "my_list : list = ['Data', 'Science']\n",
    "\n",
    "a, b = my_list\n",
    "\n",
    "print(a)\n",
    "print(b)"
   ]
  },
  {
   "cell_type": "markdown",
   "metadata": {},
   "source": [
    "If you want to swap the value of two variables you can use a temporary variable."
   ]
  },
  {
   "cell_type": "code",
   "execution_count": 21,
   "metadata": {
    "slideshow": {
     "slide_type": "fragment"
    }
   },
   "outputs": [
    {
     "name": "stdout",
     "output_type": "stream",
     "text": [
      "a = Computer\n",
      "b = Data\n"
     ]
    }
   ],
   "source": [
    "a : str = 'Data'\n",
    "b : str = 'Computer'\n",
    "\n",
    "tmp : str = a\n",
    "a = b\n",
    "b = tmp\n",
    "\n",
    "print('a =', a)\n",
    "print('b =', b)"
   ]
  },
  {
   "cell_type": "markdown",
   "metadata": {
    "slideshow": {
     "slide_type": "fragment"
    }
   },
   "source": [
    "You can also use the **tuple assignment**."
   ]
  },
  {
   "cell_type": "code",
   "execution_count": 22,
   "metadata": {
    "slideshow": {
     "slide_type": "fragment"
    }
   },
   "outputs": [
    {
     "name": "stdout",
     "output_type": "stream",
     "text": [
      "('Computer', 'Data')\n",
      "a = Computer\n",
      "b = Data\n"
     ]
    }
   ],
   "source": [
    "a : str = 'Data'\n",
    "b : str = 'Computer'\n",
    "\n",
    "print((b, a))\n",
    "\n",
    "(a, b) = (b, a)\n",
    "\n",
    "print('a =', a)\n",
    "print('b =', b)"
   ]
  },
  {
   "cell_type": "markdown",
   "metadata": {
    "slideshow": {
     "slide_type": "fragment"
    }
   },
   "source": [
    "The left side is a tuple of variables; the right side is a tuple of expressions. \n",
    "\n",
    "Each value is assigned to its respective variable. \n",
    "\n",
    "All the expressions on the right side are evaluated\n",
    "before any of the assignments.\n",
    "\n",
    "The tuple assignment requires that both sides have the same number of elements.\n"
   ]
  },
  {
   "cell_type": "markdown",
   "metadata": {},
   "source": [
    "````{margin}\n",
    "```{admonition} EXTRA\n",
    "Note that we are creating a new tuple and not updating an existing tuple.\n",
    "```\n",
    "````"
   ]
  },
  {
   "cell_type": "code",
   "execution_count": 23,
   "metadata": {
    "slideshow": {
     "slide_type": "fragment"
    }
   },
   "outputs": [
    {
     "name": "stdout",
     "output_type": "stream",
     "text": [
      "Computer\n"
     ]
    }
   ],
   "source": [
    "a, b = 'Data', 'Computer'\n",
    "\n",
    "print(b)"
   ]
  },
  {
   "cell_type": "markdown",
   "metadata": {
    "slideshow": {
     "slide_type": "fragment"
    }
   },
   "source": [
    "More generally, the right side can be any kind of sequence (string, list or tuple). \n",
    "\n",
    "For example,\n",
    "to split an email address into a user name and a domain, you could write:"
   ]
  },
  {
   "cell_type": "code",
   "execution_count": 24,
   "metadata": {
    "slideshow": {
     "slide_type": "fragment"
    }
   },
   "outputs": [
    {
     "name": "stdout",
     "output_type": "stream",
     "text": [
      "python.org\n"
     ]
    }
   ],
   "source": [
    "uname, domain = 'monty@python.org'.split('@')\n",
    "\n",
    "print(domain)"
   ]
  },
  {
   "cell_type": "markdown",
   "metadata": {
    "slideshow": {
     "slide_type": "fragment"
    }
   },
   "source": [
    "The return value from split is a list with two elements; the first element is assigned to `uname`, the second to `domain`."
   ]
  },
  {
   "cell_type": "code",
   "execution_count": 25,
   "metadata": {
    "slideshow": {
     "slide_type": "fragment"
    }
   },
   "outputs": [
    {
     "name": "stdout",
     "output_type": "stream",
     "text": [
      "uname = monty\n",
      "domain = python.org\n"
     ]
    }
   ],
   "source": [
    "print('uname =', uname)\n",
    "print('domain =', domain)"
   ]
  },
  {
   "cell_type": "markdown",
   "metadata": {
    "jupyter": {
     "source_hidden": true
    },
    "tags": []
   },
   "source": [
    "```{admonition} Do It Yourself!\n",
    ":class: seealso, dropdown\n",
    "Assign the elements of the list <i>artist</i> to a tuple with three elements. Then, rearrange the tuple so we get them in the right order, i.e. The, Rolling, Stones.\n",
    "```"
   ]
  },
  {
   "cell_type": "code",
   "execution_count": null,
   "metadata": {
    "jupyter": {
     "source_hidden": true
    },
    "tags": []
   },
   "outputs": [],
   "source": [
    "artist = ['Rolling', 'Stones', 'The']\n",
    "# Remove this line and add your code here"
   ]
  },
  {
   "cell_type": "markdown",
   "metadata": {
    "slideshow": {
     "slide_type": "slide"
    }
   },
   "source": [
    "## Tuples as Return Values\n",
    "\n",
    "A function/method can return only one single value.\n",
    "\n",
    "By means of a tuple a function can return a collection of values.\n",
    "\n",
    "Suppose you want to divide two integers and compute the quotient and remainder. \n",
    "\n",
    "It is inefficient to compute `x / y` and then `x % y`. \n",
    "\n",
    "It is better to compute them both at the same time via the function `divmod`."
   ]
  },
  {
   "cell_type": "code",
   "execution_count": 26,
   "metadata": {
    "slideshow": {
     "slide_type": "fragment"
    }
   },
   "outputs": [
    {
     "name": "stdout",
     "output_type": "stream",
     "text": [
      "quotient = 2\n",
      "remainder = 1\n"
     ]
    }
   ],
   "source": [
    "t : tuple = divmod(7, 3)\n",
    "(quot, rem) = t\n",
    "print('quotient =', quot)\n",
    "print('remainder =', rem)"
   ]
  },
  {
   "cell_type": "markdown",
   "metadata": {
    "slideshow": {
     "slide_type": "fragment"
    }
   },
   "source": [
    "Using the tuple assignment you can obtain the results separately."
   ]
  },
  {
   "cell_type": "code",
   "execution_count": 27,
   "metadata": {
    "slideshow": {
     "slide_type": "fragment"
    }
   },
   "outputs": [
    {
     "name": "stdout",
     "output_type": "stream",
     "text": [
      "quotient = 2\n",
      "remainder = 1\n"
     ]
    }
   ],
   "source": [
    "(quot, rem) = divmod(7, 3)\n",
    "print('quotient =', quot)\n",
    "print('remainder =', rem)"
   ]
  },
  {
   "cell_type": "markdown",
   "metadata": {
    "slideshow": {
     "slide_type": "slide"
    }
   },
   "source": [
    "The calculation of the `min` and `max` can be captured as follows, where\n",
    "`min` and `max` are built-in functions for finding the smallest and largest elements of a sequence."
   ]
  },
  {
   "cell_type": "code",
   "execution_count": 28,
   "metadata": {
    "slideshow": {
     "slide_type": "fragment"
    }
   },
   "outputs": [
    {
     "data": {
      "text/plain": [
       "(1, 9)"
      ]
     },
     "execution_count": 28,
     "metadata": {},
     "output_type": "execute_result"
    }
   ],
   "source": [
    "from typing import List, Tuple\n",
    "\n",
    "def min_max(t : List[int]) -> Tuple:\n",
    "    \"\"\"given a list return the min and the max value in the list\n",
    "    \"\"\"\n",
    "    \n",
    "    return min(t), max(t)\n",
    "\n",
    "min_max([2,5,1,7,4,9])"
   ]
  },
  {
   "cell_type": "markdown",
   "metadata": {
    "jupyter": {
     "source_hidden": true
    },
    "tags": []
   },
   "source": [
    "```{admonition} Do It Yourself!\n",
    ":class: seealso, dropdown\n",
    "Create a function that takes a list of strings and returns the shortest and longest words as a tuple.\n",
    "```"
   ]
  },
  {
   "cell_type": "code",
   "execution_count": null,
   "metadata": {
    "jupyter": {
     "source_hidden": true
    },
    "tags": []
   },
   "outputs": [],
   "source": [
    "words = ['What', 'matters', 'in', 'life', 'is', 'not', 'what', 'happens', 'to',\n",
    "         'you', 'but', 'what', 'you', 'remember', 'and', 'how', 'you', 'remember', 'it']\n",
    "# Remove this line and add your code here"
   ]
  },
  {
   "cell_type": "markdown",
   "metadata": {
    "slideshow": {
     "slide_type": "slide"
    }
   },
   "source": [
    "## Variable-length Argument Tuples\n",
    "\n",
    "Functions/methods can take a variable number of arguments.\n",
    "\n",
    "A parameter name that starts with a `*` **gathers** arguments into a tuple.\n",
    "\n",
    "The `gather` argument can have any name, but often the name `args` is used."
   ]
  },
  {
   "cell_type": "code",
   "execution_count": 29,
   "metadata": {
    "slideshow": {
     "slide_type": "fragment"
    }
   },
   "outputs": [
    {
     "name": "stdout",
     "output_type": "stream",
     "text": [
      "(1, True, '42')\n"
     ]
    }
   ],
   "source": [
    "def print_all(*args : any) -> None:\n",
    "    print(args)\n",
    "    \n",
    "print_all(1, True, '42')"
   ]
  },
  {
   "cell_type": "markdown",
   "metadata": {
    "slideshow": {
     "slide_type": "fragment"
    }
   },
   "source": [
    "The inverse of the gather is **scatter**, it splits the tuple in separate elements."
   ]
  },
  {
   "cell_type": "code",
   "execution_count": 31,
   "metadata": {
    "slideshow": {
     "slide_type": "fragment"
    }
   },
   "outputs": [
    {
     "ename": "TypeError",
     "evalue": "divmod expected 2 arguments, got 1",
     "output_type": "error",
     "traceback": [
      "\u001b[0;31m---------------------------------------------------------------------------\u001b[0m",
      "\u001b[0;31mTypeError\u001b[0m                                 Traceback (most recent call last)",
      "\u001b[0;32m<ipython-input-31-97f09471dc09>\u001b[0m in \u001b[0;36m<module>\u001b[0;34m\u001b[0m\n\u001b[1;32m      3\u001b[0m \u001b[0;31m#type(t)\u001b[0m\u001b[0;34m\u001b[0m\u001b[0;34m\u001b[0m\u001b[0;34m\u001b[0m\u001b[0m\n\u001b[1;32m      4\u001b[0m \u001b[0;34m\u001b[0m\u001b[0m\n\u001b[0;32m----> 5\u001b[0;31m \u001b[0mdivmod\u001b[0m\u001b[0;34m(\u001b[0m\u001b[0mt\u001b[0m\u001b[0;34m)\u001b[0m\u001b[0;34m\u001b[0m\u001b[0;34m\u001b[0m\u001b[0m\n\u001b[0m",
      "\u001b[0;31mTypeError\u001b[0m: divmod expected 2 arguments, got 1"
     ]
    }
   ],
   "source": [
    "t : tuple = (7, 3)\n",
    "\n",
    "#type(t)\n",
    "\n",
    "divmod(t)"
   ]
  },
  {
   "cell_type": "code",
   "execution_count": 32,
   "metadata": {
    "slideshow": {
     "slide_type": "fragment"
    }
   },
   "outputs": [
    {
     "data": {
      "text/plain": [
       "(2, 1)"
      ]
     },
     "execution_count": 32,
     "metadata": {},
     "output_type": "execute_result"
    }
   ],
   "source": [
    "t : tuple = (7, 3)\n",
    "\n",
    "divmod(*t)"
   ]
  },
  {
   "cell_type": "markdown",
   "metadata": {
    "slideshow": {
     "slide_type": "fragment"
    }
   },
   "source": [
    "A number of built-in functions use variable-length argument tuples."
   ]
  },
  {
   "cell_type": "code",
   "execution_count": 33,
   "metadata": {
    "slideshow": {
     "slide_type": "fragment"
    }
   },
   "outputs": [
    {
     "data": {
      "text/plain": [
       "25"
      ]
     },
     "execution_count": 33,
     "metadata": {},
     "output_type": "execute_result"
    }
   ],
   "source": [
    "max(1, 4, 7, 1, 25, 8)"
   ]
  },
  {
   "cell_type": "markdown",
   "metadata": {
    "slideshow": {
     "slide_type": "fragment"
    }
   },
   "source": [
    "An exception is the `sum` function."
   ]
  },
  {
   "cell_type": "code",
   "execution_count": 34,
   "metadata": {},
   "outputs": [
    {
     "data": {
      "text/plain": [
       "6"
      ]
     },
     "execution_count": 34,
     "metadata": {},
     "output_type": "execute_result"
    }
   ],
   "source": [
    "sum((1, 2, 3), 0)"
   ]
  },
  {
   "cell_type": "code",
   "execution_count": 35,
   "metadata": {
    "slideshow": {
     "slide_type": "fragment"
    }
   },
   "outputs": [
    {
     "name": "stdout",
     "output_type": "stream",
     "text": [
      "<class 'tuple'>\n",
      "45\n"
     ]
    }
   ],
   "source": [
    "def sum_all(*args : Tuple) -> int:\n",
    "    print(type(args))\n",
    "    return sum(args, 0)\n",
    "    \n",
    "x = sum_all(1,2,3,4,5,6,7,8,9)\n",
    "print(x)"
   ]
  },
  {
   "cell_type": "markdown",
   "metadata": {
    "jupyter": {
     "source_hidden": true
    },
    "tags": []
   },
   "source": [
    "```{admonition} Do It Yourself!\n",
    ":class: seealso, dropdown\n",
    "Create a function that receives a variable number of arguments and multiples all received items. Then, it returns the result.\n",
    "```"
   ]
  },
  {
   "cell_type": "code",
   "execution_count": null,
   "metadata": {
    "jupyter": {
     "source_hidden": true
    },
    "tags": []
   },
   "outputs": [],
   "source": [
    "# Remove this line and add your code here"
   ]
  },
  {
   "cell_type": "markdown",
   "metadata": {
    "slideshow": {
     "slide_type": "slide"
    }
   },
   "source": [
    "## Lists and Tuples\n",
    "\n",
    "`zip` is a built-in function that takes two or more sequences and returns a list of tuples where each tuple contains one element from each sequence. \n",
    "\n",
    "The name of the function refers to a zipper."
   ]
  },
  {
   "cell_type": "code",
   "execution_count": 45,
   "metadata": {
    "slideshow": {
     "slide_type": "fragment"
    }
   },
   "outputs": [
    {
     "name": "stdout",
     "output_type": "stream",
     "text": [
      "<zip object at 0x7fb568886640>\n"
     ]
    }
   ],
   "source": [
    "s = 'abc'\n",
    "t = [0, 1, 2]\n",
    "\n",
    "z = zip(s, t)\n",
    "print(z)"
   ]
  },
  {
   "cell_type": "markdown",
   "metadata": {
    "slideshow": {
     "slide_type": "fragment"
    }
   },
   "source": [
    "The result of the `zip` is a **zip object** that knows how to iterate through the elements.\n",
    "\n",
    "The best way is to use a `for` loop."
   ]
  },
  {
   "cell_type": "code",
   "execution_count": 52,
   "metadata": {
    "slideshow": {
     "slide_type": "fragment"
    }
   },
   "outputs": [
    {
     "name": "stdout",
     "output_type": "stream",
     "text": [
      "('a', 0)\n",
      "('b', 1)\n",
      "('c', 2)\n"
     ]
    }
   ],
   "source": [
    "for pair in zip(s, t):\n",
    "    print(pair)"
   ]
  },
  {
   "cell_type": "markdown",
   "metadata": {
    "slideshow": {
     "slide_type": "fragment"
    }
   },
   "source": [
    "Observe the subtle difference between the code in the cell above and below, by running the cell below *twice* in a row.\n",
    "\n",
    "The variable `z` does not contain a value representing the list of tuples, but the zip object."
   ]
  },
  {
   "cell_type": "code",
   "execution_count": 53,
   "metadata": {
    "slideshow": {
     "slide_type": "fragment"
    }
   },
   "outputs": [],
   "source": [
    "for pair in z:\n",
    "    print(pair)"
   ]
  },
  {
   "cell_type": "code",
   "execution_count": 48,
   "metadata": {},
   "outputs": [
    {
     "ename": "TypeError",
     "evalue": "'zip' object is not subscriptable",
     "output_type": "error",
     "traceback": [
      "\u001b[0;31m---------------------------------------------------------------------------\u001b[0m",
      "\u001b[0;31mTypeError\u001b[0m                                 Traceback (most recent call last)",
      "\u001b[0;32m<ipython-input-48-6adc0b3faf39>\u001b[0m in \u001b[0;36m<module>\u001b[0;34m\u001b[0m\n\u001b[0;32m----> 1\u001b[0;31m \u001b[0mz\u001b[0m\u001b[0;34m[\u001b[0m\u001b[0;36m0\u001b[0m\u001b[0;34m]\u001b[0m\u001b[0;34m\u001b[0m\u001b[0;34m\u001b[0m\u001b[0m\n\u001b[0m",
      "\u001b[0;31mTypeError\u001b[0m: 'zip' object is not subscriptable"
     ]
    }
   ],
   "source": [
    "z[0]"
   ]
  },
  {
   "cell_type": "markdown",
   "metadata": {
    "slideshow": {
     "slide_type": "slide"
    }
   },
   "source": [
    "A zip object is an iterator that iterates through a sequence.\n",
    "\n",
    "There are 2 major differences:\n",
    "* indexing an element is not supported\n",
    "* the iteration cannot be repeated\n",
    "\n",
    "If you want to use list operators and methods, you can use a zip object to make a list."
   ]
  },
  {
   "cell_type": "code",
   "execution_count": 54,
   "metadata": {
    "slideshow": {
     "slide_type": "fragment"
    }
   },
   "outputs": [
    {
     "data": {
      "text/plain": [
       "[('a', 0), ('b', 1), ('c', 2)]"
      ]
     },
     "execution_count": 54,
     "metadata": {},
     "output_type": "execute_result"
    }
   ],
   "source": [
    "list(zip(s, t))"
   ]
  },
  {
   "cell_type": "markdown",
   "metadata": {
    "slideshow": {
     "slide_type": "fragment"
    }
   },
   "source": [
    "The result is a list of tuples consisting of a character and a digit.\n",
    "\n",
    "If the lists you are zipping have not the same length, the result is a zip object with the length of the shortest list."
   ]
  },
  {
   "cell_type": "code",
   "execution_count": null,
   "metadata": {
    "slideshow": {
     "slide_type": "fragment"
    }
   },
   "outputs": [],
   "source": [
    "list(zip('Data', 'Computer'))"
   ]
  },
  {
   "cell_type": "markdown",
   "metadata": {
    "slideshow": {
     "slide_type": "slide"
    }
   },
   "source": [
    "You can use **tuple assignment** in a `for` loop to traverse a list of tuples."
   ]
  },
  {
   "cell_type": "code",
   "execution_count": 55,
   "metadata": {
    "slideshow": {
     "slide_type": "fragment"
    }
   },
   "outputs": [
    {
     "name": "stdout",
     "output_type": "stream",
     "text": [
      "0 a\n",
      "1 b\n",
      "2 c\n"
     ]
    }
   ],
   "source": [
    "t : list = [('a', 0), ('b', 1), ('c', 2)]\n",
    "\n",
    "for letter, number in t:\n",
    "    print(number, letter)"
   ]
  },
  {
   "cell_type": "markdown",
   "metadata": {
    "slideshow": {
     "slide_type": "fragment"
    }
   },
   "source": [
    "If you combine `zip`, a `for` loop and a tuple assignment, you get a useful idiom for traversing two (or more) sequences at the same time. \n",
    "\n",
    "The function `has_match()` takes two sequences, `t1` and `t2`, and returns `True` if there is an index `i` such that `t1[i] == t2[i]`."
   ]
  },
  {
   "cell_type": "code",
   "execution_count": 58,
   "metadata": {
    "slideshow": {
     "slide_type": "fragment"
    }
   },
   "outputs": [
    {
     "data": {
      "text/plain": [
       "True"
      ]
     },
     "execution_count": 58,
     "metadata": {},
     "output_type": "execute_result"
    }
   ],
   "source": [
    "from typing import List\n",
    "\n",
    "def has_perfect_match(t1 : List[any], t2 : List[any]) -> bool:\n",
    "    \"\"\"checks whether there is at least one matching element\n",
    "    \"\"\"\n",
    "    \n",
    "    for x, y in zip(t1, t2):\n",
    "        if x == y:\n",
    "            return True\n",
    "    return False\n",
    "\n",
    "has_perfect_match(['Data', 'Science', 'Statistics'], ['Computer', 'Science', \"Programming\"])"
   ]
  },
  {
   "cell_type": "markdown",
   "metadata": {},
   "source": [
    "The following cell shows the code if you want the index to be returned instead of a boolean value."
   ]
  },
  {
   "cell_type": "code",
   "execution_count": 59,
   "metadata": {
    "slideshow": {
     "slide_type": "fragment"
    }
   },
   "outputs": [
    {
     "data": {
      "text/plain": [
       "1"
      ]
     },
     "execution_count": 59,
     "metadata": {},
     "output_type": "execute_result"
    }
   ],
   "source": [
    "from typing import List\n",
    "\n",
    "def has_match(t1 : List[any], t2 : List[any]) -> int:\n",
    "    \"\"\"checks whether there is at least one matching element\n",
    "    \"\"\"\n",
    "    i = 0\n",
    "    for x, y in zip(t1, t2):\n",
    "        if x == y:\n",
    "            return i\n",
    "        i += 1\n",
    "    return -1\n",
    "\n",
    "has_match(['Data', 'Science', 'Statistics'], ['Computer', 'Science', \"Programming\"])"
   ]
  },
  {
   "cell_type": "markdown",
   "metadata": {
    "jupyter": {
     "source_hidden": true
    },
    "tags": []
   },
   "source": [
    "```{admonition} Do It Yourself!\n",
    ":class: seealso, dropdown\n",
    "Use the `zip` function to create a list of tuples out of `nums1` and `nums2`. Then, iterate over the zip object and return True if there is at least one pair where the first number is divisible by the second one, False otherwise.\n",
    "```"
   ]
  },
  {
   "cell_type": "code",
   "execution_count": null,
   "metadata": {
    "jupyter": {
     "source_hidden": true
    },
    "tags": []
   },
   "outputs": [],
   "source": [
    "nums1 = [2, 3, 4, 4, 5]\n",
    "nums2 = [5, 5, 3, 2, 5]\n",
    "# Remove this line and add your code here"
   ]
  },
  {
   "cell_type": "markdown",
   "metadata": {
    "slideshow": {
     "slide_type": "slide"
    }
   },
   "source": [
    "If you need to traverse the elements of a sequence and their indices, you can use the built-in function `enumerate`.\n",
    "\n",
    "The `enumerate` function has the same characteristics as the `zip` function.\n",
    "\n",
    "It creates an **enumerate object** of which the elements can be accessed via iteration. \n",
    "\n",
    "Each pair contains an index (starting from 0) and an element from the given sequence."
   ]
  },
  {
   "cell_type": "code",
   "execution_count": 60,
   "metadata": {
    "slideshow": {
     "slide_type": "fragment"
    }
   },
   "outputs": [
    {
     "name": "stdout",
     "output_type": "stream",
     "text": [
      "0 a\n",
      "1 b\n",
      "2 c\n",
      "3 d\n",
      "4 e\n",
      "5 f\n"
     ]
    }
   ],
   "source": [
    "for index, element in enumerate('abcdef'):\n",
    "    print(index, element)"
   ]
  },
  {
   "cell_type": "markdown",
   "metadata": {
    "jupyter": {
     "source_hidden": true
    },
    "tags": []
   },
   "source": [
    "```{admonition} Do It Yourself!\n",
    ":class: seealso, dropdown\n",
    "Create a function that receives a list of integers and an integer as parameters. Use the <i>enumerate</i> function to traverse that list and return the position of the first number that is equal to the one received as parameter. If the number is not part of the list return -1.\n",
    "```"
   ]
  },
  {
   "cell_type": "code",
   "execution_count": null,
   "metadata": {
    "jupyter": {
     "source_hidden": true
    },
    "tags": []
   },
   "outputs": [],
   "source": [
    "# Remove this line and add your code here"
   ]
  },
  {
   "cell_type": "markdown",
   "metadata": {
    "slideshow": {
     "slide_type": "slide"
    }
   },
   "source": [
    "## Dictionaries and Tuples\n",
    "\n",
    "Dictionaries are very handy to store values using keys. \n",
    "\n",
    "You can transform a dictionary into a **dict_items object**, which is similar to the **zip object** and the **enumerate object**.\n",
    "\n",
    "You can transform a dictionary into a `dict_items` object via the built-in function `items`. \n",
    "\n",
    "This function returns a sequence of tuples, where each tuple is a key-value pair."
   ]
  },
  {
   "cell_type": "code",
   "execution_count": 61,
   "metadata": {
    "slideshow": {
     "slide_type": "fragment"
    }
   },
   "outputs": [
    {
     "data": {
      "text/plain": [
       "dict_items([('a', 0), ('b', 1), ('c', 2)])"
      ]
     },
     "execution_count": 61,
     "metadata": {},
     "output_type": "execute_result"
    }
   ],
   "source": [
    "d : dict = {'a': 0, 'b': 1, 'c': 2}\n",
    "\n",
    "t = d.items()\n",
    "t    "
   ]
  },
  {
   "cell_type": "markdown",
   "metadata": {
    "slideshow": {
     "slide_type": "fragment"
    }
   },
   "source": [
    "The `dict_items` is an iterator that iterates over the key-value pairs."
   ]
  },
  {
   "cell_type": "code",
   "execution_count": 63,
   "metadata": {
    "slideshow": {
     "slide_type": "fragment"
    }
   },
   "outputs": [
    {
     "name": "stdout",
     "output_type": "stream",
     "text": [
      "a 0\n",
      "b 1\n",
      "c 2\n"
     ]
    }
   ],
   "source": [
    "for key, value in d.items():\n",
    "    print(key, value)"
   ]
  },
  {
   "cell_type": "markdown",
   "metadata": {
    "slideshow": {
     "slide_type": "fragment"
    }
   },
   "source": [
    "You can use a list of tuples to create a dictionary."
   ]
  },
  {
   "cell_type": "code",
   "execution_count": 64,
   "metadata": {
    "slideshow": {
     "slide_type": "fragment"
    }
   },
   "outputs": [
    {
     "data": {
      "text/plain": [
       "{'a': 0, 'c': 2, 'b': 1}"
      ]
     },
     "execution_count": 64,
     "metadata": {},
     "output_type": "execute_result"
    }
   ],
   "source": [
    "t : list = [('a', 0), ('c', 2), ('b', 1)]\n",
    "d : dict = dict(t)\n",
    "d"
   ]
  },
  {
   "cell_type": "markdown",
   "metadata": {
    "slideshow": {
     "slide_type": "fragment"
    }
   },
   "source": [
    "Combining `dict` with `zip` yields a concise way to create a dictionary."
   ]
  },
  {
   "cell_type": "code",
   "execution_count": 65,
   "metadata": {
    "slideshow": {
     "slide_type": "fragment"
    }
   },
   "outputs": [
    {
     "data": {
      "text/plain": [
       "{'a': 0, 'b': 1, 'c': 2, 'd': 3, 'e': 4, 'f': 5}"
      ]
     },
     "execution_count": 65,
     "metadata": {},
     "output_type": "execute_result"
    }
   ],
   "source": [
    "d : dict = dict(zip('abcdef', range(6)))\n",
    "d"
   ]
  },
  {
   "cell_type": "markdown",
   "metadata": {
    "slideshow": {
     "slide_type": "slide"
    }
   },
   "source": [
    "The dictionary method `update`  takes a list of tuples and adds them, as key-value pairs, to an existing dictionary.\n",
    "\n",
    "It is common to use tuples as keys in dictionaries (primarily because you cannot use lists). \n",
    "\n",
    "For example, a telephone directory might map from last-name, first-name pairs to telephone numbers. \n",
    "\n",
    "Assuming that we have defined `last`, `first` and `number`, we could write the following statement."
   ]
  },
  {
   "cell_type": "code",
   "execution_count": null,
   "metadata": {
    "slideshow": {
     "slide_type": "fragment"
    }
   },
   "outputs": [],
   "source": [
    "directory : dict = dict()\n",
    "directory['van den Brand', 'Mark'] = '2727'\n",
    "directory['Ochoa', 'Lina'] = '2728'\n",
    "directory['Seraj', 'Mazyar'] = '2729'\n",
    "\n",
    "for last, first in directory:\n",
    "    print(first, last, directory[last, first])"
   ]
  },
  {
   "cell_type": "markdown",
   "metadata": {
    "jupyter": {
     "source_hidden": true
    },
    "tags": []
   },
   "source": [
    "```{admonition} Do It Yourself!\n",
    ":class: seealso, dropdown\n",
    "Take the `eng_sp` dictionary and based on it create the `sp_eng` which swaps english words by spanish words. For instance, instead of having 'hello' : 'hola', the `sp_eng` dictionary will have 'hola' : 'hello'. Use the `items` method to achieve this goal.\n",
    "```"
   ]
  },
  {
   "cell_type": "code",
   "execution_count": null,
   "metadata": {
    "jupyter": {
     "source_hidden": true
    },
    "tags": []
   },
   "outputs": [],
   "source": [
    "eng_sp = {'hello' : 'hola', 'dog' : 'perro', 'cat': 'gato', 'love': 'amor', 'sport' : 'deporte'}\n",
    "# Remove this line and add your code here"
   ]
  },
  {
   "cell_type": "markdown",
   "metadata": {
    "slideshow": {
     "slide_type": "slide"
    }
   },
   "source": [
    "## Sequences of Sequences\n",
    "\n",
    "In many contexts, the different kinds of sequences (strings, lists and tuples) can be used interchangeably. \n",
    "\n",
    "So how should you choose one over the others?"
   ]
  },
  {
   "cell_type": "markdown",
   "metadata": {
    "slideshow": {
     "slide_type": "fragment"
    }
   },
   "source": [
    "**Option 1: Strings**\n",
    "\n",
    "To start with the obvious, strings are more limited than other sequences because the elements have to be characters. \n",
    "\n",
    "They are also immutable. \n",
    "\n",
    "If you need the ability to change the\n",
    "characters in a string (as opposed to creating a new string), you might want to use a list of characters instead."
   ]
  },
  {
   "cell_type": "markdown",
   "metadata": {
    "slideshow": {
     "slide_type": "fragment"
    }
   },
   "source": [
    "**Option 2: Lists**\n",
    "\n",
    "Lists are more common than tuples, mostly because they are mutable."
   ]
  },
  {
   "cell_type": "markdown",
   "metadata": {},
   "source": [
    "**Option 3: Tuples**\n",
    "\n",
    "There are a few cases where you might prefer tuples over lists:\n",
    "1. In some contexts, like a return statement, it is syntactically simpler to create a tuple than a list.\n",
    "2. If you want to use a sequence as a dictionary key, you have to use an immutable type like a tuple or string.\n",
    "3. If you are passing a sequence as an argument to a function, using tuples reduces the potential for unexpected behavior due to aliasing."
   ]
  },
  {
   "cell_type": "markdown",
   "metadata": {
    "slideshow": {
     "slide_type": "fragment"
    }
   },
   "source": [
    "Because tuples are immutable, they do not provide methods like `sort` and `reverse`, which modify existing lists. \n",
    "\n",
    "But Python provides the built-in function `sorted`, which takes any\n",
    "sequence and returns a new list with the same elements in sorted order, and `reversed`,\n",
    "which takes a sequence and returns an iterator that traverses the list in reverse order."
   ]
  },
  {
   "cell_type": "markdown",
   "metadata": {},
   "source": [
    "## Sets\n",
    "\n",
    "Python provides another **mutable** built-in type known as **set**.\n",
    "\n",
    "A set is an **unordered** collection of elements that has **no duplicated** items.\n",
    "\n",
    "We can create a set by listing its elements within curly braces (i.e. `{}`)."
   ]
  },
  {
   "cell_type": "code",
   "execution_count": 66,
   "metadata": {},
   "outputs": [
    {
     "data": {
      "text/plain": [
       "{'apple', 'banana', 'mango', 'papaya', 'pear'}"
      ]
     },
     "execution_count": 66,
     "metadata": {},
     "output_type": "execute_result"
    }
   ],
   "source": [
    "fruits : set = {'apple', 'pear', 'papaya', 'mango', 'banana', 'apple'}\n",
    "fruits"
   ]
  },
  {
   "cell_type": "markdown",
   "metadata": {},
   "source": [
    "Notice that we added `'apple'` twice but the set only considers one occurrence."
   ]
  },
  {
   "cell_type": "markdown",
   "metadata": {},
   "source": [
    "To create a set we can use the `set()` function."
   ]
  },
  {
   "cell_type": "code",
   "execution_count": 67,
   "metadata": {},
   "outputs": [
    {
     "data": {
      "text/plain": [
       "set"
      ]
     },
     "execution_count": 67,
     "metadata": {},
     "output_type": "execute_result"
    }
   ],
   "source": [
    "candies : set = set()\n",
    "type(candies)"
   ]
  },
  {
   "cell_type": "markdown",
   "metadata": {},
   "source": [
    "To add a new element to the set, we use the `add()` method."
   ]
  },
  {
   "cell_type": "code",
   "execution_count": 69,
   "metadata": {},
   "outputs": [
    {
     "data": {
      "text/plain": [
       "{'chocolate', 'marshmallow'}"
      ]
     },
     "execution_count": 69,
     "metadata": {},
     "output_type": "execute_result"
    }
   ],
   "source": [
    "candies.add('chocolate')\n",
    "candies.add('chocolate')\n",
    "candies.add('marshmallow')\n",
    "candies"
   ]
  },
  {
   "cell_type": "markdown",
   "metadata": {
    "jupyter": {
     "source_hidden": true
    },
    "tags": []
   },
   "source": [
    "```{admonition} Do It Yourself!\n",
    ":class: seealso, dropdown\n",
    "Create a set of `proteins` and add some items to it.\n",
    "```"
   ]
  },
  {
   "cell_type": "code",
   "execution_count": null,
   "metadata": {
    "jupyter": {
     "source_hidden": true
    },
    "tags": []
   },
   "outputs": [],
   "source": [
    "# Remove this line and add your code here"
   ]
  },
  {
   "cell_type": "markdown",
   "metadata": {},
   "source": [
    "Sets provide methods and operators to compute common set operations (e.g. difference, union, intersection).\n",
    "\n",
    "To compute the **union** between sets, we use the `union()` method or the `|` operator."
   ]
  },
  {
   "cell_type": "code",
   "execution_count": 70,
   "metadata": {},
   "outputs": [
    {
     "name": "stdout",
     "output_type": "stream",
     "text": [
      "{'pear', 'banana', 'mango', 'chocolate', 'apple', 'marshmallow', 'papaya'}\n",
      "{'pear', 'banana', 'mango', 'chocolate', 'apple', 'marshmallow', 'papaya'}\n"
     ]
    }
   ],
   "source": [
    "food_fun : set = fruits.union(candies)\n",
    "food_op : set = fruits | candies\n",
    "\n",
    "print(food_fun)\n",
    "print(food_op)"
   ]
  },
  {
   "cell_type": "markdown",
   "metadata": {},
   "source": [
    "To compute the **intersection** between sets, we can use the `intersection()` method or the `&` operator."
   ]
  },
  {
   "cell_type": "code",
   "execution_count": 71,
   "metadata": {},
   "outputs": [
    {
     "name": "stdout",
     "output_type": "stream",
     "text": [
      "{'apple', 'mango'}\n",
      "{'apple', 'mango'}\n"
     ]
    }
   ],
   "source": [
    "fruits2 : set = {'apple', 'mango', 'pineapple', 'lemon'}\n",
    "fruits_inter_fun : set = fruits.intersection(fruits2)\n",
    "fruits_inter_op : set = fruits & fruits2\n",
    "\n",
    "print(fruits_inter_fun)\n",
    "print(fruits_inter_op)"
   ]
  },
  {
   "cell_type": "markdown",
   "metadata": {},
   "source": [
    "And to compute the **difference** between sets, we can use the `difference()` method or the `–` operator."
   ]
  },
  {
   "cell_type": "code",
   "execution_count": 72,
   "metadata": {
    "scrolled": true
   },
   "outputs": [
    {
     "name": "stdout",
     "output_type": "stream",
     "text": [
      "{'pear', 'banana', 'papaya'}\n",
      "{'pear', 'banana', 'papaya'}\n"
     ]
    }
   ],
   "source": [
    "fruits_diff_fun : set = fruits.difference(fruits2)\n",
    "fruits_diff_op : set = fruits - fruits2\n",
    "\n",
    "print(fruits_diff_fun)\n",
    "print(fruits_diff_op)"
   ]
  },
  {
   "cell_type": "markdown",
   "metadata": {},
   "source": [
    "Some of exercises can be done concisely and efficiently with sets.\n",
    "\n",
    "For example, let us consider a program that uses two dictionaries to find the words that appear in one dictionary but not in the other dictionary."
   ]
  },
  {
   "cell_type": "code",
   "execution_count": 73,
   "metadata": {},
   "outputs": [
    {
     "name": "stdout",
     "output_type": "stream",
     "text": [
      "{'because': None, 'are': None, 'mine': None, 'not': None, 'I': None, 'love': None}\n"
     ]
    }
   ],
   "source": [
    "words1 : dict = {'because': 3, 'you': 5, 'are': 2, 'mine': 2, 'not': 3,\n",
    "    'I': 2, 'look': 1, 'die': 1, 'love': 1}\n",
    "\n",
    "words2 : dict = {'you': 5, 'look': 1, 'die': 1, 'looking': 2}\n",
    "\n",
    "\n",
    "res : dict = dict()\n",
    "    \n",
    "for word in words1:\n",
    "    if word not in words2:\n",
    "        res[word] = None\n",
    "        \n",
    "print(res)"
   ]
  },
  {
   "cell_type": "markdown",
   "metadata": {},
   "source": [
    "In all of these dictionaries, the values are `None` because we never use them. As a result, we waste some storage space.\n",
    "\n",
    "There is a better way to solve this problem with sets."
   ]
  },
  {
   "cell_type": "code",
   "execution_count": 74,
   "metadata": {},
   "outputs": [
    {
     "data": {
      "text/plain": [
       "{'I', 'are', 'because', 'love', 'mine', 'not'}"
      ]
     },
     "execution_count": 74,
     "metadata": {},
     "output_type": "execute_result"
    }
   ],
   "source": [
    "words1 : dict = {'because': 3, 'you': 5, 'are': 2, 'mine': 2, 'not': 3,\n",
    "    'I': 2, 'look': 1, 'die': 1, 'love': 1}\n",
    "\n",
    "words2 : dict = {'you': 5, 'look': 1, 'die': 1, 'looking': 2}\n",
    "\n",
    "set(words1) - set(words2)"
   ]
  },
  {
   "cell_type": "markdown",
   "metadata": {},
   "source": [
    "The result is a set instead of a dictionary, but the behavior is the same."
   ]
  },
  {
   "cell_type": "markdown",
   "metadata": {},
   "source": [
    "Let us see another example. Suppose we want to check if a list has duplicates. One way of doing it is using a `for` loop where we have an additional list to check wether the item is inlcuded there or not."
   ]
  },
  {
   "cell_type": "code",
   "execution_count": 75,
   "metadata": {},
   "outputs": [
    {
     "name": "stdout",
     "output_type": "stream",
     "text": [
      "True\n",
      "False\n"
     ]
    }
   ],
   "source": [
    "def has_duplicates(lst: List[any]) -> bool:\n",
    "    \"\"\" Check for duplicate elements in the list\n",
    "    \"\"\"\n",
    "    \n",
    "    lst_alt : List[any] = list()\n",
    "    \n",
    "    for elem in lst:\n",
    "        if elem in lst_alt:\n",
    "            return True\n",
    "        else:\n",
    "            lst_alt.append(elem)\n",
    "\n",
    "    return False\n",
    "\n",
    "lst1 = [1, 2, 3, 4, 5, 6, 2, 3]\n",
    "lst2 = [1, 2, 3, 4, 5, 6, 7, 8]\n",
    "\n",
    "print(has_duplicates(lst1))\n",
    "print(has_duplicates(lst2))"
   ]
  },
  {
   "cell_type": "markdown",
   "metadata": {},
   "source": [
    "This function can be way simpler by using sets: we just need to check if the length of the list converted in a set is the same as the original list. Let's try."
   ]
  },
  {
   "cell_type": "code",
   "execution_count": 76,
   "metadata": {},
   "outputs": [
    {
     "name": "stdout",
     "output_type": "stream",
     "text": [
      "True\n",
      "False\n"
     ]
    }
   ],
   "source": [
    "def has_duplicates(lst: List[any]) -> bool:\n",
    "    \"\"\" Check for duplicate elements in the list\n",
    "    \"\"\"\n",
    "    \n",
    "    return len(set(lst)) < len(lst)\n",
    "\n",
    "lst1 = [1, 2, 3, 4, 5, 6, 2, 3]\n",
    "lst2 = [1, 2, 3, 4, 5, 6, 7, 8]\n",
    "\n",
    "print(has_duplicates(lst1))\n",
    "print(has_duplicates(lst2))"
   ]
  },
  {
   "cell_type": "markdown",
   "metadata": {
    "jupyter": {
     "source_hidden": true
    },
    "tags": []
   },
   "source": [
    "```{admonition} Do It Yourself!\n",
    ":class: seealso, dropdown\n",
    "Create a function that receives two dictionaries as input and prints the name of the keys shared by both of them. Use sets to solve this problem.\n",
    "```"
   ]
  },
  {
   "cell_type": "code",
   "execution_count": null,
   "metadata": {
    "jupyter": {
     "source_hidden": true
    },
    "tags": []
   },
   "outputs": [],
   "source": [
    "dict1 = {'a' : 1, 'b': 2, 'c': 3}\n",
    "dict2 = {'b': 1, 'z': 2, 'y': 3, 'c': 4}\n",
    "# Remove this line and add your code here"
   ]
  },
  {
   "cell_type": "markdown",
   "metadata": {
    "slideshow": {
     "slide_type": "slide"
    }
   },
   "source": [
    "## Data Structure Selection\n",
    "\n",
    "You have seen the core data structures of Python.\n",
    "\n",
    "We will now demonstrate which data structures are most suited to solve a specific problem.\n",
    "\n",
    "Aspects that play a role when choosing a data structure are:\n",
    "* Ease of implementation\n",
    "* Runtime performance\n",
    "* Memory usage"
   ]
  },
  {
   "cell_type": "markdown",
   "metadata": {
    "slideshow": {
     "slide_type": "slide"
    }
   },
   "source": [
    "### Word Frequency Analysis\n",
    "\n",
    "The `string` module provides a predefined string `whitespace` that contains `space`, `tab`, `newline`, etc."
   ]
  },
  {
   "cell_type": "code",
   "execution_count": 77,
   "metadata": {
    "slideshow": {
     "slide_type": "fragment"
    }
   },
   "outputs": [
    {
     "data": {
      "text/plain": [
       "' \\t\\n\\r\\x0b\\x0c'"
      ]
     },
     "execution_count": 77,
     "metadata": {},
     "output_type": "execute_result"
    }
   ],
   "source": [
    "import string\n",
    "string.whitespace"
   ]
  },
  {
   "cell_type": "markdown",
   "metadata": {
    "slideshow": {
     "slide_type": "fragment"
    }
   },
   "source": [
    "Furthermore, it contains a string `punctuation`, that contains punctuation characters."
   ]
  },
  {
   "cell_type": "code",
   "execution_count": 78,
   "metadata": {
    "slideshow": {
     "slide_type": "fragment"
    }
   },
   "outputs": [
    {
     "data": {
      "text/plain": [
       "'!\"#$%&\\'()*+,-./:;<=>?@[\\\\]^_`{|}~'"
      ]
     },
     "execution_count": 78,
     "metadata": {},
     "output_type": "execute_result"
    }
   ],
   "source": [
    "import string\n",
    "string.punctuation"
   ]
  },
  {
   "cell_type": "markdown",
   "metadata": {
    "slideshow": {
     "slide_type": "fragment"
    }
   },
   "source": [
    "Write a program that gets a file and breaks each line into words, strips whitespace and\n",
    "punctuation from the words, and converts them to lowercase."
   ]
  },
  {
   "cell_type": "code",
   "execution_count": 79,
   "metadata": {
    "slideshow": {
     "slide_type": "fragment"
    }
   },
   "outputs": [],
   "source": [
    "text = open('text.txt')"
   ]
  },
  {
   "cell_type": "code",
   "execution_count": 81,
   "metadata": {
    "slideshow": {
     "slide_type": "fragment"
    }
   },
   "outputs": [
    {
     "name": "stdout",
     "output_type": "stream",
     "text": [
      "55\n",
      "{'this': 2, 'is': 2, 'just': 1, 'a': 2, 'sentence': 2, 'which': 1, 'does': 1, 'not': 1, 'really': 1, 'makes': 1, 'sense': 1, 'but': 1, 'sometimes': 1, 'you': 5, 'need': 1, 'few': 1, 'to': 2, 'test': 1, 'your': 1, 'software': 1, 'the': 2, 'question': 2, 'then': 1, 'do': 4, 'take': 1, 'some': 2, 'book': 1, 'or': 1, 'write': 1, 'words': 1, 'yourself': 1, 'know': 1, 'answer': 1, 'what': 1, 'think': 1, 'would': 1, 'it': 2, 'work': 1, 'works': 1}\n"
     ]
    }
   ],
   "source": [
    "from typing import List, Dict\n",
    "\n",
    "def split_text(text_arg : str) -> List[str]:\n",
    "    \"\"\"Splits a text into words which is returned as a list.\n",
    "    The words are decapitalized (lower) and punctuation is stripped.\"\"\"\n",
    "    \n",
    "    body : str = text_arg.read()\n",
    "    \n",
    "    stripped_words : list = []\n",
    "    words : List[str] = body.split()\n",
    "    for w in words:\n",
    "        lower_w : str = w.lower()\n",
    "        stripped_w : str = lower_w.strip(string.punctuation)\n",
    "        stripped_words.append(stripped_w)\n",
    "        \n",
    "    return stripped_words\n",
    "\n",
    "def histogram(words : List[str]) -> Dict:\n",
    "    \"\"\"transforms the list of words into dictionary\n",
    "    \"\"\"\n",
    "    \n",
    "    word_hist : dict = dict()\n",
    "    for word in words:\n",
    "        if word not in word_hist:\n",
    "            word_hist[word] = 1\n",
    "        else:\n",
    "            word_hist[word] += 1\n",
    "    return word_hist\n",
    " \n",
    "text = open('text.txt') \n",
    "\n",
    "words = split_text(text)\n",
    "print(len(words))\n",
    "\n",
    "word_histo = histogram(words)\n",
    "print(word_histo)"
   ]
  },
  {
   "cell_type": "code",
   "execution_count": 83,
   "metadata": {
    "slideshow": {
     "slide_type": "fragment"
    }
   },
   "outputs": [
    {
     "data": {
      "text/plain": [
       "<AxesSubplot:>"
      ]
     },
     "execution_count": 83,
     "metadata": {},
     "output_type": "execute_result"
    },
    {
     "data": {
      "image/png": "[encoded data removed]",
      "text/plain": [
       "<Figure size 432x288 with 1 Axes>"
      ]
     },
     "metadata": {
      "needs_background": "light"
     },
     "output_type": "display_data"
    }
   ],
   "source": [
    "# import the relevant libraries, see \n",
    "import matplotlib.pyplot as plt\n",
    "import pandas as pd\n",
    "\n",
    "%matplotlib inline\n",
    "\n",
    "import pandas as pd\n",
    "\n",
    "df = pd.DataFrame.from_dict(word_histo, orient=\"index\")\n",
    "\n",
    "df.plot.bar(color=\"r\")"
   ]
  },
  {
   "cell_type": "markdown",
   "metadata": {
    "slideshow": {
     "slide_type": "slide"
    }
   },
   "source": [
    "### Word Histogram\n",
    "\n",
    "The next cell contains a collection of functions to read a file and build a histogram."
   ]
  },
  {
   "cell_type": "code",
   "execution_count": 84,
   "metadata": {
    "slideshow": {
     "slide_type": "fragment"
    }
   },
   "outputs": [
    {
     "name": "stdout",
     "output_type": "stream",
     "text": [
      "{'the': 5266, 'project': 31, 'gutenberg': 21, 'etext': 30, 'of': 4339, 'emma': 789, 'by': 595, 'jane': 285, 'austen': 4, 'please': 39, 'take': 122, 'a': 3155, 'look': 123, 'at': 1041, 'important': 21, 'information': 29, 'in': 2199, 'this': 558, 'header': 1, 'we': 368, 'encourage': 4, 'you': 2053, 'to': 5295, 'keep': 34, 'file': 4, 'on': 701, 'your': 376, 'own': 304, 'disk': 4, 'keeping': 12, 'an': 467, 'electronic': 2, 'path': 5, 'open': 42, 'for': 1371, 'next': 65, 'readers': 3, 'do': 648, 'not': 2161, 'remove': 7, 'welcome': 17, 'world': 82, 'free': 8, 'plain': 26, 'vanilla': 1, 'texts': 2, 'etexts': 10, 'readable': 3, 'both': 87, 'humans': 1, 'and': 4931, 'computers': 1, 'since': 67, '1971': 1, 'these': 70, 'prepared': 17, 'hundreds': 2, 'volunteers': 1, 'donations': 4, 'contacting': 1, 'get': 77, 'further': 2, 'is': 1261, 'included': 6, 'below': 7, 'need': 44, 'august': 5, '1994': 1, '158': 1, 'date': 7, 'last': 121, 'updated': 1, '18': 1, '2002': 1, 'should': 374, 'be': 1987, 'named': 11, 'emma10.txt': 1, 'or': 541, 'emma10.zip': 1, 'corrected': 2, 'editions': 1, 'our': 108, 'new': 40, 'number': 11, 'emma11.txt': 1, 'versions': 1, 'based': 1, 'separate': 13, 'sources': 3, 'letter': 110, 'emma10a.txt': 1, 'are': 459, 'now': 315, 'trying': 24, 'release': 4, 'all': 855, 'books': 9, 'one': 458, 'month': 16, 'advance': 5, 'official': 2, 'dates': 1, 'time': 284, 'better': 174, 'editing': 2, 'midnight': 2, 'central': 1, 'day': 187, 'stated': 1, 'preliminary': 1, 'version': 1, 'may': 238, 'often': 92, 'posted': 1, 'suggestion': 3, 'comment': 2, 'those': 97, 'who': 296, 'wish': 139, 'so': 979, 'sure': 205, 'have': 1328, 'up': 192, 'first': 213, 'edition': 2, 'xxxxx10x.xxx': 1, 'check': 6, 'sizes': 1, 'week': 29, 'ftp': 4, 'program': 3, 'has': 254, 'bug': 1, 'it': 2546, 'that': 1809, 'scrambles': 1, 'tried': 27, 'fix': 10, 'failed': 10, 'size': 13, 'will': 577, 'but': 1446, 'try': 24, 'see': 224, 'copy': 7, 'least': 86, 'byte': 1, 'more': 472, 'less': 69, 'about': 252, 'page': 3, 'produce': 12, 'two': 179, 'million': 7, 'dollars': 2, 'each': 50, 'hour': 80, 'work': 26, 'fifty': 4, 'hours': 26, 'conservative': 1, 'estimate': 3, 'how': 373, 'long': 148, 'any': 667, 'selected': 1, 'entered': 25, 'proofread': 2, 'edited': 1, 'copyright': 6, 'searched': 1, 'analyzed': 1, 'letters': 40, 'written': 25, 'etc': 3, 'projected': 3, 'audience': 1, 'hundred': 17, 'if': 505, 'value': 16, 'per': 3, 'text': 2, 'nominally': 1, 'estimated': 2, 'dollar': 1, 'then': 172, '2': 4, 'year': 30, 'four': 31, 'files': 5, 'thus': 13, 'upping': 1, 'productivity': 1, 'from': 554, 'goal': 1, 'give': 164, 'away': 139, 'trillion': 1, 'december': 5, '31': 1, '2001': 2, '10,000': 3, 'x': 4, '100,000,000=trillion': 1, 'ten': 33, 'thousand': 17, 'titles': 1, 'which': 557, '10': 1, 'expected': 41, 'computer': 3, 'users': 2, 'end': 50, 'than': 418, 'ever': 194, 'made': 201, 'gutenberg/ibc': 1, 'tax': 3, 'deductible': 1, 'extent': 8, 'allowable': 5, 'law': 16, 'ibc': 2, 'illinois': 4, 'benedictine': 4, 'college': 4, 'subscriptions': 1, 'paper': 14, 'newsletter': 1, 'go': 133, 'too': 255, 'other': 238, 'matters': 11, 'mail': 1, 'p': 1, 'o': 1, 'box': 24, '2782': 1, 'champaign': 1, 'il': 1, '61825': 1, 'when': 366, 'email': 2, 'fails': 2, 'michael': 2, 's': 4, 'hart': 3, 'executive': 1, 'director': 1, 'hart@vmd.cso.uiuc.edu': 1, 'internet': 3, 'hart@uiucvmd': 1, 'bitnet': 2, 'would': 822, 'prefer': 7, 'send': 25, 'compuserve': 1, 'attmail': 1, 'mcimail': 1, '': 90, 'emulator': 1, 'directly': 53, 'archives': 1, 'mac': 1, 'point': 52, 'click': 1, 'type': 1, 'mrcnext.cso.uiuc.edu': 1, 'login': 1, 'anonymous': 1, 'password': 1, 'your@login': 1, 'cd': 5, 'etext/etext91': 1, 'etext92': 1, 'etext93': 1, 'also': 27, 'etext/etext93': 1, 'etext/articles': 1, 'suggest': 3, 'gut': 2, 'dir': 1, 'mget': 2, 'set': 65, 'bin': 1, 'zip': 1, 'index100.gut': 1, 'index200.gut': 1, 'list': 3, 'new.gut': 1, 'general': 66, 'newsletters': 1, 'legal': 5, 'advisor': 1, 'three': 74, 'pages': 3, 'start**the': 1, 'small': 41, 'print!**for': 1, 'public': 18, 'domain': 5, 'etexts**start': 1, 'why': 56, 'print': 8, 'statement': 6, 'here': 156, 'know': 338, 'lawyers': 1, 'they': 543, 'tell': 79, 'us': 151, 'might': 327, 'sue': 1, 'there': 552, 'something': 114, 'wrong': 41, 'with': 1222, 'even': 136, 'got': 38, 'someone': 1, \"what's\": 1, 'fault': 21, 'among': 55, 'things': 66, 'disclaims': 2, 'most': 252, 'liability': 4, 'tells': 12, 'can': 288, 'distribute': 5, 'copies': 3, 'want': 92, 'before': 251, 'use': 40, 'read': 54, 'using': 3, 'reading': 16, 'part': 72, 'tm': 6, 'indicate': 3, 'understand': 70, 'agree': 17, 'accept': 12, 'receive': 14, 'refund': 4, 'money': 15, 'paid': 22, 'sending': 9, 'request': 7, 'within': 37, '30': 1, 'days': 53, 'receiving': 16, 'person': 67, 'received': 40, 'physical': 2, 'medium': 8, 'such': 493, 'as': 1443, 'must': 573, 'return': 59, 'like': 201, 'distributed': 1, 'professor': 1, 'through': 62, 'association': 3, 'means': 49, 'no': 748, 'owns': 1, 'united': 12, 'states': 3, 'without': 216, 'permission': 2, 'paying': 12, 'royalties': 2, 'special': 1, 'rules': 4, 'forth': 6, 'apply': 4, 'under': 66, \"project's\": 2, 'trademark': 2, 'create': 3, 'expends': 1, 'considerable': 18, 'efforts': 3, 'identify': 1, 'transcribe': 1, 'works': 2, 'despite': 1, 'contain': 3, 'defects': 3, 'form': 25, 'incomplete': 2, 'inaccurate': 1, 'corrupt': 1, 'data': 1, 'transcription': 1, 'errors': 5, 'intellectual': 4, 'property': 7, 'infringement': 1, 'defective': 1, 'damaged': 1, 'virus': 1, 'codes': 1, 'damage': 1, 'cannot': 143, 'equipment': 1, 'limited': 6, 'warranty': 2, 'disclaimer': 1, 'damages': 5, 'right': 93, 'replacement': 3, 'described': 6, '1': 3, 'party': 98, 'costs': 1, 'expenses': 2, 'including': 8, 'fees': 2, 'remedies': 1, 'negligence': 2, 'strict': 4, 'breach': 1, 'contract': 2, 'indirect': 1, 'consequential': 2, 'punitive': 1, 'incidental': 2, 'notice': 28, 'possibility': 14, 'discover': 5, 'defect': 2, '90': 1, 'explanatory': 1, 'note': 25, 'choose': 3, 'alternatively': 2, 'electronically': 3, 'second': 32, 'opportunity': 19, 'otherwise': 21, 'provided': 6, 'warranties': 3, 'kind': 83, 'express': 16, 'implied': 6, 'merchantability': 1, 'fitness': 1, 'particular': 42, 'purpose': 24, 'some': 266, 'allow': 48, 'disclaimers': 2, 'exclusion': 1, 'limitation': 1, 'above': 13, 'exclusions': 1, 'rights': 6, 'indemnity': 1, 'indemnify': 1, 'hold': 15, 'its': 124, 'directors': 1, 'officers': 1, 'members': 1, 'agents': 1, 'harmless': 4, 'cost': 4, 'expense': 10, 'arise': 8, 'indirectly': 1, 'following': 16, 'cause': 18, 'distribution': 2, 'alteration': 3, 'modification': 1, 'addition': 12, '3': 2, 'book': 12, 'either': 66, 'delete': 1, 'references': 1, 'only': 343, 'exact': 5, 'requires': 6, 'alter': 5, 'modify': 1, 'however': 132, 'machine': 1, 'binary': 1, 'compressed': 2, 'mark': 4, 'proprietary': 2, 'resulting': 2, 'conversion': 1, 'word': 96, 'pro': 1, 'cessing': 1, 'hypertext': 2, 'software': 2, 'displayed': 3, 'clearly': 4, 'does': 131, 'characters': 5, 'intended': 18, 'author': 3, 'although': 2, 'tilde': 1, 'asterisk': 1, 'underline': 1, 'used': 52, 'convey': 6, 'punctuation': 1, 'additional': 6, 'links': 1, 'readily': 8, 'converted': 1, 'reader': 1, 'into': 164, 'ascii': 2, 'ebcdic': 2, 'equivalent': 3, 'displays': 3, 'case': 32, 'instance': 10, 'processors': 1, 'provide': 6, 'fee': 2, 'original': 6, 'honor': 1, 'provisions': 1, 'pay': 26, 'license': 1, '20': 1, 'net': 1, 'profits': 4, 'derive': 2, 'calculated': 4, 'method': 4, 'already': 46, 'calculate': 3, 'applicable': 1, 'taxes': 1, \"don't\": 18, 'royalty': 2, 'due': 24, 'payable': 1, '60': 1, 'prepare': 4, 'were': 602, 'legally': 1, 'required': 15, 'annual': 1, 'periodic': 1, 'what': 538, 'gratefully': 6, 'accepts': 2, 'contributions': 1, 'scanning': 1, 'machines': 1, 'ocr': 1, 'licenses': 1, 'every': 436, 'sort': 113, 'contribution': 2, 'think': 385, 'charles': 1, 'b': 1, 'kramer': 1, 'attorney': 2, '72600.2026@compuserve.com': 1, 'tel': 1, '212': 1, '254': 1, '5093': 1, 'end*the': 1, 'etexts*ver.04.29.93*end': 1, 'volume': 3, 'i': 3191, 'chapter': 56, 'woodhouse': 278, 'handsome': 38, 'clever': 27, 'rich': 14, 'comfortable': 34, 'home': 132, 'happy': 125, 'disposition': 24, 'seemed': 141, 'unite': 3, 'best': 85, 'blessings': 6, 'existence': 8, 'had': 1626, 'lived': 25, 'nearly': 14, 'twenty': 30, 'years': 57, 'very': 1212, 'little': 361, 'distress': 19, 'vex': 1, 'her': 2483, 'she': 2364, 'was': 2400, 'youngest': 4, 'daughters': 7, 'affectionate': 9, 'indulgent': 2, 'father': 168, 'consequence': 27, \"sister's\": 6, 'marriage': 35, 'been': 760, 'mistress': 10, 'his': 1150, 'house': 95, 'early': 41, 'period': 18, 'mother': 57, 'died': 4, 'ago': 32, 'indistinct': 1, 'remembrance': 8, 'caresses': 1, 'place': 93, 'supplied': 5, 'excellent': 34, 'woman': 123, 'governess': 9, 'fallen': 7, 'short': 70, 'affection': 50, 'sixteen': 9, 'miss': 602, 'taylor': 41, 'mr': 1154, \"woodhouse's\": 36, 'family': 77, 'friend': 166, 'fond': 39, 'particularly': 46, 'between': 73, 'them': 436, 'intimacy': 21, 'sisters': 12, 'ceased': 6, 'nominal': 1, 'office': 16, 'mildness': 1, 'temper': 36, 'hardly': 71, 'allowed': 40, 'impose': 1, 'restraint': 3, 'shadow': 2, 'authority': 6, 'being': 358, 'passed': 55, 'living': 18, 'together': 81, 'mutually': 3, 'attached': 25, 'doing': 45, 'just': 169, 'liked': 16, 'highly': 24, 'esteeming': 1, \"taylor's\": 8, 'judgment': 29, 'directed': 6, 'chiefly': 7, 'real': 42, 'evils': 10, 'indeed': 202, \"emma's\": 79, 'situation': 64, 'power': 41, 'having': 147, 'rather': 146, 'much': 486, 'way': 156, 'well': 403, 'herself': 279, 'disadvantages': 1, 'threatened': 4, 'alloy': 3, 'many': 138, 'enjoyments': 3, 'danger': 31, 'present': 90, 'unperceived': 2, 'did': 353, 'rank': 9, 'misfortunes': 1, 'sorrow': 4, 'came': 119, 'gentle': 16, 'shape': 5, 'disagreeable': 20, 'consciousness': 21, 'married': 46, 'loss': 23, 'brought': 54, 'grief': 5, 'wedding': 17, 'beloved': 9, 'sat': 37, 'mournful': 1, 'thought': 226, 'continuance': 2, 'over': 139, 'bride': 14, 'people': 93, 'gone': 80, 'left': 68, 'dine': 15, 'prospect': 13, 'third': 5, 'cheer': 4, 'evening': 97, 'composed': 6, 'himself': 146, 'sleep': 2, 'after': 161, 'dinner': 49, 'usual': 51, 'sit': 38, 'lost': 21, 'event': 24, 'promise': 22, 'happiness': 76, 'weston': 389, 'man': 218, 'unexceptionable': 7, 'character': 43, 'easy': 28, 'fortune': 39, 'suitable': 4, 'age': 22, 'pleasant': 41, 'manners': 53, 'satisfaction': 28, 'considering': 20, 'self': 23, 'denying': 7, 'generous': 4, 'friendship': 26, 'always': 238, 'wished': 48, 'promoted': 4, 'match': 32, 'black': 5, \"morning's\": 3, 'felt': 114, 'recalled': 2, 'past': 20, 'kindness': 40, 'taught': 7, 'played': 8, 'five': 42, 'old': 85, 'devoted': 5, 'powers': 14, 'attach': 5, 'amuse': 8, 'health': 39, 'nursed': 3, 'various': 6, 'illnesses': 3, 'childhood': 2, 'large': 35, 'debt': 1, 'gratitude': 29, 'owing': 3, 'intercourse': 12, 'seven': 8, 'equal': 57, 'footing': 3, 'perfect': 34, 'unreserve': 6, 'soon': 224, 'followed': 29, \"isabella's\": 13, 'their': 304, 'yet': 109, 'dearer': 6, 'tenderer': 1, 'recollection': 8, 'companion': 27, 'few': 106, 'possessed': 3, 'intelligent': 4, 'informed': 5, 'useful': 21, 'knowing': 26, 'ways': 16, 'interested': 15, 'concerns': 9, 'peculiarly': 11, 'pleasure': 115, 'scheme': 23, 'hers': 20, 'whom': 73, 'could': 837, 'speak': 99, 'arose': 4, 'never': 358, 'find': 75, 'bear': 52, 'change': 61, 'true': 66, 'going': 120, 'half': 119, 'mile': 11, 'aware': 26, 'great': 265, 'difference': 31, 'mrs': 701, 'advantages': 12, 'natural': 52, 'domestic': 7, 'suffering': 16, 'solitude': 3, 'dearly': 2, 'loved': 27, 'he': 1811, 'meet': 32, 'conversation': 42, 'rational': 18, 'playful': 2, 'evil': 33, 'actual': 3, 'disparity': 7, 'ages': 2, 'increased': 12, 'constitution': 7, 'habits': 12, 'valetudinarian': 1, 'life': 80, 'activity': 4, 'mind': 128, 'body': 164, 'older': 8, 'though': 177, 'everywhere': 3, 'friendliness': 3, 'heart': 66, 'amiable': 35, 'talents': 8, 'recommended': 9, 'him': 771, 'sister': 27, 'comparatively': 2, 'removed': 10, 'matrimony': 8, 'settled': 39, 'london': 45, 'miles': 17, 'off': 99, 'beyond': 54, 'daily': 10, 'reach': 7, 'october': 4, 'november': 5, 'struggled': 2, 'hartfield': 159, 'christmas': 11, 'visit': 86, 'isabella': 56, 'husband': 31, 'children': 60, 'fill': 2, 'society': 48, 'again': 219, 'highbury': 125, 'populous': 2, 'village': 2, 'almost': 89, 'amounting': 1, 'town': 23, 'spite': 24, 'lawn': 4, 'shrubberies': 2, 'name': 56, 'really': 153, 'belong': 15, 'afforded': 8, 'equals': 1, 'woodhouses': 4, 'looked': 91, 'acquaintance': 63, 'universally': 4, 'civil': 13, 'accepted': 11, 'lieu': 1, 'melancholy': 12, 'sigh': 19, 'impossible': 41, 'till': 102, 'awoke': 1, 'necessary': 36, 'cheerful': 29, 'spirits': 64, 'support': 8, 'nervous': 11, 'easily': 14, 'depressed': 6, 'hating': 2, 'origin': 4, 'reconciled': 8, \"daughter's\": 15, 'marrying': 26, 'nor': 64, 'compassion': 14, 'entirely': 39, 'obliged': 76, 'selfishness': 4, 'able': 72, 'suppose': 81, 'feel': 95, 'differently': 11, 'disposed': 21, 'done': 142, 'sad': 25, 'thing': 398, 'deal': 92, 'happier': 11, 'spent': 21, 'rest': 50, 'smiled': 17, 'chatted': 1, 'cheerfully': 8, 'thoughts': 39, 'tea': 27, 'say': 312, 'exactly': 58, 'said': 484, 'poor': 136, 'pity': 26, 'papa': 33, 'good': 358, 'humoured': 6, 'thoroughly': 19, 'deserves': 6, 'wife': 66, 'live': 17, 'my': 732, 'odd': 26, 'humours': 2, 'where': 86, 'advantage': 27, 'times': 29, 'dear': 241, 'shall': 219, 'coming': 89, 'meeting': 39, 'begin': 31, 'am': 414, 'far': 70, 'randalls': 90, 'distance': 25, 'walk': 56, 'nobody': 72, 'walking': 45, 'carriage': 69, 'james': 18, 'put': 64, 'horses': 25, 'while': 133, \"weston's\": 51, 'stable': 2, 'talked': 66, 'night': 40, 'because': 53, 'housemaid': 1, 'doubt': 98, 'whether': 64, 'anywhere': 16, 'else': 80, 'hannah': 2, 'mentioned': 26, 'glad': 50, 'lucky': 10, 'slighted': 6, 'upon': 159, 'account': 59, 'make': 152, 'servant': 6, 'pretty': 68, 'spoken': 31, 'girl': 46, 'opinion': 71, 'whenever': 28, 'curtseys': 1, 'asks': 3, 'me': 583, 'manner': 75, 'needlework': 1, 'observe': 23, 'turns': 9, 'lock': 1, 'door': 47, 'bangs': 1, 'comfort': 65, 'somebody': 16, 'goes': 6, 'daughter': 47, 'hearing': 32, 'spared': 7, 'exertions': 6, 'maintain': 4, 'flow': 6, 'ideas': 16, 'hoped': 43, 'help': 39, 'backgammon': 3, 'tolerably': 15, 'attacked': 2, 'regrets': 6, 'table': 27, 'placed': 15, 'visitor': 9, 'immediately': 70, 'afterwards': 41, 'walked': 52, 'unnecessary': 8, 'knightley': 356, 'sensible': 25, 'eight': 7, 'thirty': 5, 'intimate': 10, 'connected': 11, 'elder': 4, 'brother': 49, 'frequent': 8, 'mutual': 5, 'connexions': 10, 'returned': 39, 'late': 27, 'absence': 15, 'brunswick': 11, 'square': 12, 'circumstance': 34, 'animated': 5, 'inquiries': 10, 'answered': 22, 'satisfactorily': 2, 'observed': 22, 'come': 172, 'out': 212, 'call': 42, 'afraid': 65, 'shocking': 6, 'sir': 66, 'beautiful': 24, 'moonlight': 2, 'mild': 4, 'draw': 10, 'back': 67, 'fire': 16, 'found': 92, 'damp': 6, 'dirty': 6, 'catch': 14, 'cold': 54, 'shoes': 4, 'speck': 1, 'quite': 282, 'surprising': 2, 'vast': 6, 'rain': 22, 'rained': 1, 'dreadfully': 8, 'hard': 12, 'breakfast': 12, 'wanted': 76, 'bye': 12, 'joy': 18, 'feeling': 56, 'hurry': 24, 'congratulations': 7, 'hope': 143, 'went': 46, 'behave': 3, 'cried': 81, 'ah': 48, 'tis': 2, 'business': 55, 'possibly': 17, 'regard': 43, 'comes': 24, 'question': 39, 'dependence': 11, 'independence': 11, 'rate': 18, 'especially': 25, 'fanciful': 3, 'troublesome': 9, 'creature': 39, 'playfully': 2, 'head': 40, 'certainly': 101, 'believe': 102, 'sometimes': 39, 'dearest': 20, 'mean': 59, 'horrible': 5, 'idea': 100, 'oh': 193, 'meant': 43, 'myself': 103, 'loves': 9, 'joke': 6, 'another': 113, 'fact': 24, 'faults': 11, 'told': 79, 'agreeable': 50, 'knew': 88, 'suspect': 21, 'knows': 30, 'flatter': 5, 'reflection': 18, 'persons': 11, 'chances': 5, 'gainer': 1, 'willing': 13, 'let': 90, 'pass': 32, 'hear': 100, 'behaved': 11, 'charmingly': 4, 'punctual': 1, 'looks': 29, 'tear': 4, 'face': 32, 'seen': 73, 'apart': 3, 'bears': 2, 'sorry': 61, 'lose': 19, 'thinks': 23, 'turned': 29, 'divided': 4, 'tears': 9, 'smiles': 15, 'acceptable': 8, 'secure': 9, 'provision': 3, 'therefore': 62, 'pain': 34, 'happily': 19, 'forgotten': 19, 'matter': 32, 'proved': 16, 'marry': 64, 'shook': 8, 'fondly': 4, 'replied': 79, 'matches': 6, 'foretell': 2, 'whatever': 20, 'pray': 26, 'none': 29, 'greatest': 29, 'amusement': 16, 'success': 11, 'widower': 2, 'perfectly': 67, 'constantly': 8, 'occupied': 16, 'friends': 82, 'wherever': 7, 'spend': 18, 'single': 19, 'alone': 28, 'deathbed': 1, 'others': 60, 'son': 44, 'uncle': 19, 'letting': 4, 'solemn': 5, 'nonsense': 20, 'subject': 97, 'believed': 46, 'met': 38, 'broadway': 1, 'lane': 11, 'began': 64, 'drizzle': 1, 'darted': 3, 'gallantry': 12, 'borrowed': 2, 'umbrellas': 2, 'farmer': 8, \"mitchell's\": 1, 'planned': 2, 'blessed': 7, 'leave': 58, 'making': 57, 'supposes': 1, 'endeavour': 14, 'properly': 10, 'delicately': 1, 'endeavouring': 3, 'bring': 38, 'worthy': 18, 'employment': 10, 'young': 192, \"lady's\": 7, 'imagine': 55, 'planning': 3, 'saying': 51, 'yourself': 56, 'idle': 4, 'talk': 60, 'merit': 14, 'proud': 8, 'guess': 25, 'known': 60, 'triumph': 6, 'cleverer': 3, 'depend': 26, 'merely': 29, 'luck': 11, 'talent': 9, 'quarrel': 11, 'claim': 12, 'drawn': 15, 'pictures': 2, 'nothing': 256, 'visits': 14, 'given': 77, 'encouragements': 1, 'smoothed': 2, 'enough': 129, 'comprehend': 15, 'straightforward': 3, 'hearted': 13, 'unaffected': 4, 'safely': 19, 'manage': 5, 'likely': 46, 'harm': 13, 'interference': 8, 'rejoined': 2, 'understanding': 28, 'silly': 12, 'break': 13, \"one's\": 10, 'circle': 18, 'grievously': 1, 'elton': 320, 'whole': 76, 'fitted': 1, 'comfortably': 11, 'shame': 9, 'longer': 59, 'joining': 2, 'hands': 23, 'same': 102, 'service': 23, 'shew': 28, 'attention': 59, 'ask': 43, 'dare': 59, 'laughing': 17, 'invite': 14, 'fish': 2, 'chicken': 2, 'chuse': 24, 'six': 12, 'care': 51, 'ii': 4, 'native': 5, 'born': 6, 'respectable': 20, 'generations': 2, 'rising': 6, 'gentility': 6, 'education': 16, 'succeeding': 5, 'become': 12, 'indisposed': 3, 'homely': 1, 'pursuits': 2, 'brothers': 4, 'engaged': 38, 'satisfied': 52, 'active': 7, 'social': 6, 'entering': 8, 'militia': 2, 'county': 2, 'embodied': 1, 'captain': 3, 'favourite': 23, 'military': 1, 'introduced': 8, 'churchill': 193, 'yorkshire': 8, 'fell': 10, 'love': 117, 'surprized': 32, 'except': 32, 'full': 46, 'pride': 18, 'importance': 12, 'connexion': 20, 'offend': 3, 'command': 22, 'bore': 7, 'proportion': 4, 'estate': 4, 'dissuaded': 1, 'took': 47, 'infinite': 3, 'mortification': 11, 'threw': 2, 'decorum': 2, 'unsuitable': 3, 'ought': 95, 'whose': 39, 'warm': 30, 'sweet': 22, 'goodness': 7, 'spirit': 27, 'resolution': 31, 'pursue': 1, 'refrain': 5, 'unreasonable': 10, \"brother's\": 6, 'anger': 7, 'missing': 3, 'luxuries': 1, 'former': 14, 'income': 10, 'still': 115, 'comparison': 11, 'enscombe': 36, 'cease': 7, 'once': 83, 'considered': 19, 'churchills': 15, 'amazing': 4, 'worst': 19, 'bargain': 2, 'poorer': 1, 'child': 35, 'relieved': 5, 'boy': 13, 'softening': 2, 'lingering': 1, 'illness': 9, \"mother's\": 15, 'reconciliation': 3, 'kindred': 1, 'offered': 8, 'charge': 18, 'frank': 200, 'decease': 2, 'scruples': 10, 'reluctance': 3, 'supposed': 35, 'overcome': 9, 'considerations': 2, 'wealth': 7, 'seek': 6, 'improve': 7, 'complete': 20, 'became': 23, 'desirable': 18, 'quitted': 9, 'trade': 7, 'established': 5, 'favourable': 14, 'opening': 15, 'concern': 18, 'leisure': 13, 'occupation': 4, 'pleasures': 9, 'eighteen': 5, 'realised': 2, 'competence': 1, 'purchase': 6, 'adjoining': 6, 'longed': 6, 'portionless': 1, 'according': 5, 'wishes': 20, 'friendly': 18, 'begun': 12, 'influence': 24, 'schemes': 7, 'tyrannic': 1, 'youth': 11, 'shaken': 6, 'determination': 5, 'settling': 4, 'sale': 2, 'forward': 36, 'steadily': 5, 'objects': 7, 'view': 27, 'accomplished': 11, 'bought': 4, 'obtained': 5, 'beginning': 40, 'probability': 12, 'greater': 30, 'unhappy': 19, 'secured': 11, 'delightful': 41, 'judging': 11, 'truly': 12, 'pleasantest': 3, 'proof': 23, 'chosen': 15, 'excite': 3, 'choice': 9, 'tacitly': 2, \"uncle's\": 4, 'heir': 3, 'avowed': 1, 'adoption': 1, 'assume': 1, 'unlikely': 4, \"father's\": 39, 'assistance': 15, 'apprehension': 7, 'aunt': 52, 'capricious': 1, 'governed': 2, 'nature': 41, 'caprice': 3, 'strong': 44, 'affect': 5, 'deservedly': 2, 'saw': 108, 'report': 10, 'fine': 42, 'sufficiently': 9, 'belonging': 4, 'merits': 7, 'prospects': 8, 'common': 35, 'boasts': 1, 'lively': 12, 'curiosity': 28, 'prevailed': 6, 'compliment': 31, 'achieved': 2, 'generally': 24, 'proposed': 14, 'proper': 42, 'dissentient': 1, 'voice': 47, 'perry': 74, 'drank': 2, 'bates': 126, 'strengthened': 4, 'understood': 23, 'occasion': 28, 'morning': 108, 'mention': 19, 'heard': 120, 'says': 31, 'prized': 1, 'course': 61, 'formed': 12, 'pleasing': 22, 'irresistible': 5, 'sense': 56, 'source': 8, 'expression': 9, 'congratulation': 2, 'fortunate': 27, 'regret': 26, 'partial': 7, 'separation': 4, 'cooled': 2, 'ill': 73, 'missed': 8, 'losing': 5, \"hour's\": 5, 'ennui': 1, 'companionableness': 1, 'feeble': 1, 'girls': 13, 'energy': 3, 'difficulties': 17, 'privations': 4, 'convenient': 5, 'solitary': 3, 'female': 7, 'circumstances': 31, 'approaching': 7, 'season': 6, 'hindrance': 1, 'spending': 5, 'evenings': 5, 'altogether': 23, 'moments': 12, 'enjoyment': 22, 'apparent': 10, 'taken': 58, 'surprize': 37, 'centre': 3, 'attended': 9, 'giving': 46, 'stay': 44, 'recovering': 4, 'likelihood': 2, 'ceasing': 1, 'weeks': 21, 'alleviation': 2, 'compliments': 16, 'neighbours': 16, 'teased': 1, 'sorrowful': 5, 'cake': 8, 'eat': 12, 'stomach': 2, 'different': 42, 'unwholesome': 5, 'regarded': 4, 'unfit': 4, 'earnestly': 12, 'dissuade': 3, 'vain': 25, 'prevent': 17, \"body's\": 29, 'eating': 7, 'pains': 10, 'consulting': 4, 'apothecary': 1, 'gentlemanlike': 5, 'comforts': 8, 'applied': 3, 'acknowledge': 14, 'against': 46, 'bias': 1, 'inclination': 21, 'disagree': 4, 'perhaps': 99, 'unless': 10, 'moderately': 4, 'confirmation': 3, 'newly': 1, 'pair': 7, 'eaten': 3, 'benevolent': 2, 'nerves': 6, 'strange': 14, 'rumour': 2, 'perrys': 3, 'slice': 3, 'iii': 4, 'causes': 4, 'residence': 4, 'measure': 7, 'families': 11, 'horror': 8, 'parties': 27, 'terms': 9, 'fortunately': 4, 'parish': 9, 'donwell': 49, 'abbey': 31, 'seat': 11, 'comprehended': 2, 'unfrequently': 1, 'persuasion': 11, 'preferred': 10, 'fancied': 9, 'unequal': 7, 'company': 35, 'scarcely': 21, 'card': 9, 'standing': 25, 'westons': 8, 'liking': 6, 'privilege': 5, 'exchanging': 1, 'vacant': 2, 'blank': 4, 'elegancies': 3, 'drawing': 30, 'room': 117, 'lovely': 11, 'thrown': 19, 'goddard': 25, 'ladies': 45, 'invitation': 21, 'fetched': 2, 'carried': 5, 'hardship': 3, 'grievance': 2, 'widow': 3, 'vicar': 3, 'lady': 68, 'quadrille': 1, 'respect': 44, 'untoward': 1, 'enjoyed': 7, 'uncommon': 4, 'degree': 56, 'popularity': 4, 'neither': 38, 'stood': 15, 'predicament': 1, 'favour': 26, 'superiority': 10, 'atonement': 2, 'frighten': 1, 'hate': 4, 'outward': 5, 'boasted': 4, 'beauty': 29, 'cleverness': 1, 'distinction': 10, 'middle': 10, 'failing': 2, 'possible': 84, 'universal': 1, 'contented': 6, 'worked': 2, 'wonders': 3, 'quicksighted': 1, 'surrounded': 4, 'simplicity': 10, 'cheerfulness': 6, 'grateful': 15, 'recommendation': 7, 'mine': 26, 'felicity': 10, 'talker': 6, 'suited': 8, 'trivial': 3, 'communications': 5, 'gossip': 1, 'school': 13, 'seminary': 1, 'establishment': 7, 'professed': 6, 'sentences': 3, 'refined': 3, 'combine': 1, 'liberal': 10, 'acquirements': 2, 'elegant': 25, 'morality': 1, 'principles': 6, 'systems': 1, 'enormous': 1, 'screwed': 1, 'vanity': 15, 'honest': 5, 'fashioned': 3, 'boarding': 1, 'reasonable': 20, 'quantity': 4, 'accomplishments': 1, 'sold': 3, 'price': 2, 'sent': 33, 'scramble': 2, 'themselves': 40, 'prodigies': 1, \"goddard's\": 34, 'high': 19, 'repute': 1, 'reckoned': 3, 'healthy': 3, 'spot': 7, 'ample': 6, 'garden': 11, 'gave': 54, 'plenty': 5, 'wholesome': 5, 'food': 3, 'run': 17, 'summer': 23, 'winter': 13, 'dressed': 8, 'chilblains': 1, 'wonder': 49, 'train': 4, 'couple': 22, 'church': 7, 'motherly': 2, 'entitled': 3, 'occasional': 3, 'holiday': 2, 'formerly': 5, 'owed': 5, 'neat': 6, 'parlour': 12, 'hung': 3, 'round': 39, 'fancy': 38, 'win': 1, 'sixpences': 1, 'fireside': 4, 'frequently': 8, 'collect': 3, 'sake': 25, 'concerned': 15, 'remedy': 1, 'delighted': 30, 'pleased': 47, 'contriving': 2, 'quiet': 25, 'prosings': 1, 'women': 20, 'fearfully': 2, 'anticipated': 6, 'looking': 69, 'close': 18, 'requesting': 1, 'respectful': 2, 'smith': 78, 'seventeen': 3, 'sight': 26, 'interest': 47, 'gracious': 3, 'dreaded': 2, 'fair': 30, 'mansion': 1, 'harriet': 415, 'several': 8, 'lately': 21, 'raised': 6, 'condition': 6, 'scholar': 1, 'boarder': 5, 'history': 17, 'visible': 2, 'acquired': 3, 'country': 24, 'happened': 27, 'admired': 16, 'plump': 1, 'bloom': 4, 'blue': 4, 'eyes': 51, 'light': 13, 'hair': 14, 'regular': 17, 'features': 7, 'sweetness': 7, 'determined': 36, 'continue': 11, 'struck': 25, 'remarkably': 11, \"smith's\": 11, 'engaging': 7, 'inconveniently': 1, 'shy': 1, 'unwilling': 7, 'pushing': 2, 'shewing': 9, 'becoming': 12, 'deference': 2, 'seeming': 10, 'pleasantly': 8, 'admitted': 13, 'artlessly': 1, 'impressed': 3, 'appearance': 30, 'superior': 59, 'style': 27, 'deserve': 21, 'encouragement': 21, 'soft': 10, 'graces': 2, 'wasted': 1, 'inferior': 17, 'unworthy': 6, 'parted': 10, 'martin': 72, 'renting': 1, 'farm': 9, 'residing': 2, 'creditably': 1, 'coarse': 3, 'unpolished': 1, 'intimates': 2, 'knowledge': 26, 'elegance': 16, 'detach': 1, 'bad': 60, 'introduce': 8, 'opinions': 9, 'interesting': 31, 'undertaking': 2, 'busy': 19, 'admiring': 3, 'talking': 53, 'listening': 7, 'forming': 10, 'betweens': 1, 'flew': 2, 'unusual': 5, 'supper': 11, 'closed': 11, 'watch': 10, 'ready': 66, 'moved': 7, 'forwards': 2, 'alacrity': 3, 'impulse': 1, 'indifferent': 17, 'credit': 18, 'attentively': 3, 'honours': 1, 'meal': 4, 'recommend': 20, 'minced': 1, 'scalloped': 1, 'oysters': 1, 'urgency': 2, 'guests': 7, 'occasions': 7, 'feelings': 102, 'warfare': 2, 'cloth': 1, 'laid': 11, 'fashion': 5, 'conviction': 16, 'suppers': 2, 'hospitality': 3, 'welcomed': 4, 'visitors': 5, 'grieve': 3, 'basin': 4, 'thin': 6, 'gruel': 9, 'thorough': 12, 'approbation': 23, 'constrain': 1, 'clearing': 2, 'nicer': 1, 'propose': 5, 'venturing': 3, 'eggs': 2, 'egg': 3, 'boiled': 6, 'serle': 3, 'understands': 3, 'boiling': 1, 'hurt': 8, 'bit': 5, 'tart': 2, 'ours': 7, 'apple': 8, 'tarts': 1, 'preserves': 1, 'advise': 11, 'custard': 1, 'glass': 2, 'wine': 6, 'tumbler': 1, 'water': 8, 'satisfactory': 6, 'intentions': 9, 'personage': 1, 'introduction': 9, 'panic': 2, 'humble': 11, 'gratified': 15, 'affability': 1, 'treated': 5, 'actually': 29, 'iv': 3, 'quick': 23, 'decided': 27, 'inviting': 4, 'encouraging': 9, 'telling': 22, 'foreseen': 6, 'shrubbery': 5, 'divisions': 3, 'ground': 15, 'sufficed': 2, 'varied': 4, 'exercise': 17, 'confined': 11, 'ventured': 6, 'summon': 2, 'valuable': 9, 'privileges': 1, 'approved': 6, 'confirmed': 5, 'designs': 2, 'docile': 1, 'totally': 15, 'conceit': 6, 'desiring': 2, 'guided': 6, 'attachment': 48, 'appreciating': 1, 'shewed': 17, 'taste': 35, 'strength': 13, 'convinced': 37, 'granted': 5, 'sentiment': 10, 'distinct': 10, 'independent': 9, 'object': 39, 'basis': 2, 'esteem': 3, 'attempts': 6, 'usefulness': 1, 'parents': 4, 'questions': 12, 'discovered': 4, 'truth': 37, 'penetration': 5, 'chose': 9, 'farther': 44, 'teachers': 3, 'affairs': 5, 'naturally': 14, 'martins': 13, 'mill': 11, 'months': 30, 'describe': 8, 'encouraged': 8, 'talkativeness': 1, 'amused': 18, 'picture': 22, 'beings': 3, 'enjoying': 4, 'youthful': 2, 'exultation': 4, \"martin's\": 13, 'parlours': 2, 'upper': 3, 'maid': 11, 'cows': 1, 'alderneys': 1, 'welch': 2, 'cow': 3, 'called': 44, 'drink': 3, 'dozen': 4, 'thinking': 60, 'immediate': 14, 'fancying': 13, \"son's\": 3, 'appeared': 49, 'narrative': 1, 'sink': 9, 'forever': 1, 'inspiriting': 1, 'notion': 5, 'meaning': 36, 'led': 25, 'evidently': 13, 'dislike': 17, 'share': 15, 'walks': 4, 'merry': 2, 'games': 1, 'dwelt': 4, 'obliging': 34, 'order': 14, 'walnuts': 2, \"shepherd's\": 1, 'sing': 4, 'singing': 5, 'flock': 1, 'bid': 4, 'wool': 1, 'spoke': 42, 'blush': 22, 'goose': 2, 'finest': 6, 'sunday': 2, 'asked': 38, 'nash': 13, 'prince': 1, 'richardson': 1, 'sup': 1, 'line': 16, 'yes': 125, 'reads': 2, 'agricultural': 1, 'reports': 2, 'lay': 11, 'window': 13, 'seats': 2, 'cards': 5, 'aloud': 8, 'extracts': 2, 'entertaining': 5, 'wakefield': 1, 'romance': 2, 'forest': 2, 'ride': 6, 'kingston': 8, 'horseback': 5, 'foot': 8, 'raise': 11, 'yeomanry': 1, 'precisely': 7, 'lower': 5, 'creditable': 1, '8th': 1, 'june': 7, 'birthday': 1, '23rd': 1, 'fortnight': 19, \"day's\": 6, 'settle': 12, 'seem': 37, 'probably': 36, 'repent': 6, 'hence': 6, 'men': 32, 'afford': 6, 'beforehand': 4, 'afloat': 1, 'employed': 9, 'stock': 3, 'diligence': 1, 'indoors': 1, 'talks': 4, 'taking': 28, 'scrape': 2, 'acquainted': 33, 'objected': 2, 'follow': 13, 'fit': 13, 'misfortune': 6, 'birth': 8, 'careful': 5, 'associates': 2, \"gentleman's\": 9, 'station': 3, 'degrading': 3, 'force': 6, 'firmly': 2, 'permanently': 2, 'advisable': 2, 'marries': 4, 'mere': 16, \"farmer's\": 1, \"your's\": 2, 'elizabeth': 8, 'educated': 3, 'ignorant': 9, 'vulgar': 8, 'watched': 8, 'fluctuations': 1, 'speech': 19, 'alarming': 6, 'symptoms': 7, 'admirer': 5, 'trusted': 9, 'serious': 31, 'difficulty': 30, \"harriet's\": 91, 'side': 71, 'oppose': 5, 'arrangement': 17, 'road': 19, 'respectfully': 1, 'unfeigned': 1, 'survey': 1, 'yards': 6, 'eye': 31, 'robert': 32, 'contrasted': 1, 'gentlemen': 23, 'gained': 5, 'insensible': 4, 'voluntarily': 5, 'noticed': 1, 'gentleness': 3, 'admiration': 24, 'remained': 17, 'minutes': 53, 'kept': 22, 'waiting': 16, 'running': 4, 'smiling': 31, 'flutter': 7, 'compose': 5, 'happening': 4, 'chance': 20, 'towards': 66, 'forgot': 3, 'morrow': 33, 'happen': 12, 'undoubtedly': 14, 'compared': 11, 'entire': 8, 'expect': 20, 'clownish': 2, 'air': 45, 'imagined': 20, 'confess': 13, 'nearer': 9, 'mortified': 8, 'genteel': 2, 'repeatedly': 4, 'specimens': 2, 'bred': 5, 'seeing': 51, 'perceiving': 3, 'wondering': 6, 'awkward': 12, 'abrupt': 3, 'uncouthness': 1, 'wholly': 11, 'unmodulated': 1, \"knightley's\": 33, 'compare': 6, 'gentleman': 27, 'plainly': 6, 'carrying': 9, 'speaking': 46, 'silent': 25, 'forty': 9, 'makes': 19, 'grows': 2, 'glaring': 2, 'disgusting': 2, 'loudness': 1, 'coarseness': 1, 'awkwardness': 5, 'becomes': 5, 'passable': 2, 'detestable': 1, 'later': 6, 'solemnly': 1, 'guessing': 5, 'completely': 26, 'gross': 1, 'inattentive': 1, 'appearances': 4, 'profit': 2, 'engrosses': 1, 'forgetting': 7, 'inquire': 9, 'market': 1, 'thriving': 1, 'thrive': 1, 'illiterate': 2, 'disturb': 3, 'remember': 48, 'answer': 65, 'grave': 8, 'displeasure': 6, 'itself': 15, \"elton's\": 67, 'held': 9, 'pattern': 5, 'openness': 3, 'quickness': 9, 'bluntness': 1, 'likes': 5, 'humour': 17, 'copied': 3, 'downright': 5, 'commanding': 1, 'suits': 3, 'figure': 10, 'copying': 1, 'sufferable': 1, 'contrary': 8, 'model': 4, 'seems': 24, 'grown': 9, 'design': 4, 'ingratiating': 1, 'softness': 3, 'strikes': 3, 'softer': 3, 'repeated': 17, 'personal': 7, 'praise': 31, 'justice': 24, 'blushed': 7, 'fixed': 20, 'driving': 4, 'palpably': 3, 'probable': 6, 'feared': 12, 'predict': 2, 'equalled': 2, 'plan': 26, 'brain': 7, 'during': 17, 'expediency': 3, 'low': 19, 'fairly': 9, 'doubtful': 9, 'sufficient': 11, 'vicarage': 17, 'deficiency': 4, 'meetings': 6, 'foundation': 3, 'weight': 4, 'efficacy': 1, 'fastidious': 1, 'feature': 5, 'dispense': 2, 'riding': 1, 'conquered': 2, 'v': 3, 'supplying': 3, 'quarrels': 1, 'fight': 1, 'battle': 1, 'yesterday': 28, 'agreeing': 4, 'associate': 3, 'judge': 26, 'feels': 10, 'sex': 5, 'objection': 13, 'hand': 53, 'wants': 11, 'inducement': 4, 'twelve': 7, 'lists': 2, 'regularly': 3, 'neatly': 1, 'arranged': 12, 'alphabetically': 1, 'rule': 10, 'drew': 6, 'fourteen': 2, 'preserved': 4, 'expecting': 13, 'steady': 11, 'submit': 3, 'requiring': 2, 'industry': 1, 'patience': 11, 'subjection': 2, 'stimulate': 1, 'affirm': 1, 'persuade': 14, 'omitting': 1, 'refresh': 3, 'memory': 10, 'feelingly': 3, 'moment': 111, 'added': 37, 'charm': 10, 'senses': 4, 'spoiled': 4, 'cleverest': 1, 'puzzled': 3, 'assured': 16, 'slow': 6, 'diffident': 2, 'cope': 1, 'inherits': 1, 'dependent': 3, 'preparing': 5, 'material': 12, 'matrimonial': 2, 'submitting': 2, 'thank': 40, 'borne': 11, 'despair': 5, 'grow': 10, 'cross': 10, 'wantonness': 1, 'plague': 2, 'vexation': 6, 'quarter': 25, 'possibilities': 1, 'pretend': 10, 'genius': 2, 'foretelling': 1, 'flatterer': 2, 'worse': 30, 'undesigned': 1, 'ignorance': 4, 'hourly': 1, 'flattery': 4, 'learn': 5, 'presenting': 2, 'inferiority': 5, 'venture': 12, 'gain': 4, 'places': 11, 'belongs': 2, 'uncomfortable': 5, 'mistaken': 22, 'doctrines': 1, 'tend': 1, 'adapt': 2, 'rationally': 2, 'varieties': 2, 'polish': 1, 'anxious': 31, 'lament': 5, 'attempt': 20, 'deny': 7, 'seldom': 14, 'hazle': 3, 'brilliant': 6, 'countenance': 17, 'complexion': 12, 'height': 6, 'firm': 4, 'upright': 7, 'glance': 12, 'hears': 4, 'gives': 17, 'loveliness': 3, 'add': 11, 'personally': 1, 'appears': 13, 'lies': 2, 'dread': 9, 'equally': 18, 'stout': 2, 'confidence': 17, 'kinder': 5, 'truer': 3, 'qualities': 6, 'lead': 12, 'lasting': 5, 'blunder': 8, 'errs': 1, 'angel': 5, 'spleen': 1, 'brings': 4, 'john': 88, 'blind': 13, 'frightened': 12, 'unjust': 6, 'unkind': 1, 'excuse': 29, 'liberty': 9, 'consider': 40, 'somewhat': 4, 'hinting': 1, 'discussion': 5, 'supposing': 9, 'inconvenience': 10, 'apprehended': 3, 'accountable': 1, 'approves': 1, 'province': 1, 'advice': 14, 'remains': 5, 'fate': 6, 'alarmed': 7, 'outcry': 1, 'sincere': 5, 'excited': 6, 'anxiety': 19, 'gently': 1, 'declares': 3, 'cared': 11, 'hereabouts': 2, 'tempt': 4, 'creating': 6, 'slight': 17, 'state': 56, 'assure': 59, 'conceal': 9, 'respecting': 2, 'destiny': 7, 'suspected': 14, 'transition': 3, 'weather': 40, 'surmise': 4, 'vi': 3, 'direction': 6, 'decidedly': 13, 'hesitation': 9, 'assurance': 8, 'hints': 6, 'confident': 3, 'fairest': 2, 'falling': 9, 'scruple': 11, 'praised': 5, 'warmly': 17, 'wanting': 33, 'perception': 4, 'striking': 4, 'improvement': 10, 'proofs': 4, 'growing': 17, 'graceful': 4, 'attractions': 1, 'infinitely': 14, 'grace': 8, 'artlessness': 1, 'admissible': 2, 'contradict': 2, 'gallant': 11, 'decision': 8, 'points': 11, 'principally': 5, 'superadded': 1, 'skilful': 1, 'sighing': 5, 'animation': 6, 'lover': 7, 'seconded': 1, 'sudden': 20, 'likeness': 21, 'leaving': 10, 'stopt': 9, 'naivete': 4, 'sooner': 12, 'exclaimed': 12, 'exquisite': 9, 'possession': 5, 'passion': 8, 'likenesses': 2, 'attempted': 6, 'tolerable': 9, 'disgust': 5, 'delight': 21, 'entreat': 11, 'charming': 32, 'drawings': 4, 'landscapes': 1, 'flowers': 1, 'inimitable': 3, 'pieces': 1, 'raptures': 5, 'delicate': 10, 'difficult': 7, 'peculiarity': 1, 'lines': 18, 'mouth': 5, 'words': 49, 'answering': 5, 'persuaded': 31, 'proposal': 10, 'stand': 21, 'earnest': 8, 'pressing': 6, 'produced': 14, 'portfolio': 1, 'containing': 5, 'portraits': 1, 'finished': 12, 'decide': 5, 'beginnings': 1, 'miniatures': 1, 'lengths': 2, 'pencil': 5, 'crayon': 1, 'colours': 3, 'turn': 28, 'progress': 9, 'music': 24, 'labour': 4, 'sang': 3, 'steadiness': 4, 'approached': 5, 'excellence': 5, 'deceived': 11, 'skill': 6, 'artist': 2, 'musician': 2, 'reputation': 1, 'accomplishment': 2, 'higher': 10, 'deserved': 10, 'spirited': 3, 'companions': 11, 'ecstasies': 1, 'pleases': 3, 'performances': 1, 'capital': 3, 'variety': 5, 'faces': 3, 'study': 5, 'sitting': 40, 'stealth': 1, 'kindest': 3, 'unlike': 5, 'henry': 21, 'bella': 1, 'sheet': 1, 'eager': 19, 'refuse': 16, 'coarser': 1, 'featured': 1, \"mama's\": 1, 'sketch': 3, 'fourth': 1, 'baby': 6, 'sleeping': 5, 'sofa': 5, 'cockade': 1, 'nestled': 1, 'down': 70, 'conveniently': 2, \"that's\": 18, 'george': 6, 'corner': 7, 'unclosing': 1, 'length': 8, 'pet': 1, 'vowed': 1, 'provoked': 3, 'agreed': 21, 'flattering': 4, 'trouble': 17, 'persuading': 5, 'finish': 4, 'apologised': 1, 'unfavourable': 2, 'forswear': 1, 'husbands': 4, 'wives': 4, 'repeating': 2, 'declaration': 7, 'wait': 22, 'portrait': 1, 'destined': 4, 'honourable': 10, 'mantelpiece': 2, 'blushing': 4, 'attitude': 3, 'presented': 3, 'mixture': 8, 'fidgeting': 1, 'behind': 19, 'watching': 8, 'touch': 12, 'stationing': 1, 'gaze': 3, 'offence': 8, 'elsewhere': 2, 'occurred': 18, 'employ': 7, 'lessen': 4, 'irksomeness': 1, 'listened': 16, 'peace': 12, 'smallest': 20, 'intermission': 1, 'jump': 2, 'charmed': 1, 'displeased': 8, 'encourager': 1, 'discern': 3, 'complaisance': 2, 'throw': 9, 'considerably': 4, 'filling': 1, 'memorial': 1, 'associations': 1, 'promising': 5, 'entreated': 4, 'attending': 8, 'civilities': 9, 'courtesies': 1, 'accompanied': 4, 'rapid': 3, 'continual': 9, 'defended': 1, 'criticism': 1, 'suspecting': 5, 'addressing': 9, 'correct': 5, 'eyebrows': 2, 'eyelashes': 1, 'resemblance': 5, 'effect': 18, 'shade': 7, 'tall': 10, 'presents': 2, 'proportions': 2, 'fore': 1, 'shortening': 1, 'prettily': 3, 'draws': 3, 'doors': 12, 'shawl': 5, 'shoulders': 3, 'tree': 4, 'safe': 21, 'placing': 3, 'touched': 4, 'admirable': 3, 'framed': 2, 'depended': 8, 'doer': 1, 'commissions': 1, 'stirring': 1, 'fogs': 1, 'alert': 3, 'commission': 5, 'executing': 1, 'errand': 7, 'endure': 13, 'desired': 12, 'repetition': 5, 'entreaties': 6, 'assurances': 5, 'frame': 2, 'directions': 4, 'pack': 1, 'ensure': 2, 'safety': 10, 'incommoding': 1, 'mostly': 1, 'fearful': 5, 'incommoded': 2, 'precious': 9, 'deposit': 1, 'tender': 14, 'suit': 13, 'languish': 1, 'principal': 8, 'vii': 3, 'fresh': 14, 'services': 1, 'agitated': 10, 'hurried': 8, 'announcing': 4, 'extraordinary': 25, 'longing': 4, 'minute': 15, 'finding': 18, 'parcel': 8, 'besides': 17, 'songs': 1, 'lent': 2, 'contained': 4, 'direct': 10, 'wrote': 19, 'fast': 13, 'ashamed': 28, 'asking': 10, 'connect': 2, \"i'd\": 1, 'pressed': 9, 'expectation': 14, 'grammatical': 1, 'composition': 1, 'disgraced': 3, 'language': 9, 'sentiments': 7, 'conveyed': 10, 'writer': 4, 'expressed': 10, 'liberality': 2, 'propriety': 8, 'delicacy': 16, 'paused': 6, 'anxiously': 6, 'forced': 11, 'slowly': 6, 'helped': 3, 'concise': 2, 'diffuse': 1, 'strongly': 7, 'takes': 8, 'pen': 1, 'vigorous': 1, 'certain': 27, 'returning': 17, 'speedily': 5, 'intelligible': 12, 'unequivocal': 1, 'doubts': 7, 'demurs': 1, 'expressions': 8, 'inflicting': 1, 'unbidden': 1, 'prompted': 4, 'write': 24, 'disappointment': 18, 'beg': 12, 'pardon': 9, 'mistake': 16, 'misunderstanding': 1, 'purport': 1, 'wording': 1, 'reserve': 11, 'continued': 38, 'contemplating': 1, 'persevered': 2, 'silence': 20, 'apprehend': 3, 'bewitching': 2, 'powerful': 5, 'hesitate': 4, 'duty': 21, 'hesitating': 4, 'safer': 5, 'graciously': 4, 'occur': 10, 'definition': 2, 'deceive': 3, 'instead': 27, 'confused': 4, 'thoughtfully': 1, 'mechanically': 1, 'twisted': 1, 'waited': 6, 'result': 6, 'impatience': 5, 'hopes': 21, 'suspense': 6, 'approving': 4, 'grieved': 8, 'wavering': 2, 'visited': 5, 'surmised': 2, 'forcibly': 2, 'aghast': 1, 'dreadful': 19, 'escape': 15, 'honour': 27, 'severe': 18, 'pang': 2, 'killed': 4, 'banished': 2, 'conceited': 4, 'conscience': 8, 'opposing': 6, 'censure': 6, 'natured': 8, 'visiting': 8, 'writing': 14, 'consideration': 24, 'consolation': 10, 'offending': 1, 'cares': 8, 'advised': 4, 'protest': 8, 'formation': 1, 'sentence': 4, 'replying': 2, 'tendency': 4, 'brace': 1, 'decisive': 5, 'ungrateful': 5, 'sealed': 1, 'bringing': 11, 'invited': 15, 'tone': 24, 'linen': 2, 'draper': 3, 'refinement': 3, 'teacher': 2, 'envy': 6, 'conquest': 2, 'appear': 36, 'dark': 7, 'attentions': 29, 'tittle': 1, 'tattle': 1, 'hitherto': 8, 'explained': 3, 'cheering': 2, 'rejected': 4, 'softly': 1, 'absent': 10, 'allowing': 5, 'bond': 3, 'street': 11, 'modest': 3, 'mounts': 1, 'horse': 9, 'solace': 2, 'opens': 1, 'introduces': 1, 'diffuses': 1, 'prepossession': 1, 'suspicious': 2, 'imaginations': 2, 'grew': 10, 'stronger': 8, 'viii': 3, 'slept': 1, 'gradually': 10, 'getting': 16, 'bed': 13, 'appropriated': 2, 'judged': 13, 'safest': 3, 'previously': 2, 'defer': 5, 'induced': 12, 'civility': 10, 'ceremony': 7, 'offering': 7, 'answers': 2, 'amusing': 7, 'contrast': 5, 'protracted': 2, 'apologies': 8, 'hesitations': 2, 'rude': 6, 'sun': 6, 'treat': 2, 'invalids': 1, 'privileged': 2, 'stranger': 5, 'substitute': 1, 'entertain': 4, 'walker': 1, 'pace': 6, 'tedious': 1, 'fetch': 7, 'greatcoat': 1, 'likewise': 4, 'seemingly': 3, 'inclined': 6, 'chat': 5, 'voluntary': 3, 'depends': 7, 'improved': 4, 'cured': 3, \"girl's\": 1, 'giggle': 1, 'bestow': 2, 'overpower': 2, 'delay': 19, 'gossips': 1, 'tiresome': 8, 'wretches': 1, 'contradiction': 3, 'presently': 22, 'smile': 44, 'reason': 41, 'confidant': 1, 'dropt': 4, 'hint': 19, 'adviser': 1, 'offer': 19, 'desperately': 1, 'consult': 5, 'considers': 4, 'imprudent': 6, 'speaks': 9, 'plans': 9, 'advising': 2, 'esteemed': 3, 'counsellor': 2, 'detained': 7, 'wretch': 2, 'absolutely': 33, 'inferred': 4, 'refused': 11, 'red': 1, 'indignation': 8, 'simpleton': 2, 'foolish': 9, 'incomprehensible': 1, 'imagines': 1, 'madness': 5, 'clearer': 3, 'admit': 10, 'address': 9, 'loudly': 3, 'calmer': 2, 'asperity': 1, 'infatuation': 2, 'blinds': 1, 'claims': 22, 'relations': 4, 'simple': 18, 'experience': 4, 'wit': 11, 'avail': 2, 'tempered': 10, 'beneath': 3, 'deserts': 1, 'helpmate': 1, 'trust': 8, 'aright': 1, 'cry': 1, 'extreme': 11, 'crossed': 6, \"friend's\": 11, 'partiality': 2, 'richest': 1, 'sphere': 1, 'moves': 2, 'degradation': 4, 'illegitimacy': 2, 'level': 4, 'allowance': 2, 'grudged': 1, 'indubitable': 4, \"gentlemen's\": 1, 'whoever': 4, 'shift': 2, 'move': 19, 'distaste': 1, 'ambition': 2, 'proceeded': 13, 'disinclined': 1, 'haphazard': 1, 'selfish': 5, 'farthest': 2, 'reply': 14, 'assertion': 1, 'contemptible': 3, 'represent': 1, 'slightingly': 1, 'waiving': 1, 'possesses': 1, 'recommendations': 6, 'ninety': 2, 'nine': 4, 'philosophic': 2, 'fall': 10, 'minds': 4, 'certainty': 10, 'sought': 6, 'chusing': 2, 'consequently': 4, 'nice': 10, 'comprehending': 3, 'readiness': 2, 'highest': 11, 'possess': 2, 'abusing': 2, 'misapply': 1, 'delights': 2, 'bewitches': 1, 'satisfies': 2, 'pick': 1, 'wondered': 4, 'receives': 2, 'perceive': 8, 'unfortunate': 7, 'puff': 1, 'working': 5, 'weak': 6, 'produces': 1, 'mischief': 5, 'expectations': 4, 'offers': 5, 'connecting': 1, 'obscurity': 3, 'prudent': 3, 'disgrace': 2, 'involved': 6, 'mystery': 5, 'parentage': 2, 'revealed': 2, 'greatly': 7, 'teach': 4, 'desperate': 3, \"master's\": 2, 'canvassing': 1, 'angry': 19, 'application': 3, 'abide': 1, 'refusal': 5, 'tolerate': 3, 'assistant': 1, 'altered': 5, 'errant': 1, 'sincerity': 4, 'unconcerned': 2, 'habitual': 1, 'opposite': 7, 'unpleasant': 13, 'views': 17, 'secret': 22, 'projects': 1, 'laughed': 16, 'disclaimed': 1, 'sentimentally': 2, 'act': 15, 'unreserved': 1, 'pounds': 4, 'apiece': 1, 'doings': 1, 'abruptly': 5, 'vexed': 4, 'promoting': 1, 'sanction': 4, 'affair': 6, 'provoking': 6, 'exceedingly': 11, 'indistinctness': 1, \"her's\": 7, \"adversary's\": 1, 'materially': 4, 'cast': 3, 'adequate': 1, 'restoratives': 1, 'staying': 14, 'uneasy': 11, \"man's\": 17, 'pleading': 2, 'failure': 2, 'prominent': 3, 'uneasiness': 10, \"woman's\": 9, 'justify': 2, 'pretensions': 2, 'observer': 2, 'hastily': 7, 'resentfully': 1, 'inconsiderate': 2, 'attentive': 10, 'war': 1, 'motives': 6, 'effects': 5, 'overcoming': 1, 'prudence': 5, 'originally': 1, 'attend': 13, 'sick': 10, 'clayton': 1, 'park': 2, 'whist': 4, 'club': 5, 'remonstrated': 1, 'shabby': 2, 'player': 2, 'journey': 12, 'enviable': 1, 'bearer': 1, 'conscious': 11, 'rode': 3, 'significantly': 2, 'luckiest': 3, 'agreeableness': 2, 'ix': 3, 'forgiven': 5, 'proceedings': 2, 'justified': 5, 'endeared': 1, 'elegantly': 3, 'sighed': 2, 'visibly': 2, 'remembered': 6, 'furnished': 3, 'utmost': 14, 'latter': 5, 'improving': 1, 'chapters': 1, 'intention': 7, 'easier': 3, 'pleasanter': 3, 'imagination': 13, 'range': 2, 'labouring': 1, 'enlarge': 1, 'comprehension': 4, 'sober': 3, 'facts': 1, 'literary': 1, 'pursuit': 5, 'mental': 2, 'collecting': 4, 'transcribing': 1, 'riddles': 2, 'quarto': 1, 'hot': 11, 'ornamented': 1, 'ciphers': 1, 'trophies': 1, 'literature': 1, 'collections': 1, 'grand': 5, 'scale': 2, 'assisted': 5, 'invention': 2, 'recollect': 19, 'worth': 30, 'putting': 10, 'ended': 8, 'kitty': 3, 'frozen': 3, 'riddle': 5, 'intellects': 2, 'requisition': 1, 'contribute': 1, 'enigmas': 1, 'charades': 4, 'conundrums': 1, 'intently': 4, 'recollections': 6, 'ungallant': 1, 'breathe': 3, 'lips': 6, 'politest': 1, 'puzzles': 1, 'recited': 1, 'charade': 21, 'doth': 1, 'affliction': 2, 'denote': 3, \"destin'd\": 1, 'antidote': 1, 'soften': 1, 'heal': 2, 'transcribed': 2, 'security': 4, 'freshness': 3, 'stupidest': 2, 'fellow': 9, 'inspire': 1, 'inspiration': 1, 'piece': 13, 'addressed': 4, 'collection': 6, 'expose': 5, 'deep': 14, \"moment's\": 10, 'pause': 11, 'tremor': 1, 'loth': 1, 'examine': 2, 'pomp': 2, 'kings': 3, 'lords': 2, 'earth': 5, 'luxury': 4, 'ease': 20, 'behold': 3, 'monarch': 3, 'seas': 3, 'reverse': 4, 'freedom': 3, 'flown': 2, 'lord': 6, 'sea': 14, 'bends': 2, 'slave': 4, 'reigns': 3, 'thy': 2, 'supply': 9, 'approval': 2, 'beam': 2, 'pondered': 3, 'caught': 22, 'passing': 19, 'puzzling': 1, 'confusion': 15, 'dulness': 3, 'courtship': 3, 'addresses': 3, 'approve': 7, 'epithets': 1, 'justest': 1, 'humph': 4, 'benefit': 5, 'convince': 9, 'crisis': 4, 'observations': 7, 'eagerness': 10, 'kingdom': 4, 'neptune': 1, 'trident': 1, 'mermaid': 2, 'shark': 3, 'syllable': 10, 'mermaids': 1, 'sharks': 1, 'listen': 18, 'court': 11, 'ship': 1, 'cream': 1, 'follows': 1, 'resist': 5, 'concluding': 4, 'pointed': 5, 'completest': 1, 'clear': 12, 'eligibility': 1, 'congratulate': 5, 'confirm': 1, 'alliance': 7, 'embraces': 1, 'articulate': 1, 'arrive': 5, 'acknowledgment': 5, 'verses': 2, 'prologue': 1, 'play': 18, 'motto': 1, 'prose': 3, 'strangest': 1, 'smiths': 1, 'eltons': 22, 'courts': 1, 'pre': 1, 'respective': 1, 'homes': 3, 'sends': 3, 'channel': 1, 'smooth': 7, 'shakespeare': 1, 'passage': 14, 'michaelmas': 1, 'handsomest': 3, 'invitations': 6, 'preached': 1, 'abbots': 1, 'ran': 9, 'front': 7, 'peeped': 1, 'scolded': 2, 'staid': 8, 'arm': 16, 'cole': 49, 'conduct': 27, 'fools': 2, 'phrase': 5, 'rise': 5, 'satisfy': 10, 'nicely': 5, 'studied': 2, 'twelvemonth': 3, 'declining': 4, 'exception': 5, 'intent': 3, 'comparisons': 1, 'cheeks': 4, 'glow': 6, 'rejection': 1, 'committed': 4, 'beaming': 1, 'private': 12, 'divide': 2, 'couplet': 1, 'appropriation': 1, 'ceases': 2, 'poet': 2, 'capacities': 1, 'submitted': 6, 'parts': 2, 'publicity': 1, 'lasts': 2, 'pays': 4, 'tenderest': 2, 'refine': 2, 'betray': 5, 'improperly': 2, 'affix': 1, 'affixed': 1, 'overpowered': 4, 'tribute': 2, 'secrecy': 3, 'pushed': 4, 'proceed': 12, 'souls': 1, 'ridiculous': 5, 'recurrence': 2, 'inquiry': 12, 'dears': 2, 'fairy': 3, 'distinctly': 7, 'explanations': 3, 'complimentary': 2, 'conclusion': 8, 'aye': 15, 'nodded': 1, 'stanza': 1, 'kindled': 1, 'flame': 1, 'deplore': 2, 'hood': 1, \"wink'd\": 1, 'aid': 2, 'near': 46, 'approach': 7, 'fatal': 1, \"garrick's\": 1, 'christened': 1, 'catherine': 1, 'grandmama': 11, 'nursery': 3, 'easter': 2, 'lawyer': 3, 'inconvenient': 3, 'sadly': 3, 'necessity': 10, '28th': 2, 'thankful': 5, 'promises': 4, 'musing': 3, 'accomplish': 2, 'unwelcome': 5, 'submissive': 2, 'affected': 7, 'branch': 2, 'mama': 2, 'eldest': 8, 'chair': 11, 'grandpapa': 3, 'string': 3, 'knife': 1, 'knives': 1, 'grandpapas': 1, 'rough': 3, 'papas': 1, 'boys': 13, 'hardy': 1, 'misbehave': 1, 'sharp': 2, 'tosses': 1, 'ceiling': 1, 'frightful': 2, 'whichever': 1, 'preparation': 7, \"o'clock\": 8, 'hero': 2, 'discerned': 3, 'push': 1, 'die': 5, 'ostensible': 3, 'dining': 13, 'promised': 17, 'conditionally': 1, 'thanked': 7, 'disappointing': 2, 'rubber': 1, 're': 2, 'urged': 2, 'declined': 8, 'bow': 4, 'amiss': 6, 'doubtingly': 2, 'glanced': 2, 'examined': 2, 'smilingly': 1, 'writes': 10, 'effusion': 2, 'honoured': 5, 'replacing': 1, 'proudest': 1, 'parade': 7, 'speeches': 4, 'apt': 7, 'incline': 2, 'laugh': 16, 'indulge': 7, 'sublime': 1, 'charitable': 4, 'detached': 1, 'cottage': 6, 'leading': 8, 'angles': 1, 'broad': 7, 'irregular': 2, 'main': 2, 'abode': 1, 'dwellings': 1, 'rose': 8, 'smartened': 1, 'proprietor': 2, 'slackened': 1, 'observing': 8, 'remark': 6, 'yellow': 3, 'curtains': 1, 'admires': 1, 'intimately': 1, 'hedges': 2, 'gates': 5, 'pools': 1, 'pollards': 1, 'exteriors': 1, 'probabilities': 2, 'class': 5, 'contrive': 4, 'pretence': 9, 'housekeeper': 10, 'message': 11, 'induce': 7, 'tempted': 10, 'recollecting': 4, 'inducements': 1, 'fool': 3, \"husband's\": 3, 'formidable': 3, 'image': 1, 'prosing': 1, 'undistinguishing': 1, 'unfastidious': 1, 'relative': 5, 'unmarried': 1, 'poverty': 3, 'celibacy': 1, 'narrow': 4, 'sport': 2, 'candour': 5, 'sour': 1, 'barely': 5, 'perforce': 1, 'illiberal': 1, 'contracted': 1, 'shilling': 2, 'sixpence': 1, 'resources': 10, 'occupations': 1, 'variation': 2, 'carpet': 1, 'affections': 11, 'avoided': 4, 'sensation': 7, 'fear': 11, 'parent': 2, 'warmer': 6, 'blinder': 1, 'nephews': 4, 'nieces': 2, 'niece': 20, \"bates's\": 22, 'heaven': 4, 'forbid': 3, 'knightleys': 7, 'fairfax': 210, 'stomacher': 1, 'knit': 1, 'garters': 1, 'grandmother': 7, 'tires': 1, 'death': 10, 'topics': 3, 'superseded': 2, 'compassionate': 4, 'distresses': 1, 'relief': 9, 'counsel': 4, 'purse': 3, 'temptations': 1, 'romantic': 1, 'virtue': 3, 'troubles': 2, 'sympathy': 5, 'intelligence': 13, 'sickness': 2, 'remaining': 3, 'impression': 7, 'scene': 5, 'sights': 2, 'trifling': 9, 'creatures': 6, 'vanish': 1, 'hedge': 2, 'tottering': 1, 'footstep': 2, 'slippery': 1, 'stopping': 5, 'wretchedness': 5, 'recall': 3, 'bend': 4, 'trial': 4, 'stability': 2, 'exertion': 6, 'sufferers': 1, 'wretched': 12, 'empty': 1, 'distressing': 7, 'ourselves': 17, 'joined': 17, 'sufferings': 5, 'parley': 2, 'accompany': 3, 'increase': 13, 'footpath': 3, 'imitation': 1, 'stopped': 17, 'lacing': 1, 'boot': 5, 'stooping': 3, 'begged': 10, 'overtaken': 2, 'setting': 9, 'orders': 1, 'pitcher': 1, 'broth': 1, 'acting': 8, 'ahead': 1, 'obligation': 5, 'involuntarily': 2, \"child's\": 3, 'theirs': 1, 'around': 13, 'join': 23, 'detail': 3, 'experienced': 1, \"yesterday's\": 3, \"cole's\": 12, 'stilton': 1, 'cheese': 1, 'north': 2, 'wiltshire': 1, 'butter': 2, 'cellery': 1, 'beet': 1, 'root': 1, 'dessert': 2, 'consoling': 2, 'interests': 2, 'serve': 3, 'quietly': 9, 'pales': 1, 'arrange': 3, 'broke': 3, 'lace': 6, 'dexterously': 1, 'throwing': 1, 'ditch': 1, 'stop': 15, 'acknowledged': 12, 'inability': 1, 'equipped': 1, 'ribband': 1, 'proposition': 3, 'exceed': 4, 'alertness': 4, 'conducting': 1, 'communicated': 8, 'ajar': 2, 'fully': 16, 'incessant': 5, 'practicable': 3, 'lovers': 3, 'windows': 9, 'aspect': 1, 'glory': 2, 'schemed': 1, 'successfully': 2, 'purposely': 2, 'gallantries': 1, 'allusions': 1, 'cautious': 7, 'advances': 2, 'inch': 3, 'hazard': 4, 'believes': 1, 'ingenious': 2, 'device': 3, 'xi': 3, 'superintend': 1, 'quicken': 1, 'measures': 2, 'anticipation': 4, 'reality': 2, 'henceforth': 1, 'prime': 1, 'fortuitous': 1, 'rapidly': 6, 'somehow': 5, 'surry': 9, 'exciting': 5, 'vacation': 1, 'holidays': 1, 'autumn': 7, 'bathing': 6, 'nervously': 1, 'apprehensively': 1, 'forestalling': 1, 'fatigues': 2, 'coachman': 5, 'alarms': 2, 'needless': 3, 'competent': 3, 'maids': 1, 'reaching': 4, 'bustle': 10, 'arrival': 13, 'variously': 2, 'dispersed': 2, 'noise': 5, 'endured': 7, 'respected': 2, 'maternal': 1, 'solicitude': 13, 'ones': 4, 'instantly': 14, 'attendance': 4, 'drinking': 5, 'playing': 10, 'disturbance': 2, 'restless': 2, 'wrapt': 3, 'doating': 2, 'tenderly': 1, 'ties': 1, 'inherited': 2, 'fears': 14, 'wingfield': 9, 'alike': 7, 'benevolence': 4, 'habit': 14, 'profession': 3, 'reserved': 9, 'prevented': 9, 'capable': 6, 'unreasonably': 3, 'reproach': 9, 'perfection': 11, 'worshipping': 1, 'clearness': 4, 'ungracious': 4, 'escaped': 7, 'injuries': 1, 'calmly': 3, 'blindness': 7, 'regardless': 2, 'forbearance': 8, 'peculiarities': 1, 'fidgetiness': 1, 'remonstrance': 2, 'retort': 1, 'bestowed': 3, 'charity': 6, 'properest': 1, 'unsullied': 1, 'cordiality': 2, 'seated': 12, 'shake': 9, 'grievous': 1, 'agrees': 2, 'plaintive': 2, 'hesitated': 5, 'excepting': 13, 'false': 3, 'doubted': 9, 'disengaged': 11, 'forget': 28, 'strike': 2, 'convenience': 6, 'aside': 4, 'advocate': 3, 'misery': 13, 'slighting': 2, 'existed': 1, 'flying': 1, \"henry's\": 2, 'kite': 1, 'windy': 2, 'september': 5, 'scarlet': 1, 'fever': 6, 'cobham': 1, 'passes': 3, 'fly': 3, 'exceeding': 1, 'weymouth': 17, 'dated': 1, 'sept': 1, 'madam': 13, 'signed': 2, 'f': 4, 'c': 5, 'coolly': 8, 'finds': 1, 'depending': 1, 'affords': 1, 'bordered': 2, 'sufficiency': 1, 'whence': 2, 'resulted': 1, 'xii': 3, 'disagreement': 3, 'procuring': 5, 'concession': 2, 'quarrelled': 4, 'assist': 13, 'restoration': 1, 'danced': 8, \"aunt's\": 5, 'arms': 2, 'unceremoniousness': 1, 'amity': 2, 'sauciness': 1, 'whim': 1, 'dealings': 2, 'discordancies': 1, 'lives': 7, 'lapse': 1, 'understandings': 1, 'example': 5, 'renewing': 2, 'grievances': 1, 'argument': 4, 'bitterly': 2, 'disappointed': 20, \"d'ye\": 5, 'succeeded': 11, 'english': 8, 'burying': 1, 'calmness': 6, 'indifference': 14, 'requisite': 4, 'conversable': 3, 'subjects': 11, 'rarely': 2, 'mixing': 1, 'occasionally': 5, 'communicative': 3, 'magistrate': 1, 'curious': 3, 'anecdote': 1, 'field': 2, 'local': 3, 'fail': 5, 'longest': 3, 'attachments': 1, 'drain': 1, 'fence': 1, 'felling': 1, 'destination': 2, 'acre': 1, 'wheat': 1, 'turnips': 1, 'spring': 14, 'corn': 1, 'equality': 4, 'cooler': 4, 'rendered': 7, 'interrupting': 1, 'labours': 1, 'terribly': 2, 'tired': 19, 'unpersuadable': 3, 'article': 5, 'basins': 1, 'ordered': 10, 'discourse': 2, 'south': 8, 'strenuously': 1, 'weakness': 2, \"bella's\": 2, 'throat': 12, 'unsafe': 1, 'envious': 2, 'miserable': 11, 'prohibited': 1, 'forgets': 1, 'bilious': 3, 'practice': 3, 'calling': 19, 'attributed': 1, 'embrocation': 2, \"wingfield's\": 1, 'applying': 2, 'bateses': 5, 'colds': 4, 'prevalent': 1, 'heavy': 9, 'influenza': 1, 'sickly': 4, 'confound': 1, 'neighbourhood': 15, 'airy': 3, 'vicinity': 1, 'aches': 1, 'palpitations': 1, 'pale': 4, 'turning': 24, 'middling': 1, 'fatigued': 4, 'doctoring': 1, 'coddling': 1, \"graham's\": 1, 'intending': 4, 'bailiff': 1, 'scotland': 1, 'prejudice': 2, 'praising': 1, 'accidentally': 2, 'excessively': 12, 'colonel': 38, 'campbell': 43, 'topic': 3, 'discussed': 1, 'similar': 3, 'harmony': 2, 'agitation': 16, 'comments': 1, 'undoubting': 1, 'wholesomeness': 1, 'philippics': 1, 'houses': 8, 'unfortunately': 6, 'failures': 1, 'recent': 3, 'cook': 1, 'hired': 1, 'dangerous': 8, 'shaking': 4, 'fixing': 1, 'ejaculation': 1, 'ear': 5, 'consequences': 2, 'rumination': 1, 'suffice': 1, 'restore': 4, 'relish': 1, 'interval': 5, 'moreover': 5, 'unhealthy': 2, 'mud': 1, 'cromer': 3, 'holds': 5, 'pure': 1, 'lodgings': 1, 'consulted': 4, 'stake': 2, 'travel': 6, 'reached': 16, \"law's\": 3, 'breaking': 3, 'coast': 1, 'drugs': 1, 'sarcastic': 1, 'dryness': 1, 'interposition': 1, 'moving': 10, 'langham': 1, 'cut': 16, 'meadows': 4, 'conceive': 6, 'proving': 4, 'maps': 1, 'harsh': 1, 'reflections': 6, 'unconsciously': 2, 'attributing': 1, 'soothing': 2, 'renewal': 3, 'xiii': 3, 'swiftly': 1, 'mornings': 1, 'engagement': 31, 'avoiding': 5, 'denial': 4, 'preference': 12, 'division': 3, 'amounted': 1, 'occupy': 7, 'carriages': 11, 'especial': 1, 'numbers': 7, '24th': 1, 'doom': 1, 'feverish': 1, 'sore': 8, 'excluded': 3, 'unavoidable': 1, 'absences': 1, 'representing': 3, 'comfortless': 1, 'advanced': 3, 'invalid': 4, 'carry': 8, 'glowing': 2, 'despatch': 2, 'roast': 4, 'mutton': 3, 'rice': 1, 'pudding': 1, 'hastening': 1, 'describing': 2, 'complaint': 7, 'inflamed': 1, 'heat': 8, 'pulse': 2, 'liable': 6, 'throats': 1, 'alarm': 17, 'infectious': 2, 'putrid': 1, 'risks': 2, 'tranquillised': 2, 'excess': 1, 'remain': 14, 'feed': 1, 'snow': 16, 'interfere': 3, 'hoarse': 2, 'demand': 1, 'previous': 9, 'conceptions': 1, 'impartially': 1, 'vision': 1, 'muttering': 2, 'rejoicing': 1, 'extricated': 1, 'civilly': 2, 'accepting': 6, 'prompt': 6, 'exulting': 2, 'employments': 1, 'dignities': 1, 'duties': 3, 'naming': 3, 'parting': 13, 'assuring': 2, 'news': 36, 'balance': 1, 'overlook': 3, 'moderate': 7, 'negligent': 5, 'slyness': 1, 'astonishment': 6, 'imagining': 2, 'regulate': 1, 'behaviour': 25, 'accordingly': 4, 'ascertain': 3, 'blunders': 6, 'mistakes': 1, 'increasing': 9, 'coldness': 7, 'shrinking': 1, 'punctually': 3, 'motion': 5, 'flakes': 2, 'sky': 1, 'overcharged': 2, 'milder': 1, 'white': 8, 'happiest': 7, 'abroad': 8, 'sacrifice': 10, 'disagreeables': 1, 'drive': 12, 'expressing': 8, 'discontent': 1, 'encounter': 5, 'absurdity': 2, 'snowing': 3, 'folly': 12, \"people's\": 2, 'deem': 2, 'thinner': 1, 'clothing': 1, 'defiance': 2, 'shelter': 2, 'dull': 9, 'dismal': 1, 'servants': 14, 'shivering': 1, 'colder': 1, 'rooms': 15, 'assent': 3, 'emulate': 1, 'usually': 4, 'administered': 1, 'travelling': 5, 'complying': 3, 'quarrelsome': 1, 'heroism': 2, 'glasses': 2, 'wrapped': 1, 'arrived': 18, 'step': 11, 'spruce': 5, 'dressing': 1, 'lengthened': 1, 'dress': 8, 'flattered': 4, 'cordial': 5, 'complaints': 4, 'estimable': 1, 'lasted': 3, 'dismay': 1, 'sheepskin': 1, 'precautions': 1, 'contrivances': 1, 'modern': 5, 'fenced': 1, 'guarded': 3, 'breath': 3, 'unpermitted': 1, 'afternoon': 6, 'ha': 2, 'snows': 1, 'seasonable': 1, 'extremely': 66, 'invites': 1, 'snowed': 2, \"se'nnight\": 1, 'astonished': 8, 'fires': 2, 'values': 1, 'hospitable': 1, 'select': 1, 'accommodate': 2, 'enter': 8, 'slavery': 1, 'sweep': 5, 'gate': 4, 'xiv': 3, 'joyous': 3, 'disperse': 1, 'related': 4, 'arrangements': 2, 'perplexities': 3, 'uninterrupted': 1, 'communication': 9, 'gratifications': 1, 'oddities': 1, 'enjoy': 9, 'enjoyable': 1, 'engrossed': 2, 'insensibility': 2, 'elbow': 1, 'continually': 6, 'obtruding': 1, 'solicitously': 1, 'avoid': 13, 'internal': 1, 'transfer': 2, 'absurd': 1, 'insufferable': 7, 'zeal': 4, 'effort': 5, 'preserve': 3, 'positively': 10, 'amongst': 3, 'overpowering': 1, 'syllables': 1, 'reviving': 1, 'replete': 2, 'coupled': 1, 'sensations': 13, 'timed': 1, 'appearing': 5, 'polite': 2, 'substance': 7, 'released': 1, 'saddle': 1, 'assented': 1, 'sacrifices': 2, 'january': 5, 'secrets': 1, \"frank's\": 8, 'stir': 7, 'issue': 2, 'nodding': 5, 'vagaries': 1, 'whims': 4, 'caprices': 1, 'stone': 2, 'devil': 1, 'wishing': 17, 'undergoing': 1, 'sanguine': 7, 'stands': 1, 'spare': 12, 'blessing': 12, 'instinctive': 1, 'confinement': 2, 'gladly': 3, 'apprehensive': 4, 'delays': 4, 'braithwaites': 1, 'jealousy': 5, 'jealous': 3, 'teazed': 1, \"man_'s\": 1, 'decides': 1, 'caution': 14, 'individual': 2, 'nephew': 13, 'owes': 3, 'exercises': 1, 'xv': 3, 'lateness': 1, 'chatty': 2, 'convivial': 1, 'separations': 1, 'augmentation': 1, 'improprieties': 1, 'awake': 2, 'terror': 6, 'perverse': 2, 'infection': 3, 'earnestness': 3, 'chamber': 2, 'learnt': 2, 'concealing': 4, 'inconstancy': 2, 'abominable': 7, 'behaving': 3, 'implore': 1, 'persuasions': 1, 'disorder': 3, 'scrupulous': 4, 'careless': 3, 'nurse': 2, 'catching': 5, 'ulcerated': 1, 'complain': 4, 'assuming': 4, 'offended': 5, 'removing': 3, 'reproof': 3, 'succeed': 5, 'examining': 4, 'opened': 16, 'covered': 3, 'drifting': 1, 'wind': 5, 'prove': 11, 'engagements': 9, 'storm': 3, 'consternation': 2, 'pursuing': 2, 'unfeelingly': 1, \"two's\": 1, 'impassable': 2, 'blown': 1, 'bleak': 1, 'confessing': 4, 'lest': 2, 'hurrying': 9, 'impede': 2, 'accommodation': 6, 'contrivance': 1, 'lodged': 2, 'exclamation': 3, 'representation': 3, 'revived': 3, 'blocked': 1, 'adventurous': 1, 'accumulations': 1, 'drifted': 1, 'along': 4, 'shod': 1, 'discussing': 1, 'nowhere': 2, 'whiten': 1, 'clouds': 2, 'coachmen': 1, 'tidings': 3, 'appeased': 2, 'urging': 2, 'recommending': 5, 'brief': 2, 'ring': 1, 'bell': 3, 'rung': 1, 'deposited': 1, 'cool': 6, 'recover': 5, 'carefully': 3, 'discovery': 8, 'darker': 2, 'stept': 3, 'escorted': 2, 'lawfully': 1, 'shut': 9, 'tete': 8, 'suspicions': 13, 'quarters': 2, 'restrain': 3, 'gravity': 2, 'seized': 5, 'demanded': 1, 'violent': 2, 'availing': 1, 'declaring': 1, 'hoping': 7, 'fearing': 1, 'adoring': 1, 'ardent': 2, 'unequalled': 1, 'unexampled': 1, 'resolved': 28, 'seriously': 16, 'apology': 5, 'diffidence': 2, 'professing': 1, 'vainly': 1, 'resolve': 10, 'drunkenness': 1, 'deliver': 1, 'accent': 5, 'boastful': 1, 'amazement': 4, 'drunk': 1, 'elevate': 2, 'confuse': 1, 'protested': 2, 'suspicion': 20, 'injurious': 2, 'slightly': 3, 'acknowledging': 5, 'resumed': 9, 'urgent': 2, 'inebriety': 1, 'presumption': 7, 'fewer': 4, 'struggles': 1, 'politeness': 7, 'witnessed': 4, 'unsteadiness': 2, 'professions': 6, 'dead': 2, 'alive': 3, 'misled': 2, 'sole': 3, 'marking': 3, 'adoration': 2, 'insinuating': 1, 'uppermost': 1, 'joyously': 1, 'interpret': 1, 'confesses': 2, 'error': 8, 'attraction': 8, 'affronted': 2, 'respectably': 1, 'ends': 1, 'misconception': 1, 'inequality': 4, 'supplication': 1, 'swelling': 2, 'resentment': 9, 'emotions': 2, 'zigzags': 1, 'embarrassment': 5, 'indispensable': 3, 'coldly': 1, 'proudly': 1, 'indescribable': 2, 'irritation': 4, 'trembling': 5, 'dangers': 2, 'solicitous': 4, 'perturbation': 4, 'needed': 2, 'separating': 1, 'xvi': 3, 'curled': 1, 'overthrow': 1, 'development': 2, 'blow': 3, 'humiliation': 4, 'mis': 2, 'doubled': 1, 'unmarked': 1, 'dubious': 1, 'jumble': 1, 'thick': 5, 'headed': 3, 'unnecessarily': 3, 'instant': 7, 'indebted': 4, 'start': 5, 'indiscreetly': 1, 'shewn': 10, 'mortifying': 5, 'respects': 6, 'sunk': 10, 'proposals': 3, 'insulted': 1, 'arrogance': 3, 'pretended': 1, 'sighs': 1, 'abundance': 5, 'devise': 1, 'allied': 1, 'aggrandise': 1, 'enrich': 2, 'heiress': 1, 'gradations': 1, 'younger': 2, 'ancient': 1, 'landed': 1, 'inconsiderable': 2, 'notch': 1, 'belonged': 6, 'secondary': 2, 'alliances': 1, 'raving': 1, 'incongruity': 1, 'honesty': 1, 'complaisant': 1, 'courtesy': 2, 'motive': 9, 'warrant': 2, 'ordinary': 2, 'observation': 13, 'misinterpreted': 2, 'adventuring': 1, 'trick': 5, 'introducing': 5, 'william': 21, 'coxe': 2, 'pert': 3, 'relapse': 1, 'dispiriting': 1, 'cogitation': 1, 'explanation': 14, 'future': 16, 'continuing': 5, 'discontinuing': 1, 'subduing': 2, 'eclat': 1, 'unmirthful': 1, 'blundered': 1, 'temporary': 2, 'gloom': 2, 'analogy': 1, 'operation': 4, 'poignant': 2, 'unclosed': 1, 'softened': 5, 'brighter': 2, 'alleviations': 2, 'disappoint': 3, 'acute': 2, 'retentive': 1, 'principals': 2, 'asunder': 2, 'atmosphere': 1, 'unsettled': 1, 'frost': 1, 'thaw': 1, 'unfriendly': 1, 'freeze': 1, 'prisoner': 1, 'excuses': 8, 'absenting': 2, 'confine': 1, 'wise': 8, 'seclusion': 5, 'cleared': 4, 'amiableness': 1, 'hanging': 3, 'xvii': 3, 'lamentations': 1, 'doated': 2, 'innocently': 2, 'feminine': 1, 'ceremonious': 3, 'proposing': 2, 'bath': 21, 'compliance': 2, 'regretted': 5, 'impossibility': 4, 'retain': 1, 'commands': 1, 'agreeably': 5, 'announced': 5, 'pointedly': 2, 'solemnity': 1, 'acknowledgments': 1, 'lonely': 1, 'promptitude': 1, 'recovered': 12, 'undergo': 1, 'penance': 6, 'destroy': 4, 'industriously': 2, 'feeding': 1, 'grossly': 1, 'convictions': 2, 'prophecies': 1, 'confession': 4, 'renewed': 3, 'blaming': 1, 'testifying': 1, 'ingenuousness': 1, 'lowly': 1, 'modesty': 1, 'attaching': 1, 'abundantly': 1, 'artless': 4, 'dignity': 5, 'console': 1, 'resemble': 1, 'welfare': 4, 'minded': 3, 'discreet': 3, 'repressing': 1, 'promote': 4, 'unvarying': 1, 'striving': 2, 'inadequate': 2, 'sympathise': 1, 'extinction': 1, 'composure': 8, 'routine': 1, 'betraying': 2, 'maintained': 4, 'non': 1, 'resolutely': 6, 'inevitable': 4, 'strive': 1, 'unrequited': 1, 'evident': 8, 'persisting': 2, 'removal': 7, 'effecting': 1, 'cooling': 1, 'moderation': 2, 'repellent': 1, 'wound': 3, 'cure': 15, 'xviii': 3, 'distant': 10, 'occurs': 1, 'proportionate': 1, 'depression': 1, 'flies': 2, 'begins': 3, 'restored': 5, 'foresaw': 3, 'suffer': 13, 'suffered': 12, \"churchill's\": 30, 'temptation': 8, 'announce': 7, 'gala': 1, 'ending': 3, 'perceived': 10, 'arguments': 2, 'unnatural': 3, 'luxurious': 3, 'contrived': 6, 'master': 13, 'tempers': 1, 'conceived': 3, 'limb': 1, 'amount': 4, 'rid': 4, 'idlest': 1, 'haunts': 1, 'watering': 3, 'proves': 1, 'unfair': 4, 'interior': 1, 'chuses': 4, 'manoeuvring': 1, 'finessing': 1, 'vigour': 1, 'messages': 1, 'rightly': 4, 'simply': 2, 'opposition': 2, 'situations': 6, 'loud': 5, 'shifts': 1, 'expedients': 1, 'meanly': 1, 'exerting': 2, 'hearts': 1, 'principle': 5, 'consistently': 1, 'bending': 1, 'knack': 1, 'unmanageable': 2, 'transported': 1, 'obedience': 2, 'observance': 2, 'burst': 13, 'nought': 1, 'roused': 2, 'opposed': 4, 'yielding': 1, 'notions': 6, 'expert': 2, 'flourishing': 1, 'falsehoods': 1, 'hit': 3, 'preserving': 2, 'preventing': 2, 'singular': 1, 'doubly': 3, 'omission': 2, 'signified': 2, 'behindhand': 2, 'french': 1, 'aimable': 1, 'plausible': 1, 'treasure': 3, 'virtues': 2, 'throughout': 4, 'parishes': 2, 'powered': 2, 'chattering': 1, 'coxcomb': 3, 'farming': 2, 'enable': 2, 'require': 7, 'breathing': 2, 'king': 1, 'practised': 3, 'politician': 1, 'conduce': 2, 'display': 3, 'dispensing': 1, 'flatteries': 1, 'puppy': 2, 'prejudiced': 3, \"month's\": 1, 'sins': 3, 'presumed': 5, 'imperfection': 2, 'contributing': 1, 'scanty': 2, 'counteract': 3, 'waste': 2, 'floor': 2, 'sized': 4, 'apartment': 2, 'cordially': 4, 'knitting': 2, 'warmest': 8, 'thanks': 11, 'beaufet': 1, 'coles': 17, 'ceremonies': 1, 'ball': 31, 'commendation': 2, 'handsomely': 4, 'wander': 2, 'mistresses': 1, 'misses': 1, 'jumped': 2, 'usher': 1, 'dancing': 33, 'inquiring': 4, 'unexpected': 4, 'eagerly': 11, 'hunting': 1, 'huswife': 2, 'hid': 1, 'apologise': 2, 'fills': 1, 'crosses': 1, 'hetty': 2, 'checker': 1, \"ma'am\": 11, 'pore': 1, 'amazingly': 2, 'god': 8, 'spectacles': 9, \"fairfax's\": 31, 'handwriting': 5, 'beautifully': 3, \"nobody's\": 1, 'deaf': 4, \"jane's\": 19, 'twice': 6, 'pondering': 2, 'meanwhile': 6, 'deafness': 1, 'raising': 3, 'remarkable': 3, 'deafer': 1, 'friday': 3, 'saturday': 7, 'tuesday': 7, 'wednesday': 2, 'campbells': 26, 'ireland': 14, 'dixon': 39, 'impatient': 12, 'kingdoms': 1, 'countries': 1, 'declare': 12, \"dixon's\": 6, 'press': 3, 'dublin': 1, 'baly': 1, 'craig': 1, 'blame': 6, 'animating': 3, 'insidious': 2, 'excused': 3, 'accompanying': 2, 'joint': 4, 'backward': 1, 'whirling': 1, 'sails': 1, 'dashed': 2, 'presence': 4, 'prefers': 1, 'devoting': 2, 'wisely': 1, '7th': 1, 'hang': 1, 'considerate': 3, 'unwell': 7, 'holyhead': 1, 'monday': 2, 'flurry': 1, 'drawback': 6, 'poorly': 2, 'unlucky': 4, 'bless': 5, 'guard': 5, 'story': 14, 'glancing': 5, 'detain': 2, 'regained': 1, 'orphan': 1, 'lieut': 1, 'regiment': 1, 'infantry': 1, 'fame': 4, 'save': 6, 'dying': 1, 'action': 6, 'sinking': 6, 'consumption': 2, 'fondling': 1, 'engrafted': 1, 'officer': 1, 'deserving': 4, 'camp': 1, 'saved': 6, 'england': 10, 'guest': 2, 'fondness': 2, \"campbell's\": 8, 'educating': 1, 'appointments': 1, 'subsistence': 1, 'hereafter': 3, 'discipline': 2, 'culture': 2, 'lighter': 1, 'masters': 1, 'abilities': 3, 'nineteen': 1, 'qualified': 2, 'instruction': 1, 'sharing': 2, 'judicious': 3, 'sobering': 1, 'suggestions': 2, 'remind': 2, 'unseen': 3, 'unfelt': 1, 'unabated': 1, 'defies': 1, 'eligibly': 1, 'bread': 3, 'earn': 2, 'fortitude': 4, 'novitiate': 1, 'retire': 1, 'retained': 1, 'wiser': 4, 'resisted': 2, 'relinquished': 1, 'compatible': 1, 'weakened': 1, 'varying': 1, 'human': 11, 'discharged': 1, 'truths': 4, 'double': 4, 'treble': 1, 'recovery': 1, 'welcoming': 2, 'novelty': 2, 'accusation': 1, 'refuted': 1, 'examination': 2, 'acquit': 6, 'eternal': 2, 'fuss': 1, 'reasons': 2, 'imputed': 2, 'magnified': 1, 'injured': 4, 'depreciating': 1, 'fat': 1, 'likeliest': 1, 'grey': 1, 'lashes': 2, 'denied': 4, 'skin': 3, 'cavil': 1, 'colour': 4, 'fuller': 3, 'reigning': 1, 'admire': 9, 'twofold': 1, 'complacency': 3, 'rendering': 1, 'determining': 1, 'entitling': 1, 'started': 3, 'pitiable': 2, 'seduced': 1, 'actions': 1, 'mischievous': 1, 'suggested': 6, 'successless': 1, 'sucking': 1, 'poison': 2, 'sharer': 1, 'purest': 1, 'resolving': 4, 'effectually': 3, 'career': 1, 'laborious': 1, 'recantation': 1, 'prejudices': 1, 'relapsing': 1, 'provocations': 1, 'reappeared': 3, 'description': 7, 'ate': 2, 'exhibitions': 1, 'caps': 2, 'workbags': 1, 'offences': 2, 'necessarily': 6, 'affectation': 2, 'greatness': 1, 'performance': 8, 'cloak': 1, 'disgustingly': 2, 'suspiciously': 2, 'dixons': 4, 'bent': 2, 'insight': 1, 'suitableness': 1, 'smoothness': 3, 'delineated': 1, 'distinguished': 3, 'artifice': 2, 'surmises': 1, 'changing': 3, 'procure': 4, 'forgive': 7, 'provocation': 1, 'openly': 6, 'papers': 3, 'swept': 2, 'entertained': 3, 'undone': 1, 'instrument': 23, \"grandmother's\": 2, 'indulgence': 8, 'deficient': 5, 'muffin': 1, 'handed': 4, 'arch': 2, 'arises': 1, 'discretion': 4, 'perseverance': 4, 'appease': 1, 'porker': 1, 'loin': 3, 'leg': 6, 'pork': 11, 'steaks': 1, 'fried': 2, 'grease': 1, 'hind': 2, 'salted': 2, 'salt': 1, 'boils': 1, 'turnip': 1, 'carrot': 1, 'parsnip': 1, 'hither': 3, 'quickest': 3, 'bountiful': 2, 'sound': 12, 'bonnet': 3, 'spencer': 1, 'patty': 12, 'salting': 1, 'pan': 1, 'washing': 1, 'kitchen': 2, 'hawkins': 17, 'desires': 2, 'regards': 2, 'oppress': 1, 'lot': 1, 'goodly': 1, 'heritage': 1, 'sly': 3, 'precise': 2, 'neighbour': 8, 'joyfully': 1, 'absorbing': 1, 'starting': 1, 'appeal': 2, 'standard': 1, 'pew': 2, 'wonderings': 1, 'worn': 3, 'whispered': 3, 'discoveries': 4, 'aspired': 2, 'lets': 1, 'chatter': 1, 'humouredly': 2, 'talkative': 3, 'runs': 2, 'strictly': 2, 'shower': 2, 'lamented': 2, 'strangers': 1, 'detaining': 2, 'rush': 2, 'heated': 3, 'thither': 4, 'evidence': 2, 'corresponding': 1, 'unchecked': 2, 'pour': 1, 'gown': 7, \"ford's\": 10, 'woollen': 1, \"haberdasher's\": 1, 'shop': 8, 'dealt': 1, 'fainted': 2, 'umbrella': 1, 'buyings': 1, 'whispering': 4, 'tremble': 2, \"can't\": 1, 'courage': 6, 'stables': 2, 'floated': 1, 'kindly': 11, 'sincerely': 7, 'wounded': 1, 'genuine': 3, 'disturbed': 6, 'discerning': 1, 'exerted': 1, 'trifle': 4, 'rejoice': 6, 'subordination': 1, 'learned': 2, 'serviceable': 2, 'deadening': 1, 'shock': 7, 'retaining': 1, 'seeking': 1, 'condescension': 2, 'dies': 2, \"hawkins's\": 2, 'circulate': 1, 'christian': 2, 'series': 4, 'debased': 1, 'deeply': 10, 'gay': 6, 'caring': 3, 'defying': 1, 'augusta': 4, 'thousands': 5, 'l': 2, 'thereabouts': 1, 'rapidity': 3, 'distinguishing': 6, 'glorious': 1, 'steps': 7, 'accidental': 3, 'rencontre': 3, \"green's\": 1, \"brown's\": 1, 'blushes': 1, 'richly': 2, 'scattered': 3, 'sweetly': 2, 'congratulated': 2, 'fearless': 1, 'cautiously': 1, 'preparations': 3, 'pique': 1, 'pretension': 2, 'spread': 7, 'inseparably': 1, 'moral': 1, 'lesson': 3, 'profitable': 1, 'administer': 1, 'lessened': 2, 'solicitudes': 1, 'awkwardnesses': 1, 'individually': 1, 'vaunted': 1, 'disdain': 4, 'attainable': 1, 'uncertain': 2, 'blood': 5, 'bristol': 8, 'merchant': 1, 'mercantile': 1, 'hazarded': 2, 'guessed': 7, 'drudge': 1, 'stupid': 4, 'grandeur': 3, 'alas': 4, 'vacancies': 1, 'reappearance': 1, 'glimpse': 4, 'somewhere': 4, 'shoulder': 1, 'favouring': 2, 'warmth': 12, 'conjecture': 4, 'perpetually': 2, 'furniture': 2, 'invariable': 1, 'irritated': 3, 'ceaseless': 2, 'repetitions': 2, 'hat': 1, 'entertainment': 6, 'waverings': 1, 'variations': 1, 'predominated': 1, 'unhappiness': 2, 'dared': 10, 'driven': 2, 'dissipate': 1, 'occasioned': 4, 'absolute': 4, 'neglect': 6, 'ingratitude': 3, 'determine': 4, 'formal': 4, 'drove': 3, 'applications': 3, 'recurrences': 1, 'glossed': 1, 'stars': 1, 'trunk': 2, 'rev': 1, 'philip': 1, 'lifted': 1, \"butcher's\": 1, 'cart': 1, 'coaches': 1, 'gravel': 2, 'espalier': 1, 'trees': 4, 'revive': 1, 'portion': 3, 'summons': 2, 'unattended': 2, 'solitarily': 1, 'collected': 9, 'merest': 1, 'commonplace': 3, 'measured': 1, 'pencilled': 1, 'marks': 2, 'memorandums': 1, 'wainscot': 2, 'shortness': 1, 'thankfully': 2, 'justly': 2, 'resent': 5, 'separated': 3, 'process': 2, 'refreshment': 2, 'leaned': 1, 'murmurs': 1, 'commonest': 1, 'accosted': 1, 'oxford': 2, 'dry': 4, 'resisting': 1, 'quieter': 1, 'reanimation': 1, 'exhausted': 2, 'route': 1, 'sparkling': 2, 'unconscious': 2, 'innocent': 1, 'injunction': 3, 'amendment': 1, 'mounted': 1, 'wore': 2, 'sluggish': 1, 'augur': 2, 'geography': 1, 'tranquillity': 5, 'faithful': 2, 'pupil': 1, 'eleven': 2, 'soliloquy': 1, 'downstairs': 4, 'overcareful': 1, 'fidgets': 1, 'clock': 1, 'hall': 8, 'midst': 7, 'liveliness': 4, 'earlier': 8, 'quicker': 1, 'creep': 1, 'faster': 2, 'needs': 2, 'presume': 11, 'admirably': 1, 'falsehood': 2, 'handled': 1, 'exaggeration': 1, 'horsewoman': 1, 'rides': 1, 'balls': 5, 'musical': 14, 'proportionably': 1, 'fathers': 2, 'reception': 4, 'wisest': 3, 'conferred': 1, 'thanking': 3, 'qualify': 1, 'extravagant': 1, 'acquiescence': 5, 'detected': 3, 'exemption': 2, 'foreseeing': 2, 'objecting': 1, 'treachery': 2, 'nights': 4, 'unmixed': 1, 'crown': 26, 'hay': 1, 'errands': 1, 'yours': 5, 'barnes': 1, 'mixed': 5, 'concurrence': 4, 'fashionable': 1, 'ordinarily': 1, 'gifted': 1, 'tongue': 7, 'hearty': 1, 'puddle': 1, 'sees': 3, 'hop': 1, 'permitted': 4, 'nod': 1, 'engage': 7, 'companionably': 1, 'constant': 6, 'bearing': 3, 'construction': 2, 'amends': 4, 'hyperbolical': 1, 'securing': 3, 'confessed': 2, 'oftener': 4, 'quest': 2, 'positive': 4, 'insincere': 2, 'inn': 4, 'post': 13, 'built': 3, 'sashed': 2, 'contemplate': 1, 'capabilities': 2, 'environs': 1, 'furnish': 2, 'particulars': 13, 'argued': 1, 'prevail': 4, 'inclinations': 2, 'inelegance': 1, 'holding': 1, 'cheap': 2, 'facing': 1, 'recollected': 3, 'successful': 3, 'preparatory': 4, 'betrayed': 6, 'utter': 4, 'deplorable': 3, 'defence': 2, 'hue': 2, 'peculiar': 7, 'disputing': 1, 'attends': 1, 'informs': 1, 'citizen': 1, 'buy': 1, 'sell': 1, 'gloves': 4, 'patriotism': 1, 'adored': 1, 'popular': 1, 'guinea': 1, 'sleek': 1, 'tied': 1, 'parcels': 3, \"men's\": 1, 'beavers': 1, 'york': 1, 'tan': 1, 'displaying': 1, 'counter': 2, 'amor': 1, 'patriae': 1, 'stretch': 2, 'pronounce': 2, 'commit': 2, 'claiming': 1, 'discreetly': 1, 'leaves': 1, 'conclude': 6, 'hesitatingly': 3, 'plays': 4, 'vouchsafed': 1, 'sensibility': 6, 'sounds': 3, 'recur': 3, 'oneself': 2, 'stupidity': 2, 'improper': 4, 'quickly': 7, 'checking': 3, 'scenes': 1, 'outwardly': 1, 'critical': 2, 'wickedness': 3, 'prone': 1, 'idolized': 1, 'repulsive': 1, 'quality': 2, 'oftentimes': 1, 'conquering': 1, 'perpetual': 4, 'cautiousness': 1, 'pitied': 2, 'shared': 2, 'blockhead': 3, 'accommodations': 2, 'inevitably': 2, 'inroads': 1, \"housekeeper's\": 1, \"butler's\": 1, 'pantry': 1, 'willingly': 2, 'freak': 1, 'chaise': 4, 'foppery': 1, 'accord': 1, 'rationality': 1, 'unselfish': 1, 'extravagance': 2, 'restlessness': 3, 'heedlessness': 1, 'charges': 1, 'blot': 1, 'marked': 3, 'harshly': 1, 'leniently': 1, 'allowances': 3, 'excesses': 1, 'bowed': 3, 'bows': 1, 'newspaper': 1, 'hum': 1, \"instant's\": 1, 'relieve': 3, 'provoke': 1, 'bearers': 1, 'opportune': 1, 'occurrence': 3, 'unpretending': 3, 'unexpensively': 1, 'yielded': 2, 'larger': 8, 'insult': 1, 'accounting': 1, 'assembled': 4, 'consisting': 1, 'dance': 22, 'bare': 2, 'acted': 4, 'owned': 4, 'solicited': 1, 'folding': 1, 'screen': 2, 'draught': 5, 'persuadable': 2, 'briefly': 1, 'neglecting': 3, 'numerous': 3, 'resigned': 2, 'dews': 1, 'desirous': 2, 'incumbent': 2, 'lessening': 1, 'allay': 1, 'deliberately': 2, 'treatment': 7, 'decline': 2, 'breaks': 1, \"person's\": 4, 'mortify': 1, 'reminding': 2, 'touches': 2, 'malt': 1, 'liquor': 1, 'risk': 6, 'hurting': 1, 'piquet': 1, 'hungry': 3, 'butler': 1, 'concealed': 2, 'unspent': 1, 'undaunted': 1, 'moralised': 1, 'impudent': 2, 'handle': 1, 'gloried': 1, 'achievement': 1, 'ostentation': 1, 'evasions': 1, 'defend': 1, 'vanities': 1, 'inference': 1, 'failings': 1, 'propensity': 1, 'amply': 2, 'noticing': 3, 'helping': 1, 'slices': 1, 'practise': 3, 'plentiful': 1, 'owner': 1, 'bravado': 1, 'unconcern': 1, 'taller': 1, 'nonsensical': 1, 'strongest': 5, 'dexterity': 1, 'unobjectionable': 1, 'male': 1, \"cox's\": 1, 'females': 2, 'politics': 1, 'surrender': 2, 'pleasantness': 2, 'remote': 1, 'relating': 2, 'pianoforte': 22, 'dialogue': 2, 'ensued': 1, \"broadwood's\": 1, 'bewildered': 3, 'rejoiced': 3, 'delightfully': 8, 'instruments': 1, 'slap': 1, 'pitifullest': 1, 'spinet': 1, 'indulging': 4, 'entrapped': 1, 'nay': 12, 'untouched': 1, 'testifies': 1, 'acuteness': 1, 'mode': 1, 'elderly': 2, 'guide': 2, 'extend': 1, 'reflect': 2, 'privation': 1, 'february': 7, 'march': 1, 'cases': 2, 'adopt': 4, 'noble': 5, 'honestly': 3, 'accident': 1, 'overboard': 1, 'vessel': 1, 'consequent': 1, 'durable': 1, 'observable': 1, 'interrupted': 10, 'courses': 1, 'orderly': 1, 'dish': 1, 'injure': 2, 'unconvinced': 1, 'reasonings': 3, 'giver': 1, 'paternal': 1, 'amid': 1, 'everyday': 2, 'remarks': 1, 'jokes': 1, 'entree': 1, 'exult': 1, 'blooming': 1, 'heartily': 6, 'unsentimental': 1, 'pangs': 1, 'shedding': 1, 'purchased': 1, 'guilt': 3, 'dwelling': 1, 'pedal': 1, 'unsuspicious': 5, \"heroine's\": 1, 'en': 1, 'passant': 1, 'divined': 1, 'restrained': 2, 'hated': 1, 'cox': 7, 'abundant': 1, 'despise': 1, 'questioned': 4, 'visitings': 1, 'reasonably': 1, 'retirement': 5, 'boast': 2, 'across': 7, 'rousing': 3, 'outree': 1, 'curls': 1, 'irish': 4, 'improvidently': 1, 'distinguish': 2, 'soul': 3, 'thoughtful': 5, 'assisting': 3, 'humane': 1, 'humanity': 3, 'unostentatious': 1, 'disinterested': 4, 'consent': 14, 'amazed': 4, 'supplanted': 4, 'imprudence': 3, 'revolts': 1, 'mad': 11, 'sheep': 1, 'library': 1, 'shameful': 3, 'haunting': 1, 'petticoat': 2, 'petticoats': 1, 'mimic': 1, 'divert': 1, 'irritate': 2, 'louder': 3, 'drown': 1, 'mysteriously': 1, 'lamenting': 2, 'reproached': 1, 'sign': 3, 'combated': 1, 'gaining': 2, 'yield': 4, 'limitations': 1, 'perform': 2, 'accompaniment': 1, 'song': 5, 'correctly': 1, 'duly': 1, 'accused': 1, 'roundly': 1, 'asserted': 2, 'resign': 1, 'vocal': 1, 'instrumental': 1, 'sung': 2, 'voices': 4, 'momentary': 5, 'interruptions': 1, 'objections': 4, 'subside': 2, 'injury': 3, 'deduction': 2, 'touchstone': 1, 'conveying': 1, 'cutting': 5, 'disinclination': 2, 'dwell': 4, 'surprizes': 2, 'enhanced': 1, 'oath': 1, 'fatigue': 2, 'falls': 1, 'indignantly': 2, 'touching': 2, 'mercy': 3, 'concert': 1, 'performers': 1, 'originating': 1, 'space': 4, 'dances': 7, 'waltz': 1, 'top': 3, 'dancer': 3, 'mustered': 1, 'rarity': 1, 'suddenness': 2, 'matched': 1, 'partner': 11, 'languid': 1, 'dignified': 2, 'repaid': 1, 'splendour': 2, 'transgressed': 1, 'submission': 3, 'unfeignedly': 1, 'unequivocally': 1, 'idleness': 1, 'vigorously': 3, 'comforted': 3, 'lamp': 2, 'sunshine': 1, 'valued': 4, 'execution': 2, 'italian': 1, 'coxes': 5, 'producing': 4, 'dined': 2, 'anne': 3, 'impertinently': 1, 'swayed': 1, 'muslins': 1, 'traffic': 1, 'busiest': 1, 'stray': 2, 'obstinate': 1, 'mule': 1, 'liveliest': 1, 'butcher': 1, 'tray': 1, 'tidy': 1, 'homewards': 1, 'basket': 4, 'curs': 1, 'quarrelling': 3, 'bone': 1, 'dawdling': 1, \"baker's\": 1, 'eyeing': 2, 'gingerbread': 1, 'enlarged': 1, 'knocked': 2, 'shopping': 1, 'fidget': 1, 'palatable': 1, 'wretchedest': 1, 'reward': 2, 'muslin': 1, 'figured': 1, 'ribbon': 4, 'ford': 6, 'job': 3, 'fastening': 1, 'rivet': 7, 'saunders': 1, 'hindered': 1, 'chimney': 1, 'sweeping': 1, \"mistress's\": 1, 'baked': 9, 'apples': 15, 'wallis': 3, 'wallises': 1, 'uncivil': 1, 'custom': 3, 'eats': 2, 'gets': 4, 'fruit': 4, 'dumplings': 1, 'dumpling': 1, 'oblige': 3, 'ribbons': 1, 'ye': 2, 'wrist': 1, 'medley': 1, 'fasten': 2, 'exceeds': 1, 'fondest': 1, 'closet': 1, 'baking': 1, 'sack': 1, 'orchard': 2, 'famous': 3, 'shocked': 7, 'larkins': 12, 'distressed': 5, 'bushel': 1, 'bake': 1, 'boil': 1, 'hodges': 5, 'sacks': 1, 'signify': 3, 'remainder': 1, 'unluckily': 1, 'upstairs': 1, 'narration': 2, 'pursued': 1, 'desultory': 1, 'staircase': 3, 'narrower': 1, 'deprived': 1, 'slumbering': 1, 'deedily': 1, 'livelihood': 1, 'silversmith': 1, 'uninterruptedly': 1, 'unevenness': 1, 'wedging': 1, 'emotion': 3, 'bars': 1, 'feebly': 1, 'discrimination': 1, 'pronounced': 3, 'notes': 1, 'prize': 4, 'broadwood': 1, 'whisper': 6, 'random': 2, \"instrument's\": 2, 'indefinite': 1, 'contingencies': 1, 'conveniences': 1, 'conjectures': 4, 'workmen': 1, 'tongues': 1, 'labourers': 1, 'conjecturing': 1, 'restoring': 1, 'healed': 1, 'waltzes': 1, 'worlds': 2, 'tune': 1, 'coloured': 2, 'cramer': 1, 'melodies': 1, 'shews': 3, 'compunction': 1, 'apparently': 4, 'cherishing': 1, 'reprehensible': 1, 'key': 4, 'robin': 1, 'adair': 1, 'shortly': 5, 'descried': 1, 'casement': 1, 'd': 1, 'commandingly': 1, 'listeners': 1, 'scepticism': 1, 'deliberating': 1, 'store': 2, 'watches': 1, 'instances': 3, 'successively': 1, 'accrue': 1, 'felicities': 2, 'wicked': 1, 'aids': 1, 'pacing': 1, 'dimensions': 2, 'discovering': 1, 'largest': 1, 'readiest': 1, 'undertook': 1, 'reckoning': 1, 'portioning': 1, 'gilberts': 1, 'gilbert': 5, 'cousins': 2, 'speculation': 5, 'score': 2, 'wild': 3, 'thoughtless': 4, 'inconsiderately': 1, 'resorted': 1, 'deemed': 4, 'endeavoured': 4, 'magnificent': 2, 'demurred': 1, 'crowd': 8, 'gravely': 5, 'measuring': 1, 'art': 2, 'willed': 1, 'forgave': 1, 'purposes': 1, 'certified': 1, 'terrors': 1, 'waits': 1, 'exchange': 2, 'repeat': 1, 'explain': 4, 'representations': 1, 'aired': 2, 'inhabited': 1, 'bodies': 1, 'surely': 3, 'curtain': 1, 'sash': 1, 'complains': 2, 'stokes': 4, 'undertakes': 2, 'carefulness': 1, 'measles': 4, 'wrap': 1, \"perry's\": 6, 'council': 2, 'forlorn': 3, 'candlelight': 2, 'clean': 1, 'exchanged': 1, 'nonsenses': 1, 'perplexity': 4, \"ballroom's\": 1, 'voted': 1, 'selves': 3, 'draughts': 2, 'miserably': 3, 'crowded': 2, 'sandwiches': 1, 'scouted': 1, 'infamous': 1, 'fraud': 1, 'briskly': 2, 'stairs': 4, 'chief': 3, 'properer': 1, 'brisk': 1, 'minor': 1, 'lights': 1, 'trifles': 2, 'approver': 1, 'fro': 1, 'suggesting': 2, 'overhearing': 3, 'term': 1, 'feasible': 2, 'proceeding': 4, 'uncertainty': 5, 'prosperous': 5, 'affording': 2, 'noisy': 2, \"larkins's\": 1, \"week's\": 1, 'aimed': 2, 'indignant': 2, 'reprobating': 2, 'joyful': 3, 'urge': 6, \"nephew's\": 2, 'unwillingness': 4, 'forwarded': 1, 'repugnance': 1, 'finale': 1, 'exclaim': 6, 'reflected': 3, 'total': 3, 'redeem': 1, 'dejection': 1, 'horrid': 1, 'seize': 2, 'destroyed': 2, 'doubtfully': 1, 'surpass': 2, 'consciously': 1, 'argumentative': 1, 'forerunner': 1, 'forcing': 1, 'reflecting': 1, 'embarrassed': 2, 'completed': 3, 'incapable': 2, 'procrastinating': 1, 'correspond': 1, 'correspondent': 3, 'constancy': 3, 'listlessness': 1, 'weariness': 2, \"thing's\": 1, 'insipid': 1, 'oddest': 3, 'mourners': 1, 'triumphant': 1, 'contradicted': 1, 'opportunities': 2, 'woeful': 1, 'odious': 3, 'headache': 4, 'impute': 2, 'unbecoming': 1, 'languor': 2, 'dialogues': 1, 'inventing': 1, 'imaginary': 4, 'quit': 4, 'struggle': 2, 'foresee': 3, 'replies': 2, 'negatives': 1, 'allusion': 3, 'denotes': 1, 'inexcusable': 1, 'supposition': 1, 'build': 1, 'changeable': 1, 'perusal': 1, 'undervalued': 1, 'exterior': 1, 'attractive': 2, 'precision': 1, 'flourishes': 2, 'keenly': 1, 'restraints': 2, 'unadorned': 1, 'wreath': 1, 'lowest': 1, 'adieus': 1, 'gratifying': 4, 'stimulative': 1, 'folded': 1, 'unchanged': 1, 'subsequent': 4, 'clothed': 2, 'advantageous': 1, 'speculations': 1, 'confirming': 1, 'behalf': 1, 'latest': 4, 'disappearance': 3, 'attained': 1, 'ringing': 1, 'soothings': 1, 'ingenuity': 2, 'convincing': 3, 'submissively': 1, 'painful': 5, 'exert': 5, 'violence': 1, 'tenderness': 6, 'beat': 3, 'clearest': 1, 'sighted': 2, 'invaluable': 1, 'names': 4, 'changes': 1, 'devotion': 2, 'retreated': 2, 'vexatious': 1, 'shorten': 1, 'unpretty': 1, 'permit': 1, 'hasty': 5, 'witty': 2, 'clothes': 1, 'bashfulness': 1, 'affectedly': 3, 'composedly': 2, 'shine': 1, 'familiar': 3, 'maple': 31, 'grove': 31, \"suckling's\": 2, 'grounds': 10, 'favourably': 3, 'entrance': 5, 'appealed': 2, 'astonishingly': 1, 'exclaiming': 4, 'reminded': 3, 'transplanted': 1, 'strikingly': 1, 'laurels': 1, 'profusion': 2, 'bench': 1, 'enchanted': 1, 'extensive': 4, 'attack': 6, 'dyed': 1, 'overrated': 1, 'beauties': 3, 'counties': 1, 'silenced': 3, 'exploring': 11, 'explore': 4, 'barouche': 7, 'landau': 7, 'preferable': 2, 'suckling': 12, 'explored': 1, \"king's\": 1, 'attract': 1, 'proverb': 1, 'selina': 9, 'stuck': 1, 'paling': 1, 'mix': 4, 'unknown': 4, 'waters': 1, 'wonderful': 13, 'secluded': 1, 'host': 2, 'partridge': 3, 'resided': 1, 'impolite': 1, 'auspices': 1, 'dashing': 1, 'reproofs': 1, 'outrage': 1, 'changed': 6, 'precedes': 1, 'performer': 2, 'doatingly': 1, 'passionately': 2, 'devoid': 1, 'mediocre': 1, 'e': 10, 'accustomed': 2, 'smaller': 3, 'spacious': 1, 'apartments': 1, 'outstepped': 1, 'pardoned': 1, 'concerts': 1, 'establish': 1, 'weekly': 1, 'allies': 1, 'jeffereys': 1, 'clara': 1, 'milmans': 1, 'bird': 1, 'cooper': 1, 'enumerate': 1, 'fright': 1, 'wins': 1, 'affirmative': 1, 'gentlewoman': 2, \"e.'s\": 1, 'caro': 4, 'sposo': 4, 'upstart': 2, 'airs': 3, 'underbred': 1, 'finery': 5, 'bosom': 1, 'diverted': 2, 'glibly': 1, 'departure': 3, 'hurts': 1, 'remiss': 4, 'neglected': 3, 'avowedly': 1, 'lending': 1, 'baits': 1, 'breeding': 2, 'retract': 3, 'interview': 2, 'presuming': 1, 'enliven': 1, 'congratulating': 2, 'commend': 1, 'unimpeded': 1, 'sneering': 2, 'conjugal': 2, 'colouring': 2, 'enmity': 1, 'disrespect': 1, 'broader': 2, 'vent': 1, 'contemptuous': 1, 'solicitation': 1, 'plea': 6, 'befriend': 1, 'forfeited': 1, 'knight': 1, 'errantry': 1, 'rave': 1, 'ladylike': 1, 'flower': 1, 'fragrance': 1, 'desert': 2, 'verified': 1, 'calm': 5, 'timid': 1, 'timidity': 1, 'prepossessing': 1, 'wright': 4, 'partake': 2, 'housekeeping': 1, 'eligible': 4, 'wear': 3, 'conciliating': 1, 'punishment': 4, 'merited': 1, 'protection': 2, 'heavens': 2, 'dares': 1, 'ing': 1, 'limits': 1, 'licentiousness': 1, 'paradings': 1, 'exclusively': 2, 'decorated': 1, 'guidance': 1, 'patroness': 2, 'meditated': 2, 'guileless': 1, 'worthies': 1, 'affable': 1, 'condescending': 1, 'astonishing': 4, 'penury': 1, 'professedly': 1, 'midsummer': 4, 'pressingly': 1, 'exist': 2, 'refusing': 2, 'inflicted': 1, 'decree': 1, 'issued': 1, 'puzzle': 2, 'quits': 1, 'condemn': 2, 'reproachful': 1, 'faint': 2, 'gratify': 3, 'dictated': 1, 'pronouns': 1, 'thou': 1, 'plainest': 1, 'implanted': 1, 'awes': 1, 'treats': 1, 'comparative': 2, 'littleness': 3, 'irresolute': 2, 'buttons': 1, 'leather': 1, 'gaiters': 1, 'pressure': 1, 'reverie': 2, 'wittier': 2, 'calls': 5, 'appellation': 1, 'vulgarity': 2, 'consents': 1, 'weighs': 1, 'faith': 5, 'deed': 1, 'insulting': 1, 'detailing': 1, 'permanent': 1, 'accuse': 1, 'sensibilities': 1, 'controul': 1, 'alluded': 2, 'conversed': 1, 'triumphantly': 1, 'flowed': 1, 'apprehending': 1, 'dissipated': 2, 'dinners': 2, 'rout': 1, 'cakes': 1, 'ice': 1, 'tables': 1, 'candles': 4, 'unbroken': 1, 'packs': 1, 'waiters': 1, 'refreshments': 1, 'exposed': 4, 'pitiful': 2, 'stipulation': 1, 'bottom': 3, 'deciding': 1, 'eighth': 2, 'accounts': 4, 'begging': 1, 'stricken': 1, 'relates': 2, 'professional': 1, 'ninth': 2, 'immaterial': 1, 'reluctant': 1, 'unexpectedly': 1, 'summoned': 1, 'devote': 1, 'pearls': 2, 'wet': 5, 'saves': 1, 'drops': 1, 'count': 1, 'situated': 1, 'curse': 1, 'outlived': 1, 'imply': 2, 'concentrated': 1, 'quivering': 2, 'lip': 2, 'claimed': 2, 'mildest': 1, 'urbanity': 1, 'plants': 1, 'stockings': 1, 'remonstrances': 1, 'patiently': 1, 'persuasively': 1, 'cough': 2, 'fetches': 1, 'obviate': 1, 'insuperable': 1, 'needlessly': 1, \"grandmama's\": 2, 'regularity': 1, 'regulated': 1, 'deciphered': 1, 'increases': 1, 'clerks': 1, 'improves': 1, 'capacity': 1, 'served': 1, 'prevails': 1, 'teaches': 1, 'teaching': 1, 'roundabout': 1, 'vindicated': 1, 'base': 1, 'aspersion': 1, 'desk': 2, 'specimen': 1, 'employing': 2, 'dryly': 2, 'fetching': 2, 'encountered': 1, 'expedition': 1, 'mails': 1, \"tongue's\": 1, 'abstained': 1, 'engross': 1, 'repressed': 2, 'april': 3, 'candidates': 1, 'cousin': 2, 'bragge': 5, 'infinity': 1, 'wax': 1, 'schoolroom': 1, \"bragge's\": 2, 'dispose': 1, 'july': 3, 'inexperience': 1, 'amuses': 2, 'unemployed': 1, 'offices': 3, 'flesh': 2, 'intellect': 1, 'fling': 1, 'abolition': 1, 'widely': 1, 'victims': 1, 'advertising': 1, 'mortifications': 1, 'entitle': 1, 'harp': 2, 'stipulate': 1, 'honourably': 1, 'gaily': 1, 'beau': 1, 'quaint': 1, 'disgusts': 1, \"selina's\": 1, 'trimmed': 2, 'ornaments': 1, 'minority': 1, 'show': 2, 'trimming': 2, 'silver': 2, 'poplin': 1, 'reassembled': 1, 'judges': 1, 'mute': 1, 'finishing': 1, 'sleety': 1, 'finger': 3, 'prolong': 1, 'shrugged': 1, 'confers': 1, 'subdued': 4, 'audible': 1, 'fluently': 1, 'weighing': 1, 'observant': 2, 'overheard': 2, 'interruption': 2, 'precedent': 1, 'fellows': 1, 'southward': 1, 'sixty': 1, 'complained': 1, 'conservatory': 1, 'constitutions': 1, 'grant': 3, 'antagonist': 1, 'incredible': 2, 'nicety': 1, 'travels': 1, 'sheets': 1, 'precaution': 1, 'land': 2, 'interposed': 1, 'beheld': 1, 'disclaiming': 1, 'clifton': 1, 'stationary': 1, 'retired': 5, 'immense': 2, 'plantation': 1, 'desponding': 1, 'untowardly': 1, 'mend': 1, \"hymen's\": 1, 'saffron': 1, 'robe': 1, 'dispel': 1, 'gloomy': 1, 'cheerfuller': 1, 'disappointments': 2, 'coughing': 1, 'mentioning': 5, 'genial': 1, 'cheerless': 1, 'prodigy': 2, 'implicitly': 1, 'injustice': 4, 'traits': 1, 'instigator': 1, \"wife's\": 2, 'indolent': 1, 'helpless': 2, 'insolence': 2, 'inclines': 1, \"churchill'd\": 1, 'mighty': 1, 'upstarts': 1, 'annoyance': 1, 'tupman': 1, 'encumbered': 1, 'west': 1, 'birmingham': 2, 'direful': 1, 'tupmans': 1, 'happens': 1, 'nearest': 1, 'resident': 1, 'worry': 1, 'comprised': 1, 'spoil': 1, 'physic': 2, 'preclude': 1, 'encumbrance': 3, 'witness': 4, 'gaieties': 1, 'goings': 1, 'heretofore': 1, 'unnoticed': 3, 'dissipation': 1, 'fare': 1, 'subsided': 1, 'entangled': 2, 'anticipating': 1, 'tranquil': 4, 'influenced': 2, 'stories': 1, 'fluttered': 1, 'belief': 2, 'group': 2, 'trusting': 3, \"randall's\": 1, 'wilful': 2, 'declared': 7, 'weaker': 1, 'medicine': 1, 'richmond': 13, 'medical': 1, 'eminent': 1, 'appreciate': 1, 'indisputable': 2, 'manchester': 1, 'obstacle': 1, 'morrows': 2, 'lightened': 2, 'sanguinely': 1, 'arriving': 5, 'contents': 1, 'desire': 1, 'closely': 1, 'inspection': 1, 'confidantes': 1, 'heartedness': 1, 'modes': 2, 'privy': 2, 'councillors': 1, 'proprieties': 1, 'graciousness': 2, 'qualifying': 1, 'candidly': 1, 'puppyism': 1, 'puppies': 1, 'tolerated': 1, 'chained': 1, 'expeditious': 1, 'gestures': 1, 'movements': 1, 'excellently': 1, 'lighted': 1, \"aladdin's\": 1, 'olive': 1, 'feet': 1, 'drop': 2, 'mat': 1, \"here's\": 1, 'transformation': 1, 'complacently': 1, 'hairdresser': 1, 'dr': 2, 'hughes': 3, \"where's\": 1, 'richard': 2, 'otway': 5, 'caroline': 1, 'arthur': 1, 'roasted': 1, 'coffee': 2, 'complimented': 1, 'patient': 3, 'styles': 1, 'praises': 1, 'drowned': 1, 'suspension': 1, 'tones': 1, 'disapprove': 1, 'frown': 2, 'interfered': 1, 'rub': 1, 'festivity': 1, 'standers': 1, 'classing': 1, 'players': 1, 'pretending': 2, 'rubbers': 1, 'bulky': 1, 'forms': 1, 'row': 1, 'ballroom': 3, 'criticising': 1, 'flirtation': 2, 'recordable': 1, 'events': 3, 'productive': 1, 'dancers': 1, 'sauntering': 1, 'sitters': 1, 'maintaining': 1, 'omit': 1, 'significant': 2, 'glances': 1, 'arranging': 1, 'glee': 1, 'cruel': 4, 'bounded': 1, 'hardened': 1, 'audibly': 1, 'goodnatured': 1, 'spoon': 1, 'tippet': 2, 'begs': 1, 'nailed': 1, 'quantities': 1, 'matting': 1, 'biscuits': 2, 'throws': 1, 'inquired': 2, 'partners': 1, 'forestall': 1, 'queen': 1, 'fricassee': 1, 'sweetbread': 2, 'asparagus': 3, 'dishes': 1, 'soup': 1, 'smells': 1, 'irresistibly': 1, 'reprobation': 1, 'unpardonable': 3, 'rudeness': 1, 'wounding': 1, 'enemies': 1, 'scold': 1, 'flatterers': 1, 'leads': 2, 'lazy': 1, 'asleep': 2, 'impertinence': 1, 'ruin': 1, 'satisfactions': 1, 'suddenly': 5, 'enabled': 1, 'harbour': 1, 'quickened': 1, 'freshened': 2, 'demands': 2, 'iron': 2, 'leaning': 2, 'faints': 1, 'bickerton': 3, 'shaded': 1, 'elms': 1, 'patch': 1, 'greensward': 1, 'gipsies': 6, 'scream': 1, 'steep': 1, 'bank': 4, 'cramp': 1, 'mount': 1, 'powerless': 1, 'terrified': 1, 'trampers': 1, 'courageous': 1, 'assailed': 1, 'clamorous': 1, 'impertinent': 2, 'tempting': 1, 'gang': 1, 'demanding': 1, 'conditioning': 1, 'insolent': 4, 'delayed': 3, 'scissors': 1, 'clinging': 1, 'adventure': 2, 'coldest': 1, 'steadiest': 1, 'linguist': 1, 'grammarian': 1, 'mathematician': 1, 'imaginist': 1, 'foresight': 1, 'groundwork': 1, 'chancing': 1, 'rescue': 2, 'mania': 1, 'partially': 2, 'fervour': 1, 'clung': 1, 'impelled': 1, 'passive': 1, 'concealment': 11, \"night's\": 1, 'trembled': 1, 'indisposition': 2, 'invent': 2, 'operations': 1, 'dwindled': 1, 'tenaciously': 2, 'slightest': 5, 'recital': 1, 'seriousness': 2, 'reserves': 1, 'gifts': 1, 'treasures': 1, 'unfolded': 1, 'tunbridge': 1, 'ware': 1, 'lined': 1, 'softest': 1, 'cotton': 3, 'plaister': 9, 'penknife': 1, 'jumping': 1, 'saving': 2, 'relic': 1, 'pocket': 2, 'senseless': 1, 'tricks': 1, 'secretly': 2, 'pulling': 1, 'memorandum': 1, 'beer': 4, 'brewing': 1, 'treasuring': 1, 'burn': 3, 'remembrances': 2, 'gipsy': 2, 'undesignedly': 1, \"minute's\": 1, 'debate': 1, 'dealing': 3, 'speed': 3, 'results': 1, 'veneration': 1, 'inexpressible': 1, 'henceforward': 2, 'obstacles': 1, 'kissed': 2, 'connivance': 1, 'sucklings': 6, 'defeat': 1, 'unison': 1, 'indiscretion': 1, 'void': 1, 'remembering': 2, 'cowper': 1, 'twilight': 1, 'dreamt': 1, 'dream': 11, 'dreamer': 2, 'dreaming': 1, 'premature': 2, 'heap': 1, 'absurdities': 1, 'dreams': 1, 'pop': 1, 'preceded': 1, 'suppressed': 1, 'circular': 1, 'pembroke': 1, 'meals': 2, 'alphabets': 2, 'quietness': 1, 'game': 3, 'pointing': 1, 'buried': 2, 'exultingly': 1, 'proclaimed': 2, 'cheek': 2, 'lain': 1, 'involvement': 1, 'disingenuousness': 1, 'vehicle': 1, 'deeper': 2, 'distrust': 2, 'blinded': 4, 'demure': 3, 'sedate': 1, 'excessive': 3, 'darting': 1, 'covert': 1, 'averted': 2, 'closing': 2, 'preconceived': 1, 'unexamined': 1, 'dusk': 1, 'sting': 1, 'imparted': 2, 'fruitless': 1, 'twentieth': 1, 'expressive': 2, 'vouchsafe': 2, 'essay': 1, 'arisen': 2, 'staggered': 1, 'prolonged': 1, 'wheres': 1, 'hows': 1, 'gaiety': 4, 'coolness': 1, 'fed': 1, 'speedy': 1, 'importation': 1, 'novelties': 1, 'stores': 2, 'interchange': 1, 'restricted': 1, 'eventually': 1, 'introductions': 1, 'hill': 22, 'picnic': 1, 'surprise': 1, 'acceded': 1, 'arrear': 1, 'severity': 1, 'goodwill': 5, 'secures': 1, 'pigeon': 1, 'pies': 1, 'lamb': 1, 'lame': 2, 'useable': 1, 'stagnation': 1, 'vexations': 1, 'strawberries': 8, 'ripening': 1, 'plainer': 1, 'strawberry': 2, 'beds': 5, 'cabbage': 1, 'carte': 1, 'blanche': 1, 'delegating': 1, 'preferment': 1, 'authorised': 2, 'humourist': 3, 'baskets': 1, 'pink': 1, 'gardens': 7, 'gather': 2, 'meat': 2, 'inspect': 1, 'anything': 1, 'spurn': 1, 'donkey': 3, 'donkeys': 1, 'purchasing': 1, 'dust': 1, 'dirt': 1, 'dusty': 1, 'borrow': 1, 'blunt': 1, 'specious': 1, 'lurking': 1, 'horrors': 2, 'upbraid': 1, 'credulity': 1, 'unasked': 1, 'dispensed': 1, 'bright': 2, 'mid': 1, 'al': 1, 'fresco': 1, 'listener': 1, 'sympathiser': 1, 'viewed': 2, 'building': 2, 'characteristic': 1, 'sheltered': 2, 'stretching': 2, 'washed': 1, 'stream': 1, 'timber': 1, 'rows': 1, 'avenues': 1, 'rooted': 1, 'covering': 1, 'rambling': 1, 'untainted': 2, 'unexceptionably': 1, 'indulged': 4, 'apparatus': 1, 'gathering': 2, 'sorts': 1, 'hautboy': 1, 'eatable': 1, 'hautboys': 1, 'scarce': 2, 'chili': 1, 'wood': 2, 'flavour': 1, 'cultivation': 1, 'gardeners': 2, 'delicious': 2, 'cherries': 1, 'currants': 1, 'refreshing': 2, 'overhear': 1, 'circles': 1, 'spheres': 1, 'ranks': 1, 'negative': 1, 'insisted': 2, \"morrow's\": 1, 'pertinacity': 1, 'insensibly': 1, 'avenue': 1, 'limes': 1, 'river': 3, 'wall': 2, 'pillars': 1, 'erection': 1, 'disputable': 1, 'termination': 1, 'slope': 1, 'steeper': 1, 'abruptness': 1, 'curve': 1, 'verdure': 1, 'oppressive': 1, 'scorned': 1, 'appendages': 1, 'prosperity': 3, 'pastures': 1, 'spreading': 1, 'flocks': 1, 'blossom': 1, 'column': 1, 'smoke': 1, 'ascending': 1, 'agriculture': 1, 'mare': 2, 'repast': 1, 'ponds': 2, 'clover': 1, 'damps': 1, 'stirred': 1, 'engravings': 1, 'drawers': 1, 'medals': 1, 'cameos': 1, 'corals': 1, 'shells': 1, 'cabinets': 1, 'methodical': 2, 'plot': 1, 'lime': 2, 'wearied': 1, 'quitting': 5, 'endurance': 1, 'st': 1, \"mark's\": 1, 'venice': 1, 'blameless': 3, 'seizure': 2, 'intolerable': 2, 'defined': 1, 'humanely': 1, 'hotter': 2, 'relented': 1, 'discomposed': 2, 'swisserland': 4, 'sketches': 2, 'tour': 2, 'poem': 2, 'climate': 1, 'prescribed': 1, 'penetrating': 1, 'hardships': 1, 'thwarted': 1, 'madeira': 1, 'par': 1, 'crosser': 1, 'crossness': 1, 'concluded': 4, 'final': 1, 'exclude': 1, 'acceptance': 2, 'punctuality': 1, 'officiating': 1, 'travelled': 1, 'union': 4, 'harmonise': 1, 'collation': 1, 'enlivened': 2, 'admission': 1, 'estimation': 3, 'flirted': 1, 'laying': 1, 'playfulness': 3, 'winning': 1, 'commanded': 2, 'overcame': 1, 'broken': 3, 'bounds': 1, 'management': 1, 'dating': 1, 'unanswerable': 1, 'lowering': 1, 'impudence': 1, 'accents': 1, 'swell': 3, 'mickleham': 1, 'dorking': 1, 'rouse': 2, 'presides': 1, 'swelled': 1, 'presiding': 1, 'carelessly': 1, 'brunt': 1, 'emphatically': 1, 'chaperon': 1, 'mutterings': 1, 'murmured': 1, 'unheard': 2, 'waives': 1, 'verse': 1, 'engages': 1, \"shan't\": 1, 'mock': 1, 'conundrum': 3, 'reckon': 2, 'alphabet': 1, 'm': 2, 'em': 1, 'ma': 1, 'gratification': 1, 'explains': 1, 'acrostic': 1, 'vivacity': 2, 'rued': 1, 'confederates': 1, 'oppression': 1, 'educate': 1, 'undertake': 1, 'excepted': 2, 'referring': 1, 'overtake': 1, 'car': 1, 'pitch': 2, 'merriment': 2, 'depart': 1, 'questionable': 1, 'assorted': 1, 'unfeeling': 3, 'generosity': 4, 'honouring': 1, 'irksome': 1, 'blended': 2, 'prevalence': 1, 'liberties': 1, 'badly': 1, 'infant': 1, 'advancing': 1, 'motionless': 1, 'combined': 1, 'reproaching': 1, 'sullenness': 1, 'brutal': 1, 'fagged': 2, 'misspent': 1, 'abhorred': 1, 'gammon': 1, 'sweetest': 2, 'unmerited': 2, 'confiding': 1, 'scornful': 1, 'contrition': 2, 'penitence': 1, 'conferring': 1, 'deriving': 1, 'ridicule': 1, 'ushered': 2, 'escaping': 1, 'volubility': 1, 'twinkling': 1, 'dispersing': 1, 'lie': 1, 'knock': 1, 'ungenerous': 1, 'smallridge': 6, 'indefatigable': 1, \"smallridge's\": 4, 'fatiguing': 1, 'bragges': 2, 'salary': 3, 'sums': 1, 'earned': 2, \"abdy's\": 1, 'clerk': 1, 'ridden': 2, 'rheumatic': 1, 'gout': 1, 'joints': 1, \"john's\": 2, 'ostler': 4, 'accumulation': 1, \"ostler's\": 1, 'messenger': 2, 'tom': 1, 'astonish': 1, 'houseroom': 1, 'pensive': 1, 'meditations': 1, 'graver': 2, 'carries': 1, 'heightened': 1, 'instantaneous': 1, 'movement': 1, 'undecided': 1, 'dilatory': 1, 'unfinished': 1, 'diverting': 1, 'disagreeableness': 1, 'disturbing': 1, 'background': 1, 'hasten': 1, 'foreboded': 1, 'departed': 1, 'surviving': 1, 'goldsmith': 1, 'stoops': 2, 'disliked': 1, 'acquitted': 1, 'fancifulness': 1, 'mourning': 2, 'moralising': 1, 'hems': 1, 'commiseration': 1, 'earliest': 1, 'awe': 1, 'rested': 2, 'benefited': 2, 'freed': 2, 'guidable': 1, 'refrained': 1, 'endanger': 1, 'maintenance': 2, 'communicating': 2, 'funeral': 1, 'windsor': 6, 'lavished': 1, 'testify': 1, 'verbal': 1, 'headaches': 1, 'deranged': 1, 'appetite': 2, 'pulmonary': 1, 'undertaken': 1, 'derived': 1, 'tremulous': 1, 'airing': 4, 'classed': 1, \"niece's\": 1, 'diet': 1, 'nourishing': 1, 'distasteful': 1, 'arrowroot': 3, 'despatched': 1, 'wandering': 1, 'peremptorily': 1, 'inconsistency': 2, 'reprove': 1, 'unaccountable': 3, 'hush': 4, 'sacred': 1, 'relate': 5, 'undesirable': 1, 'agony': 2, 'inspired': 1, 'otways': 1, 'abhor': 1, 'resuming': 2, 'averting': 3, 'conversations': 1, 'believing': 3, 'utterance': 1, 'protestation': 1, 'darling': 1, 'persevering': 2, 'placidity': 1, 'misunderstandings': 4, 'expressly': 1, 'impropriety': 3, 'integrity': 1, 'adherence': 1, 'transaction': 1, 'indelicacy': 1, 'extenuations': 1, 'excusable': 2, 'system': 5, 'secresy': 3, 'vault': 1, 'undue': 1, 'survive': 1, 'hypocrisy': 1, 'deceit': 2, 'espionage': 1, 'league': 1, 'duped': 1, 'comparing': 1, 'intreat': 1, 'deviation': 1, \"their's\": 2, \"world's\": 1, 'condolence': 1, 'briskness': 1, 'palliate': 1, 'tormenting': 1, 'constituted': 1, 'deepest': 2, 'dupe': 1, 'misconceptions': 1, 'prophetically': 1, 'disservice': 1, 'guilty': 1, 'risking': 1, 'insufficient': 1, 'insignificance': 1, 'rival': 1, 'repulsed': 1, 'rack': 1, 'storeroom': 1, 'disengage': 2, 'elevation': 3, 'engrossing': 1, 'communicate': 3, 'token': 1, 'recently': 2, 'disclosure': 3, 'unable': 2, 'owning': 1, 'perplexed': 1, 'privately': 1, 'cautioned': 1, 'stoutly': 1, 'misunderstood': 2, 'assert': 1, 'protecting': 1, 'modestly': 1, 'withdrawn': 3, 'silently': 1, 'meditating': 1, 'arrow': 1, 'indelicate': 1, 'irrational': 1, 'demerits': 1, 'enquired': 1, 'forfeit': 1, 'counsels': 1, 'tremblings': 1, 'unsteady': 1, 'threatening': 2, 'perplexing': 1, 'inward': 1, 'delivered': 2, 'feebleness': 1, 'tautology': 1, 'corroborating': 1, 'latterly': 2, 'closest': 2, 'agreement': 1, 'unsuspected': 2, 'relation': 1, 'multiplied': 2, 'undiscerned': 1, 'occurrences': 1, 'enquiring': 1, 'alluding': 2, 'bitter': 3, 'intentionally': 1, 'worship': 1, 'footsteps': 1, 'spontaneous': 1, 'amidst': 1, 'rushed': 1, 'deceptions': 1, 'practising': 2, 'posture': 1, 'weakly': 1, 'imposed': 2, 'imposing': 1, 'involuntary': 1, \"latter's\": 1, 'institute': 1, 'delusion': 3, 'sorrowfully': 1, 'threadbare': 1, 'stale': 1, 'debasement': 1, 'sneers': 1, 'inconveniences': 1, 'captivated': 1, 'inconsistent': 1, 'incongruous': 1, 'sequel': 1, 'stoop': 2, 'worldly': 1, 'inexpressibly': 2, 'wilfully': 1, 'impartiality': 1, 'overrating': 1, 'incompatible': 1, 'wretchedly': 1, 'frightfully': 1, 'decisively': 1, 'confidential': 1, 'waking': 1, 'elect': 1, 'essential': 3, \"engagement's\": 1, 'rapturous': 1, 'affecting': 1, 'converse': 1, 'effusions': 1, 'pent': 1, 'energetic': 1, 'uttered': 1, 'attestation': 1, 'consented': 1, 'misconduct': 4, 'expiation': 1, 'contributed': 1, 'inquietudes': 1, 'captious': 2, 'irritable': 1, 'unanswered': 1, 'closer': 1, 'foolishly': 2, 'harboured': 1, 'unpardonably': 1, 'levity': 1, 'carelessness': 1, 'surrounding': 1, 'enemy': 2, 'stabbed': 1, 'stormy': 1, 'shrubs': 2, 'despoiling': 1, \"hartfield's\": 1, 'erroneous': 1, 'deserted': 2, 'forebodings': 1, 'dispelled': 1, 'brightened': 1, 'ruined': 1, 'tie': 1, 'losses': 1, 'seconds': 1, 'loneliness': 1, 'reign': 1, 'smell': 1, 'serenity': 1, 'intimation': 1, 'unquestionably': 1, \"do's\": 1, 'constrained': 1, 'pained': 1, 'doomed': 1, 'scoundrel': 1, 'steadier': 1, 'rewarded': 1, 'clemency': 1, 'sets': 1, 'ingeniously': 1, 'underrated': 2, 'calculation': 1, 'vouches': 1, 'disinterestedness': 1, 'purity': 1, 'mortals': 1, 'meets': 1, 'gains': 1, 'weary': 1, 'envied': 1, 'avert': 1, 'startled': 1, 'unsaid': 1, 'confide': 1, 'reconcile': 2, 'indecision': 1, 'alternative': 2, 'ungraciously': 1, 'contemplation': 2, 'refer': 2, 'awakened': 1, 'blamed': 1, 'lectured': 1, 'velocity': 1, 'groundless': 1, 'discouragement': 2, 'attendant': 1, 'render': 1, 'sublimity': 1, 'vouchsafing': 1, 'flight': 1, 'astray': 2, 'despaired': 1, 'crushed': 1, 'disguised': 1, 'relenting': 1, 'soothe': 1, 'enchanting': 1, 'enlightened': 1, 'witnessing': 1, 'differing': 1, 'inferiorities': 1, 'brilliancy': 1, 'stayed': 1, 'gladness': 1, 'keen': 1, 'faultless': 1, 'villain': 1, 'daring': 1, 'respite': 1, 'western': 1, 'plotting': 1, 'breast': 1, 'lungs': 1, 'impending': 1, 'articles': 1, 'contentment': 1, 'sleepless': 1, 'wept': 1, 'sin': 1, 'divested': 1, 'streets': 1, 'shops': 1, 'stolen': 1, 'literally': 1, 'figuratively': 1, 'reinstate': 1, 'deprecated': 1, 'waded': 1, 'packet': 1, 'forwarding': 1, 'enclosed': 1, 'preface': 1, 'nervousness': 1, 'ungenial': 1, 'east': 1, 'w': 4, 'rises': 1, 'hazards': 1, 'discuss': 1, 'caviller': 1, 'brick': 1, 'casements': 1, 'creation': 1, 'bursts': 1, 'obtaining': 1, 'correspondence': 2, 'inheriting': 1, 'inheritance': 1, 'lands': 1, 'absented': 1, 'reprehension': 1, 'excites': 1, 'dropped': 1, 'indicated': 1, 'goodhumoured': 1, 'expiration': 1, 'penetrated': 1, 'extenuation': 1, 'sinned': 1, 'acquittal': 2, 'brotherly': 2, 'queernesses': 1, 'designedly': 1, 'suppress': 1, 'insane': 1, 'encroach': 1, 'unseasonableness': 1, '26th': 1, 'ult': 1, 'shrunk': 1, 'retrospect': 1, 'shamefully': 3, 'blameable': 1, 'disapproved': 1, 'dissatisfaction': 1, 'consistent': 1, 'objectionable': 2, 'particularity': 1, 'consenting': 2, 'useless': 1, 'officious': 1, 'filled': 2, 'hatred': 1, 'extended': 1, 'bandied': 1, 'repentance': 2, 'dissolved': 2, 'multiplicity': 1, 'locked': 1, 'stating': 1, 'adding': 1, 'misconstrued': 1, 'subordinate': 1, 'conveyance': 1, 'requested': 1, 'stared': 1, 'accordant': 1, 'descriptive': 1, 'threaten': 1, 'raved': 1, 'wan': 1, 'dictate': 1, 'undoubted': 1, 'subscribe': 1, 'foretold': 1, \"another's\": 1, 'impartial': 1, 'distrusted': 1, 'disapprobation': 1, 'fathomed': 1, 'intrigue': 1, 'finesse': 1, 'pervert': 1, 'boyish': 1, 'contend': 1, 'suffers': 1, 'thanker': 1, 'tens': 1, 'inconsideration': 1, 'thoughtlessness': 1, 'acquire': 1, 'attacking': 1, 'inadmissibility': 1, 'transplantation': 1, 'evinced': 1, 'sacrificing': 1, 'unprovided': 1, 'expectant': 1, 'saucy': 3, 'detecting': 1, 'contemplated': 1, 'outweigh': 1, 'periods': 1, 'cheerlessness': 1, 'involve': 1, 'loser': 1, 'worshipped': 1, 'reproaches': 1, 'usage': 2, 'bordering': 1, 'desirableness': 1, 'stroke': 1, 'resorting': 1, 'tooth': 1, 'dentist': 3, 'haunted': 1, 'enduring': 1, 'appointed': 1, 'agitating': 1, 'similarity': 1, 'unsuccessfully': 1, 'checked': 3, 'expedient': 1, 'compress': 1, 'congratulatory': 2, 'accounted': 1, 'penetrate': 1, 'fold': 1, 'purple': 1, 'gold': 1, 'reticule': 1, 'nods': 1, 'admits': 1, 'mum': 1, \"an't\": 1, 'minister': 1, 'managed': 1, 'palpable': 1, 'physician': 1, 'cloud': 1, 'commonly': 1, 'whispers': 1, 'magistrates': 1, 'overseers': 1, 'churchwardens': 1, 'crayons': 1, 'applicants': 1, 'bar': 1, 'consultation': 1, 'denoted': 1, 'smallness': 1, 'patronage': 1, 'solidity': 1, 'insinuate': 1, 'greeted': 1, 'dutiful': 1, 'sample': 1, 'broiling': 1, 'fields': 1, 'woods': 1, 'protesting': 1, 'indignity': 1, 'eccentric': 2, 'harry': 1, 'sideboard': 1, 'receipt': 1, \"william's\": 1, 'aggression': 1, 'wearying': 1, 'collectedly': 1, 'disgusted': 2, 'owe': 2, 'artificial': 1, 'sons': 1, 'sports': 1, 'freaks': 1, 'fancies': 1, 'la': 2, 'baronne': 1, \"d'almane\": 1, 'comtesse': 1, \"d'ostalis\": 1, 'madame': 1, 'de': 1, 'genlis': 1, 'adelaide': 2, 'theodore': 1, 'infancy': 1, 'bitterness': 1, 'spoilt': 1, 'endeavours': 1, 'lecture': 1, 'dint': 1, 'thirteen': 2, 'anna': 1, 'fits': 1, 'terseness': 1, 'k': 1, 'n': 1, 'womanly': 1, 'follies': 1, 'attribute': 1, 'corresponded': 1, 'unmentioned': 1, 'enters': 1, 'complimenter': 1, 'differ': 1, 'oppressed': 1, 'unprepared': 2, 'bound': 1, 'affectionately': 1, 'marriages': 1, 'secondly': 1, 'feigning': 1, 'singularly': 1, 'renounced': 1, 'disposing': 1, 'impediment': 1, 'shifted': 1, 'knee': 1, 'outgrown': 1, 'familiarise': 1, 'sagacity': 1, 'disagreements': 1, 'habitation': 1, 'daringly': 1, 'abused': 1, 'agitate': 1, 'composing': 1, 'flushed': 1, 'intends': 1, 'recourse': 1, 'workbasket': 1, 'chambers': 1, \"astley's\": 4, 'coach': 1, 'overflowing': 1, 'broadly': 1, 'respectability': 1, 'misunderstand': 1, 'shows': 1, 'cattle': 1, 'drills': 1, 'ox': 1, 'emphasis': 1, 'brightest': 1, 'utility': 1, \"james's\": 1, 'disappearing': 1, 'lessons': 1, 'humility': 1, 'circumspection': 1, 'thankfulness': 1, 'resolutions': 1, 'doleful': 1, 'heartfelt': 1, 'disguise': 1, 'equivocation': 1, 'hateful': 1, 'gayest': 1, 'conniving': 1, 'figures': 1, 'stays': 1, 'embarrassing': 1, 'forgiving': 1, 'doat': 1, 'forbade': 1, 'transgression': 1, 'northward': 1, 'accession': 1, 'archly': 1, 'dog': 1, 'tricking': 1, 'mirth': 1, 'readier': 1, 'dispositions': 1, 'bids': 1, 'gesture': 1, 'inclining': 1, 'jewels': 1, 'ornament': 1, \"infant's\": 1, 'commended': 1, 'disordered': 1, 'partly': 1, 'obtrude': 1, 'entertainingly': 1, 'regarding': 1, 'completion': 1, 'xix': 1, 'intervals': 1, 'unbiased': 1, 'presumptuous': 1, 'fullest': 2, 'unqualified': 1, 'unintelligible': 1, 'tradesman': 1, 'decent': 1, 'vouch': 1, 'stain': 2, 'unbleached': 1, 'nobility': 1, 'liberally': 1, 'created': 1, 'gradual': 1, 'impair': 1, 'clergyman': 1, 'altar': 1, 'intermediate': 1, \"fortnight's\": 1, 'seaside': 1, 'sounded': 1, 'hopeless': 1, 'resignation': 1, 'acquiesced': 1, 'befriended': 1, 'illumination': 1, 'poultry': 2, 'robbed': 1, 'turkeys': 1, 'pilfering': 1, 'housebreaking': 1, 'protected': 1, 'weddings': 1, 'detailed': 1, 'satin': 1, 'veils': 1, 'stare': 1, 'deficiencies': 1, 'predictions': 1, 'band': 1, 'finis': 1}\n"
     ]
    }
   ],
   "source": [
    "def process_file(filename : str) -> Dict:\n",
    "    \"\"\"transforms the content of the given file into a dictionary of words \n",
    "    where the frequencies is counted\n",
    "    \"\"\"\n",
    "    \n",
    "    word_histo : dict = dict()\n",
    "    fp  : TextIO = open(filename)\n",
    "    \n",
    "    for line in fp:\n",
    "        process_line(line, word_histo)\n",
    "        \n",
    "    return word_histo\n",
    "\n",
    "def process_line(line : str, histo : Dict) -> Dict:\n",
    "    \"\"\"add the words of a single line, after preprocessing, to the dictionary\n",
    "    \"\"\"\n",
    "    \n",
    "    line = line.replace('-', ' ')\n",
    "    \n",
    "    for word in line.split():\n",
    "        word = word.strip(string.punctuation + string.whitespace)\n",
    "        word = word.lower()\n",
    "        histo[word] = histo.get(word, 0) + 1\n",
    "\n",
    "hist = process_file('emma.txt')\n",
    "print(hist)"
   ]
  },
  {
   "cell_type": "markdown",
   "metadata": {
    "slideshow": {
     "slide_type": "fragment"
    }
   },
   "source": [
    "The function `process_file` process one-by-one the lines of the file, and passes them to `process_line`. \n",
    "\n",
    "The histogram `hist` is used as an accumulator.\n",
    "\n",
    "The function `process_line` replaces hyphens with spaces, by the `replace` function before splitting, via `split`, the line into a list of strings.\n",
    "\n",
    "It traverses the list of words and uses `strip` and `lower` to remove punctuation and convert to lower case. \n",
    "\n",
    "Finally, `process_line` updates the histogram by creating a new item (word) or incrementing an existing one.\n",
    "\n",
    "To count the total number of words in the file, we can add up the frequencies in the histogram."
   ]
  },
  {
   "cell_type": "code",
   "execution_count": 85,
   "metadata": {
    "slideshow": {
     "slide_type": "fragment"
    }
   },
   "outputs": [
    {
     "name": "stdout",
     "output_type": "stream",
     "text": [
      "162742\n"
     ]
    }
   ],
   "source": [
    "def total_words(hist : Dict) -> int:\n",
    "    \"\"\"counts the total number of words in the dictionary and thus original file\n",
    "    \"\"\"\n",
    "    \n",
    "    return sum(hist.values())\n",
    "\n",
    "print(total_words(hist))"
   ]
  },
  {
   "cell_type": "markdown",
   "metadata": {
    "slideshow": {
     "slide_type": "fragment"
    }
   },
   "source": [
    "The number of different words is just the number of items in the dictionary."
   ]
  },
  {
   "cell_type": "code",
   "execution_count": 86,
   "metadata": {
    "slideshow": {
     "slide_type": "fragment"
    }
   },
   "outputs": [
    {
     "name": "stdout",
     "output_type": "stream",
     "text": [
      "7460\n"
     ]
    }
   ],
   "source": [
    "def different_words(hist : Dict) -> int:\n",
    "    \"\"\"counts the number of distinct words in the dictionary and thus original file\n",
    "    \"\"\"\n",
    "    \n",
    "    return len(hist)\n",
    "\n",
    "print(different_words(hist))"
   ]
  },
  {
   "cell_type": "markdown",
   "metadata": {
    "slideshow": {
     "slide_type": "slide"
    }
   },
   "source": [
    "### Most Common Words\n",
    "\n",
    "To find the most common words, we can make a list of tuples, where each tuple contains a word and its frequency, and sort it."
   ]
  },
  {
   "cell_type": "code",
   "execution_count": 87,
   "metadata": {
    "slideshow": {
     "slide_type": "fragment"
    }
   },
   "outputs": [],
   "source": [
    "from typing import Tuple\n",
    "\n",
    "def most_common(hist : Dict) -> List[Tuple]:\n",
    "    \"\"\"transforms the dictionary in a list and sorts the list on most values\n",
    "    \"\"\"\n",
    "    frequencies = []\n",
    "    \n",
    "    for key, value in hist.items():\n",
    "        frequencies.append((value, key))\n",
    "        \n",
    "    frequencies.sort(reverse=True)\n",
    "    #frequencies.sort()\n",
    "    \n",
    "    return frequencies"
   ]
  },
  {
   "cell_type": "markdown",
   "metadata": {
    "slideshow": {
     "slide_type": "fragment"
    }
   },
   "source": [
    "In each tuple, the frequency appears first, so the resulting list is sorted by frequency. "
   ]
  },
  {
   "cell_type": "code",
   "execution_count": 88,
   "metadata": {
    "slideshow": {
     "slide_type": "fragment"
    }
   },
   "outputs": [
    {
     "name": "stdout",
     "output_type": "stream",
     "text": [
      "The most common words are:\n",
      "to\t5295\n",
      "the\t5266\n",
      "and\t4931\n",
      "of\t4339\n",
      "i\t3191\n",
      "a\t3155\n",
      "it\t2546\n",
      "her\t2483\n",
      "was\t2400\n",
      "she\t2364\n"
     ]
    }
   ],
   "source": [
    "frequencies = most_common(hist)\n",
    "print('The most common words are:')\n",
    "\n",
    "for freq, word in frequencies[:10]:\n",
    "    print(word, freq, sep='\\t')"
   ]
  },
  {
   "cell_type": "markdown",
   "metadata": {
    "slideshow": {
     "slide_type": "fragment"
    }
   },
   "source": [
    "This code can be simplified using the key parameter of the sort function.\n",
    "\n",
    "If you are curious,\n",
    "you can read about it at https://wiki.python.org/moin/HowTo/Sorting."
   ]
  },
  {
   "cell_type": "markdown",
   "metadata": {
    "slideshow": {
     "slide_type": "slide"
    }
   },
   "source": [
    "### Optional Parameters\n",
    "\n",
    "We have seen built-in functions and methods that take optional arguments.\n",
    "\n",
    "It is possible to write programmer-defined functions with optional arguments, too. \n",
    "\n",
    "The next cell contains a function that prints the most common words in a histogram."
   ]
  },
  {
   "cell_type": "code",
   "execution_count": null,
   "metadata": {
    "slideshow": {
     "slide_type": "fragment"
    }
   },
   "outputs": [],
   "source": [
    "def print_most_common(hist : Dict, num : int = 10) -> None:\n",
    "    \"\"\"prints the top of the most common words, default number is 10\n",
    "    \"\"\"\n",
    "    t = most_common(hist)\n",
    "    print('The most common words are:')\n",
    "    \n",
    "    for freq, word in t[:num]:\n",
    "        print(word, freq, sep='\\t')"
   ]
  },
  {
   "cell_type": "markdown",
   "metadata": {
    "slideshow": {
     "slide_type": "fragment"
    }
   },
   "source": [
    "The first parameter is required; the second is optional. \n",
    "\n",
    "The default value of `num` is `10`."
   ]
  },
  {
   "cell_type": "code",
   "execution_count": null,
   "metadata": {
    "slideshow": {
     "slide_type": "fragment"
    }
   },
   "outputs": [],
   "source": [
    "print_most_common(hist, 5)"
   ]
  },
  {
   "cell_type": "markdown",
   "metadata": {
    "slideshow": {
     "slide_type": "fragment"
    }
   },
   "source": [
    "`num` gets the default value, unless you provide a second argument."
   ]
  },
  {
   "cell_type": "code",
   "execution_count": null,
   "metadata": {
    "slideshow": {
     "slide_type": "fragment"
    }
   },
   "outputs": [],
   "source": [
    "print_most_common(hist, 20)"
   ]
  },
  {
   "cell_type": "markdown",
   "metadata": {
    "slideshow": {
     "slide_type": "fragment"
    }
   },
   "source": [
    "`num` gets the value of the second argument instead. \n",
    "\n",
    "In other words, the optional argument overrides the default value.\n",
    "\n",
    "If a function has both required and optional parameters, all the required parameters have to come first, followed by the optional ones."
   ]
  },
  {
   "cell_type": "markdown",
   "metadata": {
    "slideshow": {
     "slide_type": "slide"
    }
   },
   "source": [
    "### Random Words\n",
    "\n",
    "To choose a random word from the histogram, the simplest algorithm is to build a list with multiple copies of each word, according to the observed frequency, and then choose from the list."
   ]
  },
  {
   "cell_type": "code",
   "execution_count": null,
   "metadata": {
    "slideshow": {
     "slide_type": "fragment"
    }
   },
   "outputs": [],
   "source": [
    "import random \n",
    "\n",
    "def random_word(hist : Dict) -> str:\n",
    "    \"\"\"chooses a random word from a dictionary\n",
    "    \"\"\"\n",
    "    word_lst : List[str] = []\n",
    "    \n",
    "    for word, freq in hist.items():\n",
    "        word_lst.extend([word] * freq) # the word is added to the list as often as the frequency\n",
    "    \n",
    "    print(len(word_lst))\n",
    "    return random.choice(word_lst)\n",
    "\n",
    "print(random_word(hist))"
   ]
  }
 ],
 "metadata": {
  "kernelspec": {
   "display_name": "Python 3",
   "language": "python",
   "name": "python3"
  },
  "language_info": {
   "codemirror_mode": {
    "name": "ipython",
    "version": 3
   },
   "file_extension": ".py",
   "mimetype": "text/x-python",
   "name": "python",
   "nbconvert_exporter": "python",
   "pygments_lexer": "ipython3",
   "version": "3.8.8"
  }
 },
 "nbformat": 4,
 "nbformat_minor": 4
}
