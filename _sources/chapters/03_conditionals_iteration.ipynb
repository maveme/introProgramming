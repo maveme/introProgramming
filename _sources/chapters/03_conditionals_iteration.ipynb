{
 "cells": [
  {
   "cell_type": "markdown",
   "metadata": {
    "slideshow": {
     "slide_type": "slide"
    }
   },
   "source": [
    "# Conditionals and Iteration [^intro]\n",
    "\n",
    "[^intro]: This Jupyter Notebook is based on Chapter 3 and 5 of {cite}`Severance2016`; and Chapter 5 and 7 of {cite}`thinkPython`."
   ]
  },
  {
   "cell_type": "markdown",
   "metadata": {},
   "source": [
    "## Boolean Expressions\n",
    "\n",
    "A **boolean expression** is an expression that yields either `True` or `False`.\n",
    "\n",
    "The following examples use the operator `==` to compare the values of two expressions.\n",
    "\n",
    "The result is `True` if the values are the same, otherwise the result is `False`."
   ]
  },
  {
   "cell_type": "code",
   "execution_count": null,
   "metadata": {},
   "outputs": [],
   "source": [
    "5 == 5"
   ]
  },
  {
   "cell_type": "code",
   "execution_count": null,
   "metadata": {},
   "outputs": [],
   "source": [
    "5 == 6"
   ]
  },
  {
   "cell_type": "markdown",
   "metadata": {},
   "source": [
    "`True` and `False` are special values of the type `bool`."
   ]
  },
  {
   "cell_type": "code",
   "execution_count": null,
   "metadata": {},
   "outputs": [],
   "source": [
    "True and False"
   ]
  },
  {
   "cell_type": "markdown",
   "metadata": {},
   "source": [
    "Beside the relational operator `==` we have\n",
    "\n",
    "| **Operator** | **Purpose** |\n",
    "|:----------|:---------|\n",
    "| `==` | x is  equal to y |\n",
    "| `!=` | x is not equal to y |\n",
    "| `x > y` | x is greater than y |\n",
    "| `x < y` | x is less than y |\n",
    "| `x >= y` | x is greater than or equal to y | \n",
    "\n",
    "Although these operations are probably familiar to you, the Python symbols are different from the mathematical symbols. \n",
    "\n",
    "A common error is to use a single equal sign (`=`) instead of\n",
    "a double equal sign (`==`). \n",
    "\n",
    "Remember that `=` is an assignment operator and `==` is a relational\n",
    "operator."
   ]
  },
  {
   "cell_type": "markdown",
   "metadata": {},
   "source": [
    "## Logical Operators\n",
    "\n",
    "There are three logical operators: `and`, `or`, and `not`. \n",
    "\n",
    "The semantics (meaning) of these operators is similar to their meaning in English. \n",
    "\n",
    "For example, `x > 0 and x < 10` is `True`\n",
    "only if `x` is greater than `0` *and* less than `10`."
   ]
  },
  {
   "cell_type": "code",
   "execution_count": null,
   "metadata": {},
   "outputs": [],
   "source": [
    "x = 9\n",
    "x > 0 and x < 10"
   ]
  },
  {
   "cell_type": "markdown",
   "metadata": {},
   "source": [
    "`n % 2 == 0 or n % 3 == 0` is `True` if *either one or both* of the conditions are `True`, that is, if the number\n",
    "is divisible by `2` *or* `3`."
   ]
  },
  {
   "cell_type": "code",
   "execution_count": null,
   "metadata": {},
   "outputs": [],
   "source": [
    "n = 27\n",
    "n % 2 == 0 or n % 3 == 0"
   ]
  },
  {
   "cell_type": "markdown",
   "metadata": {},
   "source": [
    "Finally, the `not` operator negates a boolean expression, so `not (x > y)` is `True` if `x > y` is\n",
    "`False`, that is, if `x` is less than or equal to `y`."
   ]
  },
  {
   "cell_type": "code",
   "execution_count": null,
   "metadata": {},
   "outputs": [],
   "source": [
    "x = 10\n",
    "y = 15\n",
    "not (x > y)"
   ]
  },
  {
   "cell_type": "markdown",
   "metadata": {},
   "source": [
    "Strictly speaking, the operands of the logical operators should be boolean expressions, but Python is not very strict. \n",
    "\n",
    "Any nonzero number is interpreted as `True`.\n",
    "\n",
    "This flexibility can be useful, but there are some subtleties to it that might be confusing.\n",
    "\n",
    "You might want to avoid it (unless you know what you are doing)."
   ]
  },
  {
   "cell_type": "markdown",
   "metadata": {},
   "source": [
    "If you use the boolean operators in the same expression you have to beware of the order of the boolean operators.\n",
    "\n",
    "The order is as follows: `not` > `or` > `and`, again if in doubt *use brackets!*"
   ]
  },
  {
   "cell_type": "code",
   "execution_count": null,
   "metadata": {},
   "outputs": [],
   "source": [
    "not False and True"
   ]
  },
  {
   "cell_type": "code",
   "execution_count": null,
   "metadata": {},
   "outputs": [],
   "source": [
    "True or False and True"
   ]
  },
  {
   "cell_type": "markdown",
   "metadata": {
    "slideshow": {
     "slide_type": "slide"
    }
   },
   "source": [
    "## Conditional Execution\n",
    "\n",
    "In order to write useful programs, we almost always need the ability to check conditions\n",
    "and change the behavior of the program accordingly. Conditions allow us to change the execution flow in a program. \n",
    "\n",
    "**Conditional statements** provide us this functionality. \n",
    "\n",
    "The simplest form is the **if statement**."
   ]
  },
  {
   "cell_type": "code",
   "execution_count": null,
   "metadata": {
    "slideshow": {
     "slide_type": "fragment"
    }
   },
   "outputs": [],
   "source": [
    "x = 10\n",
    "if x > 0:\n",
    "    print('x is positive')\n",
    "print('x is an integer value')"
   ]
  },
  {
   "cell_type": "markdown",
   "metadata": {
    "slideshow": {
     "slide_type": "fragment"
    }
   },
   "source": [
    "The boolean expression after the `if` is called the **condition**. \n",
    "\n",
    "If it is true, the indented statement is being executed.\n",
    "\n",
    "If statements have the same structure as function definitions: a header followed by an indented body. \n",
    "\n",
    "Statements like this are called **compound statements**."
   ]
  },
  {
   "cell_type": "markdown",
   "metadata": {
    "slideshow": {
     "slide_type": "fragment"
    }
   },
   "source": [
    "What is printed when executing the following cells?"
   ]
  },
  {
   "cell_type": "code",
   "execution_count": null,
   "metadata": {
    "slideshow": {
     "slide_type": "fragment"
    }
   },
   "outputs": [],
   "source": [
    "x = 1\n",
    "if x < 0:\n",
    "    print('x is negative')\n",
    "print('Hello Data Scientists')"
   ]
  },
  {
   "cell_type": "code",
   "execution_count": null,
   "metadata": {
    "slideshow": {
     "slide_type": "fragment"
    }
   },
   "outputs": [],
   "source": [
    "x = 1\n",
    "if x < 0:\n",
    "print('x is negative')\n",
    "print('Hello Data Scientists')"
   ]
  },
  {
   "cell_type": "markdown",
   "metadata": {
    "slideshow": {
     "slide_type": "fragment"
    }
   },
   "source": [
    "Where \"normal\" programming languages use brackets, for instance `{` and `}` in C or Java, Python uses **indentation** to group lists of instruction *blocks*."
   ]
  },
  {
   "cell_type": "code",
   "execution_count": null,
   "metadata": {
    "slideshow": {
     "slide_type": "fragment"
    }
   },
   "outputs": [],
   "source": [
    "x = -1\n",
    "if x < 0:\n",
    "    print('x is negative')\n",
    "    print('Hello Data Scientists')"
   ]
  },
  {
   "cell_type": "markdown",
   "metadata": {
    "jupyter": {
     "source_hidden": true
    },
    "tags": []
   },
   "source": [
    "```{admonition} Do It Yourself!\n",
    ":class: seealso, dropdown\n",
    "Ask the age of a user with the <i>input</i> function. If the user is an adult (older than or equal to 18) print the message \"Hi adult!\".\n",
    "```"
   ]
  },
  {
   "cell_type": "code",
   "execution_count": null,
   "metadata": {
    "jupyter": {
     "source_hidden": true
    },
    "tags": []
   },
   "outputs": [],
   "source": [
    "# Remove this line and add your code here"
   ]
  },
  {
   "cell_type": "markdown",
   "metadata": {
    "slideshow": {
     "slide_type": "slide"
    }
   },
   "source": [
    "## Alternative Execution\n",
    "\n",
    "There is yet another if statement, namely to represent **alternative execution**.\n",
    "\n",
    "There are 2 alternatives to execute and the evaluation of the expression determines which alternative\n",
    "needs to be executed."
   ]
  },
  {
   "cell_type": "code",
   "execution_count": null,
   "metadata": {
    "slideshow": {
     "slide_type": "fragment"
    }
   },
   "outputs": [],
   "source": [
    "x = 23\n",
    "\n",
    "if  x % 2 == 0:\n",
    "    print('x is even')\n",
    "else:\n",
    "    print('x is odd')"
   ]
  },
  {
   "cell_type": "markdown",
   "metadata": {
    "jupyter": {
     "source_hidden": true
    },
    "tags": []
   },
   "source": [
    "```{admonition} Do It Yourself!\n",
    ":class: seealso, dropdown\n",
    "Ask the age of a user with the <i>input</i> function. If the user is an adult (older than or equal to 18) print the message \"Hi adult!\", otherwise print the message \"Hi kid!\".\n",
    "```"
   ]
  },
  {
   "cell_type": "code",
   "execution_count": null,
   "metadata": {
    "jupyter": {
     "source_hidden": true
    },
    "tags": []
   },
   "outputs": [],
   "source": [
    "# Remove this line and add your code here"
   ]
  },
  {
   "cell_type": "markdown",
   "metadata": {
    "slideshow": {
     "slide_type": "slide"
    }
   },
   "source": [
    "## Chained Conditionals\n",
    "\n",
    "Sometimes there are more than 2 alternatives. \n",
    "\n",
    "In that case you can use a **chained conditional**. "
   ]
  },
  {
   "cell_type": "code",
   "execution_count": null,
   "metadata": {
    "slideshow": {
     "slide_type": "fragment"
    }
   },
   "outputs": [],
   "source": [
    "x = 4\n",
    "y = 2\n",
    "\n",
    "if  x < y:\n",
    "    print('x is less than y')\n",
    "elif x > y:\n",
    "    print('x is greater than y')\n",
    "else:\n",
    "    print('x and y are equal')"
   ]
  },
  {
   "cell_type": "markdown",
   "metadata": {
    "slideshow": {
     "slide_type": "fragment"
    }
   },
   "source": [
    "`elif` is an abbreviation of `else if`.\n",
    "\n",
    "Every condition is checked from top to bottom and as soon as one succeeds the corresponding branch is\n",
    "executed and the conditional terminates.\n",
    "\n",
    "If more than one condition evaluates to `True` only the first branch for which the condition succeeds is executed."
   ]
  },
  {
   "cell_type": "markdown",
   "metadata": {
    "jupyter": {
     "source_hidden": true
    },
    "tags": []
   },
   "source": [
    "```{admonition} Do It Yourself!\n",
    ":class: seealso, dropdown\n",
    "Ask the age of a user with the <i>input</i> function. If the user is a kid (younger than 18) print the message \"Hi kid!\"; if the user is between 18 and 69 print the message \"Hi adult!\"; otherwise, print the message \"Hi old pal!\".\n",
    "```"
   ]
  },
  {
   "cell_type": "code",
   "execution_count": null,
   "metadata": {
    "jupyter": {
     "source_hidden": true
    },
    "tags": []
   },
   "outputs": [],
   "source": [
    "# Remove this line and add your code here"
   ]
  },
  {
   "cell_type": "markdown",
   "metadata": {
    "slideshow": {
     "slide_type": "slide"
    }
   },
   "source": [
    "## Nested Conditionals\n",
    "\n",
    "One conditional can also be nested within another."
   ]
  },
  {
   "cell_type": "code",
   "execution_count": null,
   "metadata": {
    "slideshow": {
     "slide_type": "fragment"
    }
   },
   "outputs": [],
   "source": [
    "x = 2\n",
    "y = 2\n",
    "\n",
    "if  x == y:\n",
    "    print('x and y are equal')\n",
    "else:\n",
    "    if x < y:\n",
    "        print('x is less than y')\n",
    "    else:\n",
    "        print('x is greater than y')"
   ]
  },
  {
   "cell_type": "markdown",
   "metadata": {
    "slideshow": {
     "slide_type": "fragment"
    }
   },
   "source": [
    "The outer conditional contains two branches. \n",
    "\n",
    "The first branch contains a simple statement.\n",
    "\n",
    "The second branch contains another `if` statement, which has two branches of its own.\n"
   ]
  },
  {
   "cell_type": "markdown",
   "metadata": {},
   "source": [
    "\n",
    "````{margin}\n",
    "```{admonition} EXTRA\n",
    "Although the indentation of the statements makes the structure apparent, **nested conditionals**\n",
    "become difficult to read very quickly. \n",
    "```\n",
    "````\n"
   ]
  },
  {
   "cell_type": "markdown",
   "metadata": {},
   "source": [
    "\n",
    "It is a good idea to avoid them whenever you can.\n",
    "\n",
    "Logical operators often provide a way to simplify nested conditional statements."
   ]
  },
  {
   "cell_type": "code",
   "execution_count": null,
   "metadata": {
    "slideshow": {
     "slide_type": "fragment"
    }
   },
   "outputs": [],
   "source": [
    "x = 2\n",
    "\n",
    "if  0 < x :\n",
    "    if x < 10:\n",
    "        print('x is a positive single-digit number')"
   ]
  },
  {
   "cell_type": "markdown",
   "metadata": {
    "slideshow": {
     "slide_type": "fragment"
    }
   },
   "source": [
    "We can **refactor** this nested conditional by introducing the `and` operator in the logical expression."
   ]
  },
  {
   "cell_type": "code",
   "execution_count": null,
   "metadata": {
    "slideshow": {
     "slide_type": "fragment"
    }
   },
   "outputs": [],
   "source": [
    "x = 2\n",
    "\n",
    "if  0 < x and x < 10:\n",
    "    print('x is a positive single-digit number')"
   ]
  },
  {
   "cell_type": "markdown",
   "metadata": {
    "slideshow": {
     "slide_type": "fragment"
    }
   },
   "source": [
    "We can **refactor** this nested conditional by merging the two conditions into `0 < x < 10`."
   ]
  },
  {
   "cell_type": "code",
   "execution_count": null,
   "metadata": {
    "slideshow": {
     "slide_type": "fragment"
    }
   },
   "outputs": [],
   "source": [
    "x = 3\n",
    "\n",
    "if  0 < x < 10:\n",
    "    print('x is a positive single-digit number')"
   ]
  },
  {
   "cell_type": "code",
   "execution_count": null,
   "metadata": {},
   "outputs": [],
   "source": [
    "\n",
    "print('Do something!')"
   ]
  },
  {
   "cell_type": "markdown",
   "metadata": {
    "jupyter": {
     "source_hidden": true
    },
    "tags": []
   },
   "source": [
    "```{admonition} Do It Yourself!\n",
    ":class: seealso, dropdown\n",
    "Can you refactor the following program so we avoid having nested conditionals?\n",
    "```"
   ]
  },
  {
   "cell_type": "code",
   "execution_count": null,
   "metadata": {
    "jupyter": {
     "source_hidden": true
    },
    "tags": []
   },
   "outputs": [],
   "source": [
    "# Modify this code\n",
    "day = 2\n",
    "\n",
    "if day < 3:\n",
    "    print('The week just started')\n",
    "else:\n",
    "    if day <= 5:\n",
    "        print('We are just in the middle of the week')\n",
    "    else:\n",
    "        if day < 7:\n",
    "            print('The week is ending')\n",
    "        else:\n",
    "            print('It is a fact, the week ends today')"
   ]
  },
  {
   "cell_type": "markdown",
   "metadata": {},
   "source": [
    "## Catching Exceptions\n",
    "\n",
    "The following program request you to enter your age. Then, it parses the input as an integer. But what does it happen if you introduce a string instead of a number?"
   ]
  },
  {
   "cell_type": "code",
   "execution_count": null,
   "metadata": {},
   "outputs": [],
   "source": [
    "age = input('What is your age? ')\n",
    "int(age)"
   ]
  },
  {
   "cell_type": "markdown",
   "metadata": {},
   "source": [
    "Indeed, you get an error or exception. \n",
    "\n",
    "Python can help you handle these cases to end the program gracefully, or continue trhough an alternative path. The construct that handles errors is called **try/except**.\n",
    "\n",
    "We use the try/except when we know that a sequence of instructions might introduce an error (placed in the **try** section) and you want to execute other sequence in case the problem rises (placed in the **except** section). If no error appears, the except section is ignored. \n",
    "\n",
    "**Catching** is the action of handling an exception.\n",
    "\n",
    "Now, let's rewrite our previous example with the try/except construct."
   ]
  },
  {
   "cell_type": "code",
   "execution_count": null,
   "metadata": {},
   "outputs": [],
   "source": [
    "age = input('What is your age? ')\n",
    "\n",
    "try: \n",
    "     print(int(age))\n",
    "except:\n",
    "    print('You should introduce a number!')"
   ]
  },
  {
   "cell_type": "markdown",
   "metadata": {
    "jupyter": {
     "source_hidden": true
    },
    "tags": []
   },
   "source": [
    "```{admonition} Do It Yourself!\n",
    ":class: seealso, dropdown\n",
    "Ask the user for two numbers (two calls of the <i>input</i> function can be used) so you can compute the addition of both of them. Then, print the message \"<i>num_1</i> + <i>num_2</i> = <i>sum</i>\". If the user inputs a value that cannot be converted to a number print the message \"Please, enter a valid number.\"\n",
    "```"
   ]
  },
  {
   "cell_type": "code",
   "execution_count": null,
   "metadata": {
    "jupyter": {
     "source_hidden": true
    },
    "tags": []
   },
   "outputs": [],
   "source": [
    "# Remove this line and add your code here"
   ]
  },
  {
   "cell_type": "markdown",
   "metadata": {},
   "source": [
    "## Short-circuit Evaluation of Logical Expressions\n",
    "\n",
    "When Python processes a logical expression, it does it from left to right. \n",
    "\n",
    "So, for the expression `x > 0 and x < 10` it will first process `x > 0` and then `x <10`.\n",
    "\n",
    "However, if it happens that `x = -1`, the first expression `x > 0` will be equal to `False` and tthen there is no point to evaluate the second expression. By definition, if one of the expression of an `and` is `False`, the whole expression is also `False`.\n",
    "\n",
    "Python avoids processing extra expressions when the result is already known. This is know as **short-circuiting** the evaluation."
   ]
  },
  {
   "cell_type": "markdown",
   "metadata": {},
   "source": [
    "Short-circuiting the evaluation lead to a useful technique known as the **guard pattern**. Let's see why it is needed with the following example."
   ]
  },
  {
   "cell_type": "code",
   "execution_count": null,
   "metadata": {},
   "outputs": [],
   "source": [
    "x = 10\n",
    "y = 5\n",
    "\n",
    "x > 0 and x / y == 2"
   ]
  },
  {
   "cell_type": "markdown",
   "metadata": {},
   "source": [
    "Everything works fine until now. But what does it happen if we change the value of `y` to `0`?"
   ]
  },
  {
   "cell_type": "code",
   "execution_count": null,
   "metadata": {},
   "outputs": [],
   "source": [
    "x = 10\n",
    "y = 0\n",
    "\n",
    "x > 0 and x / y == 2"
   ]
  },
  {
   "cell_type": "markdown",
   "metadata": {},
   "source": [
    "Yes. We get an error because you cannot have `0` as a denominator in a division. We can use the guard pattern to place a **guard** expression that let us check if `y != 0`. Let's see what happens now."
   ]
  },
  {
   "cell_type": "code",
   "execution_count": null,
   "metadata": {},
   "outputs": [],
   "source": [
    "x = 10\n",
    "y = 0\n",
    "\n",
    "x > 0 and y != 0 and x / y == 2"
   ]
  },
  {
   "cell_type": "markdown",
   "metadata": {},
   "source": [
    "No errors now because Python stops evaluating expressions when it notices that `y != 0 == False`. And this is the beauty of using the guard pattern."
   ]
  },
  {
   "cell_type": "markdown",
   "metadata": {
    "slideshow": {
     "slide_type": "slide"
    }
   },
   "source": [
    "## The `while` Statement\n",
    "\n",
    "Computers are good in repeating boring tasks, they do this faster and more accurate than people.\n",
    "\n",
    "Repetition of instructions is called **iteration** in programming.\n",
    "\n",
    "Suppose you want to countdown and print a value, we need to *loop*."
   ]
  },
  {
   "cell_type": "code",
   "execution_count": null,
   "metadata": {
    "slideshow": {
     "slide_type": "fragment"
    }
   },
   "outputs": [],
   "source": [
    "# Countdown program\n",
    "\n",
    "n = 10  # integer\n",
    "print('initial n value =', n)\n",
    "i = 0   # integer\n",
    "\n",
    "while n > 0:\n",
    "    print(n)\n",
    "    n = n - 1\n",
    "    \n",
    "    i = i + 10\n",
    "print('Ready, and value of i =', i)"
   ]
  },
  {
   "cell_type": "markdown",
   "metadata": {
    "slideshow": {
     "slide_type": "fragment"
    }
   },
   "source": [
    "The flow of execution for a `while` statement is as follows:\n",
    "\n",
    "1. Determine whether the condition is `True` or `False`.\n",
    "2. If `False`, exit the `while` statement and continue with the next statement.\n",
    "3. If the condition is `True`, run the body and go back to step 1.\n",
    "\n",
    "This type of flow is called a loop because the third step loops back around to the top.\n",
    "\n",
    "The body should change the value of some variables that are used in the condition in order to ensure termination\n",
    "of a loop."
   ]
  },
  {
   "cell_type": "code",
   "execution_count": null,
   "metadata": {
    "slideshow": {
     "slide_type": "fragment"
    }
   },
   "outputs": [],
   "source": [
    "while True:\n",
    "    print('Hello')"
   ]
  },
  {
   "cell_type": "markdown",
   "metadata": {
    "slideshow": {
     "slide_type": "fragment"
    }
   },
   "source": [
    "The `while` loop above will never terminate, this is a so-called `infinite` loop.\n",
    "\n",
    "When writing programs it is important to convince yourself that the program terminates.\n",
    "\n",
    "In the case of `countdown`, we can prove that the loop terminates: if `n` is zero or negative, the\n",
    "loop never runs. Otherwise, `n` gets smaller each time through the loop, so eventually we\n",
    "have to get to 0.\n",
    "\n",
    "Reasoning that loops terminate is not always trivial, consider for instance."
   ]
  },
  {
   "cell_type": "code",
   "execution_count": null,
   "metadata": {
    "slideshow": {
     "slide_type": "fragment"
    }
   },
   "outputs": [],
   "source": [
    "# sequence\n",
    "n = 5   # integer\n",
    "while n != 1:\n",
    "    print(n)\n",
    "    \n",
    "    if n % 2 == 0: # n is even\n",
    "        n = n / 2\n",
    "    else: # n is odd\n",
    "        n = n * 3 + 1"
   ]
  },
  {
   "cell_type": "markdown",
   "metadata": {},
   "source": [
    "The condition for this loop is `n != 1`, so the loop will continue until `n` is 1, which makes\n",
    "the condition `False`.\n",
    "\n",
    "Since `n` sometimes increases and sometimes decreases, there is no obvious proof that `n` will\n",
    "ever reach 1, or that the program terminates. \n",
    "\n",
    "For some particular values of `n`, we can prove termination. \n",
    "\n",
    "For example, if the starting value is a power of two, `n` will be even every\n",
    "time through the loop until it reaches 1. \n",
    "\n",
    "The previous example ends with such a sequence,\n",
    "starting with 16."
   ]
  },
  {
   "cell_type": "markdown",
   "metadata": {
    "slideshow": {
     "slide_type": "slide"
    }
   },
   "source": [
    "## `break`\n",
    "\n",
    "It is possible to enforce the termination of a loop via the `break` statement.\n",
    "\n",
    "Suppose you are processing input and as soon as you get the string value `done` you want to terminate."
   ]
  },
  {
   "cell_type": "code",
   "execution_count": 1,
   "metadata": {
    "slideshow": {
     "slide_type": "fragment"
    }
   },
   "outputs": [
    {
     "name": "stdout",
     "output_type": "stream",
     "text": [
      ">  hdfjkshdsk\n"
     ]
    },
    {
     "name": "stdout",
     "output_type": "stream",
     "text": [
      "Hello\n"
     ]
    },
    {
     "name": "stdout",
     "output_type": "stream",
     "text": [
      ">  ijdifjsdoi\n"
     ]
    },
    {
     "name": "stdout",
     "output_type": "stream",
     "text": [
      "Hello\n"
     ]
    },
    {
     "name": "stdout",
     "output_type": "stream",
     "text": [
      ">  jjidfsjidsj\n"
     ]
    },
    {
     "name": "stdout",
     "output_type": "stream",
     "text": [
      "Hello\n"
     ]
    },
    {
     "name": "stdout",
     "output_type": "stream",
     "text": [
      ">  done\n"
     ]
    },
    {
     "name": "stdout",
     "output_type": "stream",
     "text": [
      "3\n"
     ]
    }
   ],
   "source": [
    "count_words = 0\n",
    "\n",
    "while True:\n",
    "    line = input(\"> \")\n",
    "    \n",
    "    if line == 'done':\n",
    "        break\n",
    "        \n",
    "    count_words = count_words + 1; print(\"Hello\")\n",
    "    \n",
    "print(count_words)"
   ]
  },
  {
   "cell_type": "markdown",
   "metadata": {
    "slideshow": {
     "slide_type": "fragment"
    }
   },
   "source": [
    "This way of terminating `while` loops is common practice, because you can check very easily whether some condition\n",
    "holds."
   ]
  },
  {
   "cell_type": "markdown",
   "metadata": {
    "jupyter": {
     "source_hidden": true
    },
    "tags": []
   },
   "source": [
    "```{admonition} Do It Yourself!\n",
    ":class: seealso, dropdown\n",
    "Try to rewrite the <i>while</i> loop without the <i>break</i> statement.\n",
    "```"
   ]
  },
  {
   "cell_type": "code",
   "execution_count": null,
   "metadata": {
    "jupyter": {
     "source_hidden": true
    },
    "tags": []
   },
   "outputs": [],
   "source": [
    "# Remove this line and add your code here"
   ]
  },
  {
   "cell_type": "markdown",
   "metadata": {},
   "source": [
    "## `continue` \n",
    "\n",
    "Sometimes you don't want to finish the execution of the loop body for certain iterations.\n",
    "\n",
    "In that case, you want to stop the current iteration and continue with the next one.\n",
    "\n",
    "To do so, you can use the `continue` keyword.\n",
    "\n",
    "Let's see how to use it with the following example. "
   ]
  },
  {
   "cell_type": "code",
   "execution_count": null,
   "metadata": {},
   "outputs": [
    {
     "name": "stdout",
     "output_type": "stream",
     "text": [
      "What to do next?  hiuehwuh\n"
     ]
    },
    {
     "name": "stdout",
     "output_type": "stream",
     "text": [
      "Your instruction is hiuehwuh\n"
     ]
    },
    {
     "name": "stdout",
     "output_type": "stream",
     "text": [
      "What to do next?  huihweuhew\n"
     ]
    },
    {
     "name": "stdout",
     "output_type": "stream",
     "text": [
      "Your instruction is huihweuhew\n"
     ]
    },
    {
     "name": "stdout",
     "output_type": "stream",
     "text": [
      "What to do next?  skip\n"
     ]
    }
   ],
   "source": [
    "while True:\n",
    "    instruction = input('What to do next? ')\n",
    "    \n",
    "    if instruction == 'quit':\n",
    "        break\n",
    "    \n",
    "    if instruction == 'skip':\n",
    "        continue\n",
    "        print('Skip this line')\n",
    "        \n",
    "    print('Your instruction is ' + instruction)"
   ]
  },
  {
   "cell_type": "markdown",
   "metadata": {},
   "source": [
    "In this program we ask for input to the user and we print a message saying \"Your instruction is `instruction`\". However, if the input is equal to \"quit\", the program will end. Otherwise, if the input is equal to \"skip\", the current iteration will stop just before printing the message and will continue with the next iteration."
   ]
  },
  {
   "cell_type": "markdown",
   "metadata": {
    "jupyter": {
     "source_hidden": true
    },
    "tags": []
   },
   "source": [
    "```{admonition} Do It Yourself!\n",
    ":class: seealso, dropdown\n",
    "Try to rewrite the <i>while</i> loop without the <i>break</i> and <i>continue</i> statements.\n",
    "```"
   ]
  },
  {
   "cell_type": "code",
   "execution_count": null,
   "metadata": {
    "jupyter": {
     "source_hidden": true
    },
    "tags": []
   },
   "outputs": [],
   "source": [
    "# Remove this line and add your code here"
   ]
  },
  {
   "cell_type": "markdown",
   "metadata": {
    "slideshow": {
     "slide_type": "slide"
    }
   },
   "source": [
    "## While Loops in Detail\n",
    "\n",
    "Let's consider the following cell to understand the flow of control of a `while` loop.\n",
    "\n",
    "* A `while` loop should always have a boolean expression (condition). In the cell  `x < 10` (see line `#2`), but `True` is also fine.\n",
    "* A `while` loop should have at least one statement in the body (see lines `#3` and `#4`). Beware only the indented statements are part of the body, line `#5` is not part of the body.\n",
    "* As long as the evaluation of the condition yields the boolean value `True` (see line `#2`), the statements\n",
    "in the body are executed (see lines `#3` and `#4`). After the execution of the body, the condition is re-evaluated. \n",
    "If the evaluation of the condition yields the value `False`, the statement after the body is executed (see line `#5`).\n",
    "* Removing the indentation on line `#4` leads to a non-terminating loop. **Why?**"
   ]
  },
  {
   "cell_type": "code",
   "execution_count": null,
   "metadata": {},
   "outputs": [],
   "source": [
    "x = 0               #1\n",
    "while x < 10:       #2\n",
    "    print(x)        #3\n",
    "    x = x + 1       #4\n",
    "print(\"Done!\")      #5"
   ]
  },
  {
   "cell_type": "markdown",
   "metadata": {},
   "source": [
    "The program above can be visualised as follows:\n",
    "\n",
    "```{image} assets/flowchart.png\n",
    ":alt: Flowchart of first while loop program\n",
    ":width: 250px\n",
    ":align: center\n",
    "```\n",
    "\n",
    "<div style=\"text-align:center\">\n",
    "    <span style=\"font-size:0.9em; font-weight: bold;\">Flowchart of the first while-loop program.</span>\n",
    "</div>\n",
    "<br>\n",
    "\n",
    "Do you also want to see the `while` loop in action?"
   ]
  },
  {
   "cell_type": "markdown",
   "metadata": {},
   "source": [
    "```{image} assets/while-animation.gif\n",
    ":alt: Animated while loop program\n",
    ":align: center\n",
    "```\n",
    "\n",
    "<div style=\"text-align:center\">\n",
    "    <span style=\"font-size:0.9em; font-weight: bold;\">Animmated while-loop program.</span>\n",
    "</div>\n",
    "<br>\n",
    "<br>"
   ]
  },
  {
   "cell_type": "markdown",
   "metadata": {},
   "source": []
  },
  {
   "cell_type": "code",
   "execution_count": null,
   "metadata": {},
   "outputs": [],
   "source": [
    "x = 0               #1\n",
    "while x < 10:       #2\n",
    "    print(x)        #3\n",
    "x = x + 1           #4\n",
    "print(\"Done!\")      #5"
   ]
  },
  {
   "cell_type": "markdown",
   "metadata": {},
   "source": [
    "The program above can be visualised as follows:\n",
    "\n",
    "```{image} assets/flowchart2.png\n",
    ":alt: Flowchart of second while loop program\n",
    ":width: 250px\n",
    ":align: center\n",
    "```\n",
    "\n",
    "<div style=\"text-align:center\">\n",
    "    <span style=\"font-size:0.9em; font-weight: bold;\">Flowchart of the second while-loop program.</span>\n",
    "</div>\n"
   ]
  },
  {
   "cell_type": "markdown",
   "metadata": {
    "slideshow": {
     "slide_type": "fragment"
    }
   },
   "source": [
    "* The execution of the loop can *always* be terminated via a `break` statement. See line `#6` in the cell below.\n",
    "* Often the `break` statement is used in combination with a conditional. See lines `#5` and `#6`.\n",
    "* This conditional should be part of the loop body, so intended."
   ]
  },
  {
   "cell_type": "code",
   "execution_count": null,
   "metadata": {
    "slideshow": {
     "slide_type": "fragment"
    }
   },
   "outputs": [],
   "source": [
    "x = 0               #1\n",
    "while True:         #2\n",
    "    print(x)        #3\n",
    "    x = x + 1       #4\n",
    "    if x >= 10:     #5\n",
    "        break       #6\n",
    "print(\"Done!\")      #5"
   ]
  },
  {
   "cell_type": "markdown",
   "metadata": {
    "slideshow": {
     "slide_type": "fragment"
    }
   },
   "source": [
    "The program above can be visualised as follows:\n",
    "\n",
    "```{image} assets/flowchart3.png\n",
    ":alt: Flowchart of third while loop program\n",
    ":width: 300px\n",
    ":align: center\n",
    "```\n",
    "\n",
    "<div style=\"text-align:center\">\n",
    "    <span style=\"font-size:0.9em; font-weight: bold;\">Flowchart of the third while-loop program.</span>\n",
    "</div>"
   ]
  },
  {
   "cell_type": "markdown",
   "metadata": {
    "slideshow": {
     "slide_type": "slide"
    }
   },
   "source": [
    "## Square Roots\n",
    "\n",
    "Loops are often used in programs that compute numerical results by starting with an approximate\n",
    "answer and iteratively improving it.\n",
    "\n",
    "For example, one way of computing square roots is Newton’s method.\n",
    "\n",
    "Suppose that you want to know the square root of $a$. \n",
    "\n",
    "If you start with almost any estimate, $x$, you can compute\n",
    "a better estimate with the following formula:\n",
    "\n",
    "$y = \\frac{x + a/x}{2}$\n",
    "\n",
    "For example, if $a$ is 4 and $x$ is 3, we get:"
   ]
  },
  {
   "cell_type": "code",
   "execution_count": null,
   "metadata": {
    "slideshow": {
     "slide_type": "fragment"
    }
   },
   "outputs": [],
   "source": [
    "a = 4\n",
    "x = 3\n",
    "y = (x + a / x) / 2\n",
    "y"
   ]
  },
  {
   "cell_type": "markdown",
   "metadata": {
    "slideshow": {
     "slide_type": "fragment"
    }
   },
   "source": [
    "The result is closer to the correct answer ($\\sqrt{4} = 2$). If we repeat the process with the new\n",
    "estimate, it gets even closer"
   ]
  },
  {
   "cell_type": "code",
   "execution_count": null,
   "metadata": {
    "slideshow": {
     "slide_type": "fragment"
    }
   },
   "outputs": [],
   "source": [
    "x = y\n",
    "y = (x + a / x) / 2\n",
    "y"
   ]
  },
  {
   "cell_type": "markdown",
   "metadata": {
    "slideshow": {
     "slide_type": "fragment"
    }
   },
   "source": [
    "After a few more iterations the results gets more precise."
   ]
  },
  {
   "cell_type": "code",
   "execution_count": null,
   "metadata": {
    "slideshow": {
     "slide_type": "fragment"
    }
   },
   "outputs": [],
   "source": [
    "x = y\n",
    "y = (x + a / x) / 2\n",
    "y"
   ]
  },
  {
   "cell_type": "code",
   "execution_count": null,
   "metadata": {
    "slideshow": {
     "slide_type": "fragment"
    }
   },
   "outputs": [],
   "source": [
    "x = y\n",
    "y = (x + a / x) / 2\n",
    "y"
   ]
  },
  {
   "cell_type": "markdown",
   "metadata": {
    "slideshow": {
     "slide_type": "fragment"
    }
   },
   "source": [
    "After a couple more iterations the value of $y$ is equal to $x$ and thus we can stop."
   ]
  },
  {
   "cell_type": "code",
   "execution_count": null,
   "metadata": {
    "slideshow": {
     "slide_type": "fragment"
    }
   },
   "outputs": [],
   "source": [
    "x = 1\n",
    "a = 4\n",
    "\n",
    "while (True):\n",
    "    print(x)\n",
    "    y = (x + a / x) / 2\n",
    "    \n",
    "    if y == x:\n",
    "        break\n",
    "    \n",
    "    x = y"
   ]
  },
  {
   "cell_type": "markdown",
   "metadata": {
    "slideshow": {
     "slide_type": "fragment"
    }
   },
   "source": [
    "For most values of a this works fine, but in general it is dangerous to test equality on floating point numbers.\n",
    "\n",
    "Floating-point values are only approximately right: most rational numbers, like 1/3, and\n",
    "irrational numbers, like $\\sqrt{2}$ cannot be represented exactly with a float.\n",
    "\n",
    "Rather than checking whether `x` and `y` are exactly equal, it is safer to use the built-in function\n",
    "abs to compute the absolute value, or magnitude, of the difference between them:"
   ]
  },
  {
   "cell_type": "code",
   "execution_count": null,
   "metadata": {
    "slideshow": {
     "slide_type": "fragment"
    }
   },
   "outputs": [],
   "source": [
    "x = 3\n",
    "a = 4\n",
    "epsilon = 0.00000000000001\n",
    "\n",
    "while (True):\n",
    "    print(x)\n",
    "    y = (x + a / x) / 2\n",
    "    \n",
    "    if abs(y - x) < epsilon:\n",
    "        break\n",
    "        \n",
    "    x = y"
   ]
  },
  {
   "cell_type": "markdown",
   "metadata": {
    "slideshow": {
     "slide_type": "fragment"
    }
   },
   "source": [
    "Where `epsilon` has a value like `0.00000000000001` that determines how close is close enough."
   ]
  },
  {
   "cell_type": "markdown",
   "metadata": {},
   "source": [
    "````{margin}\n",
    "```{admonition} EXTRA\n",
    "See what happens if you play with the value of `epsilon`.\n",
    "```\n",
    "````"
   ]
  },
  {
   "cell_type": "markdown",
   "metadata": {},
   "source": [
    "Suppose we want to add all numbers to a number provided via input."
   ]
  },
  {
   "cell_type": "code",
   "execution_count": null,
   "metadata": {},
   "outputs": [],
   "source": [
    "x = 1+2+3+4+5+6+7+8+9+10\n",
    "print(x)"
   ]
  },
  {
   "cell_type": "code",
   "execution_count": null,
   "metadata": {},
   "outputs": [],
   "source": [
    "sx = input()\n",
    "\n",
    "x = int(sx)\n",
    "\n",
    "s = 0\n",
    "while (x > 0):\n",
    "    s = s + x\n",
    "    print(s)\n",
    "    x = x - 1\n",
    "    print(x)\n",
    "\n",
    "print(s)"
   ]
  },
  {
   "cell_type": "code",
   "execution_count": null,
   "metadata": {},
   "outputs": [],
   "source": [
    "inp = input(\"Give a number > 0:\")\n",
    "nr = int(inp)\n",
    "print(nr)\n",
    "\n",
    "cnt = 0\n",
    "tot = 0\n",
    "while (cnt <= nr):\n",
    "    print(cnt)\n",
    "    if (cnt % 2 == 0):\n",
    "        tot += cnt\n",
    "    cnt += 1\n",
    "print(tot)\n",
    "    "
   ]
  }
 ],
 "metadata": {
  "kernelspec": {
   "display_name": "Python 3",
   "language": "python",
   "name": "python3"
  },
  "language_info": {
   "codemirror_mode": {
    "name": "ipython",
    "version": 3
   },
   "file_extension": ".py",
   "mimetype": "text/x-python",
   "name": "python",
   "nbconvert_exporter": "python",
   "pygments_lexer": "ipython3",
   "version": "3.8.8"
  }
 },
 "nbformat": 4,
 "nbformat_minor": 4
}
